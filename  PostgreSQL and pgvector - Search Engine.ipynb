{
 "cells": [
  {
   "cell_type": "markdown",
   "id": "34694bb3",
   "metadata": {},
   "source": [
    "# Building AI-powered search engine in PostgreSQL and pgvector"
   ]
  },
  {
   "cell_type": "code",
   "execution_count": 12,
   "id": "db67f14d",
   "metadata": {},
   "outputs": [
    {
     "name": "stdout",
     "output_type": "stream",
     "text": [
      "bin C:\\Users\\rusla\\.conda\\envs\\textgen\\lib\\site-packages\\bitsandbytes\\libbitsandbytes_cuda117.dll\n"
     ]
    }
   ],
   "source": [
    "import os\n",
    "from dotenv import load_dotenv\n",
    "from langchain.vectorstores.pgvector import PGVector\n",
    "import psycopg2\n",
    "import numpy as np\n",
    "from PIL import Image\n",
    "import pandas as pd\n",
    "from fashion_clip.fashion_clip import FashionCLIP\n"
   ]
  },
  {
   "cell_type": "markdown",
   "id": "8825ca06",
   "metadata": {},
   "source": [
    "## Loading Data"
   ]
  },
  {
   "cell_type": "markdown",
   "id": "0bee3dac",
   "metadata": {},
   "source": [
    "Let's now FashionCLIP first. It's going to take a couple of minutes to download the model from the HuggingFace Hub."
   ]
  },
  {
   "cell_type": "code",
   "execution_count": 13,
   "id": "0d608aa4",
   "metadata": {},
   "outputs": [],
   "source": [
    "%%capture\n",
    "fclip = FashionCLIP('fashion-clip')"
   ]
  },
  {
   "cell_type": "code",
   "execution_count": 14,
   "id": "5c81d87b",
   "metadata": {},
   "outputs": [],
   "source": [
    "#to get the current working directory\n",
    "directory = os.getcwd()\n",
    "# Join various path components\n",
    "path=os.path.join(directory, \"data_for_fashion_clip\", \"subset_data.csv\")"
   ]
  },
  {
   "cell_type": "code",
   "execution_count": 15,
   "id": "120364a3",
   "metadata": {},
   "outputs": [],
   "source": [
    "subset = pd.read_csv(path)"
   ]
  },
  {
   "cell_type": "code",
   "execution_count": 16,
   "id": "caedaab7",
   "metadata": {},
   "outputs": [
    {
     "data": {
      "text/html": [
       "<div>\n",
       "<style scoped>\n",
       "    .dataframe tbody tr th:only-of-type {\n",
       "        vertical-align: middle;\n",
       "    }\n",
       "\n",
       "    .dataframe tbody tr th {\n",
       "        vertical-align: top;\n",
       "    }\n",
       "\n",
       "    .dataframe thead th {\n",
       "        text-align: right;\n",
       "    }\n",
       "</style>\n",
       "<table border=\"1\" class=\"dataframe\">\n",
       "  <thead>\n",
       "    <tr style=\"text-align: right;\">\n",
       "      <th></th>\n",
       "      <th>article_id</th>\n",
       "      <th>product_code</th>\n",
       "      <th>prod_name</th>\n",
       "      <th>product_type_no</th>\n",
       "      <th>product_type_name</th>\n",
       "      <th>product_group_name</th>\n",
       "      <th>graphical_appearance_no</th>\n",
       "      <th>graphical_appearance_name</th>\n",
       "      <th>colour_group_code</th>\n",
       "      <th>colour_group_name</th>\n",
       "      <th>...</th>\n",
       "      <th>department_name</th>\n",
       "      <th>index_code</th>\n",
       "      <th>index_name</th>\n",
       "      <th>index_group_no</th>\n",
       "      <th>index_group_name</th>\n",
       "      <th>section_no</th>\n",
       "      <th>section_name</th>\n",
       "      <th>garment_group_no</th>\n",
       "      <th>garment_group_name</th>\n",
       "      <th>detail_desc</th>\n",
       "    </tr>\n",
       "  </thead>\n",
       "  <tbody>\n",
       "    <tr>\n",
       "      <th>0</th>\n",
       "      <td>108775044</td>\n",
       "      <td>108775</td>\n",
       "      <td>Strap top</td>\n",
       "      <td>253</td>\n",
       "      <td>Vest top</td>\n",
       "      <td>Garment Upper body</td>\n",
       "      <td>1010016</td>\n",
       "      <td>Solid</td>\n",
       "      <td>10</td>\n",
       "      <td>White</td>\n",
       "      <td>...</td>\n",
       "      <td>Jersey Basic</td>\n",
       "      <td>A</td>\n",
       "      <td>Ladieswear</td>\n",
       "      <td>1</td>\n",
       "      <td>Ladieswear</td>\n",
       "      <td>16</td>\n",
       "      <td>Womens Everyday Basics</td>\n",
       "      <td>1002</td>\n",
       "      <td>Jersey Basic</td>\n",
       "      <td>Jersey top with narrow shoulder straps.</td>\n",
       "    </tr>\n",
       "    <tr>\n",
       "      <th>1</th>\n",
       "      <td>176754003</td>\n",
       "      <td>176754</td>\n",
       "      <td>2 Row Braided Headband (1)</td>\n",
       "      <td>74</td>\n",
       "      <td>Hair/alice band</td>\n",
       "      <td>Accessories</td>\n",
       "      <td>1010016</td>\n",
       "      <td>Solid</td>\n",
       "      <td>17</td>\n",
       "      <td>Yellowish Brown</td>\n",
       "      <td>...</td>\n",
       "      <td>Hair Accessories</td>\n",
       "      <td>C</td>\n",
       "      <td>Ladies Accessories</td>\n",
       "      <td>1</td>\n",
       "      <td>Ladieswear</td>\n",
       "      <td>66</td>\n",
       "      <td>Womens Small accessories</td>\n",
       "      <td>1019</td>\n",
       "      <td>Accessories</td>\n",
       "      <td>Two-strand hairband with braids in imitation s...</td>\n",
       "    </tr>\n",
       "    <tr>\n",
       "      <th>2</th>\n",
       "      <td>189634031</td>\n",
       "      <td>189634</td>\n",
       "      <td>Long Leg Leggings</td>\n",
       "      <td>273</td>\n",
       "      <td>Leggings/Tights</td>\n",
       "      <td>Garment Lower body</td>\n",
       "      <td>1010016</td>\n",
       "      <td>Solid</td>\n",
       "      <td>93</td>\n",
       "      <td>Dark Green</td>\n",
       "      <td>...</td>\n",
       "      <td>Basic 1</td>\n",
       "      <td>D</td>\n",
       "      <td>Divided</td>\n",
       "      <td>2</td>\n",
       "      <td>Divided</td>\n",
       "      <td>51</td>\n",
       "      <td>Divided Basics</td>\n",
       "      <td>1002</td>\n",
       "      <td>Jersey Basic</td>\n",
       "      <td>Leggings in stretch jersey with an elasticated...</td>\n",
       "    </tr>\n",
       "  </tbody>\n",
       "</table>\n",
       "<p>3 rows × 25 columns</p>\n",
       "</div>"
      ],
      "text/plain": [
       "   article_id  product_code                   prod_name  product_type_no  \\\n",
       "0   108775044        108775                   Strap top              253   \n",
       "1   176754003        176754  2 Row Braided Headband (1)               74   \n",
       "2   189634031        189634           Long Leg Leggings              273   \n",
       "\n",
       "  product_type_name  product_group_name  graphical_appearance_no  \\\n",
       "0          Vest top  Garment Upper body                  1010016   \n",
       "1   Hair/alice band         Accessories                  1010016   \n",
       "2   Leggings/Tights  Garment Lower body                  1010016   \n",
       "\n",
       "  graphical_appearance_name  colour_group_code colour_group_name  ...  \\\n",
       "0                     Solid                 10             White  ...   \n",
       "1                     Solid                 17   Yellowish Brown  ...   \n",
       "2                     Solid                 93        Dark Green  ...   \n",
       "\n",
       "    department_name index_code          index_name index_group_no  \\\n",
       "0      Jersey Basic          A          Ladieswear              1   \n",
       "1  Hair Accessories          C  Ladies Accessories              1   \n",
       "2           Basic 1          D             Divided              2   \n",
       "\n",
       "   index_group_name section_no              section_name garment_group_no  \\\n",
       "0        Ladieswear         16    Womens Everyday Basics             1002   \n",
       "1        Ladieswear         66  Womens Small accessories             1019   \n",
       "2           Divided         51            Divided Basics             1002   \n",
       "\n",
       "   garment_group_name                                        detail_desc  \n",
       "0        Jersey Basic            Jersey top with narrow shoulder straps.  \n",
       "1         Accessories  Two-strand hairband with braids in imitation s...  \n",
       "2        Jersey Basic  Leggings in stretch jersey with an elasticated...  \n",
       "\n",
       "[3 rows x 25 columns]"
      ]
     },
     "execution_count": 16,
     "metadata": {},
     "output_type": "execute_result"
    }
   ],
   "source": [
    "subset.head(3)"
   ]
  },
  {
   "cell_type": "code",
   "execution_count": 17,
   "id": "30f6dc7d",
   "metadata": {},
   "outputs": [
    {
     "data": {
      "text/plain": [
       "'There are 3104 elements in the dataset'"
      ]
     },
     "execution_count": 17,
     "metadata": {},
     "output_type": "execute_result"
    }
   ],
   "source": [
    "subset.to_csv(\"subset_data.csv\", index=False)\n",
    "f\"There are {len(subset)} elements in the dataset\""
   ]
  },
  {
   "cell_type": "markdown",
   "id": "711d897d",
   "metadata": {},
   "source": [
    "##  Task 1: Creating a products table with vector data type and ingesting the data using PGVector\n"
   ]
  },
  {
   "cell_type": "code",
   "execution_count": 18,
   "id": "3a938645",
   "metadata": {},
   "outputs": [
    {
     "name": "stderr",
     "output_type": "stream",
     "text": [
      "100%|██████████████████████████████████████████████████████████████████████████████████| 97/97 [06:08<00:00,  3.80s/it]\n"
     ]
    },
    {
     "data": {
      "application/vnd.jupyter.widget-view+json": {
       "model_id": "7b476a33a8ba4180a47a121c79a415ba",
       "version_major": 2,
       "version_minor": 0
      },
      "text/plain": [
       "Map:   0%|          | 0/3104 [00:00<?, ? examples/s]"
      ]
     },
     "metadata": {},
     "output_type": "display_data"
    },
    {
     "name": "stderr",
     "output_type": "stream",
     "text": [
      "100%|██████████████████████████████████████████████████████████████████████████████████| 97/97 [00:10<00:00,  9.63it/s]\n"
     ]
    }
   ],
   "source": [
    "# Assuming you have already obtained the image and text embeddings\n",
    "images = [\"data_for_fashion_clip/\" + str(k) + \".jpg\" for k in subset[\"article_id\"].tolist()]\n",
    "texts = subset[\"detail_desc\"].tolist()\n",
    "\n",
    "# Create image embeddings and text embeddings\n",
    "image_embeddings = fclip.encode_images(images, batch_size=32)\n",
    "text_embeddings = fclip.encode_text(texts, batch_size=32)\n",
    "\n",
    "# Normalize the embeddings to unit norm\n",
    "image_embeddings = image_embeddings / np.linalg.norm(image_embeddings, ord=2, axis=-1, keepdims=True)\n",
    "text_embeddings = text_embeddings / np.linalg.norm(text_embeddings, ord=2, axis=-1, keepdims=True)"
   ]
  },
  {
   "cell_type": "markdown",
   "id": "8052fa9c",
   "metadata": {},
   "source": [
    "## Task 2 : Connection to the Server"
   ]
  },
  {
   "cell_type": "code",
   "execution_count": null,
   "id": "3d1a05fb",
   "metadata": {},
   "outputs": [],
   "source": [
    "# Load the .env file\n",
    "load_dotenv()\n",
    "\n",
    "# Get the values from the .env file\n",
    "user = os.getenv(\"DB_USER\")\n",
    "password = os.getenv(\"DB_PASSWORD\")\n",
    "database = os.getenv(\"DB_NAME\")\n",
    "server = \"af651cca01b154fe28a0df0167cad5a7-844854289.us-east-2.elb.amazonaws.com\"\n",
    "# Construct the connection string\n",
    "CONNECTION_STRING = f\"postgresql+psycopg://{user}:{password}@{server}:5432/{database}\"\n",
    "# Establish connection to PostgreSQL\n",
    "conn = psycopg2.connect(CONNECTION_STRING)\n",
    "    "
   ]
  },
  {
   "cell_type": "code",
   "execution_count": null,
   "id": "2d54d0dd",
   "metadata": {},
   "outputs": [],
   "source": []
  },
  {
   "cell_type": "code",
   "execution_count": 56,
   "id": "042c078f",
   "metadata": {},
   "outputs": [
    {
     "data": {
      "application/vnd.jupyter.widget-view+json": {
       "model_id": "c588b25d06714aabade059f266dc7ea4",
       "version_major": 2,
       "version_minor": 0
      },
      "text/plain": [
       "Map:   0%|          | 0/1 [00:00<?, ? examples/s]"
      ]
     },
     "metadata": {},
     "output_type": "display_data"
    },
    {
     "name": "stderr",
     "output_type": "stream",
     "text": [
      "1it [00:00, 21.97it/s]\n"
     ]
    }
   ],
   "source": [
    "text_embedding = fclip.encode_text([\"a pair of pink shorts\"], batch_size=32)[0]"
   ]
  },
  {
   "cell_type": "code",
   "execution_count": null,
   "id": "4d29fe79",
   "metadata": {},
   "outputs": [],
   "source": []
  },
  {
   "cell_type": "code",
   "execution_count": null,
   "id": "966e5170",
   "metadata": {},
   "outputs": [],
   "source": []
  },
  {
   "cell_type": "code",
   "execution_count": 47,
   "id": "fd207181",
   "metadata": {},
   "outputs": [],
   "source": [
    "import psycopg2\n",
    "# Establish connection to the PostgreSQL Docker container\n",
    "conn = psycopg2.connect(\n",
    "    host=\"localhost\",\n",
    "    port=5432,\n",
    "    user=\"vectordb\",\n",
    "    password=\"vectordb\",\n",
    "    database=\"vectordb\"\n",
    ")"
   ]
  },
  {
   "cell_type": "code",
   "execution_count": 48,
   "id": "d63f525e",
   "metadata": {},
   "outputs": [
    {
     "name": "stdout",
     "output_type": "stream",
     "text": [
      "Connection successful!\n",
      "PostgreSQL version: PostgreSQL 16.1 (Debian 16.1-1.pgdg120+1) on x86_64-pc-linux-gnu, compiled by gcc (Debian 12.2.0-14) 12.2.0, 64-bit\n"
     ]
    }
   ],
   "source": [
    "# Create a cursor object\n",
    "cursor = conn.cursor()\n",
    "\n",
    "# Execute a test query\n",
    "cursor.execute(\"SELECT version();\")\n",
    "\n",
    "# Fetch the result\n",
    "result = cursor.fetchone()\n",
    "print(\"Connection successful!\")\n",
    "print(\"PostgreSQL version:\", result[0])\n",
    "\n",
    "# Close the cursor and connection\n",
    "cursor.close()\n",
    "#conn.close()"
   ]
  },
  {
   "cell_type": "code",
   "execution_count": 49,
   "id": "5ef1cb65",
   "metadata": {},
   "outputs": [],
   "source": [
    "from langchain.embeddings import OpenAIEmbeddings\n",
    "from langchain.embeddings import HuggingFaceEmbeddings\n",
    "#embeddings = OpenAIEmbeddings()\n",
    "embeddings_model_name = \"sentence-transformers/all-MiniLM-L6-v2\"\n",
    "embeddings = HuggingFaceEmbeddings(model_name=embeddings_model_name)"
   ]
  },
  {
   "cell_type": "code",
   "execution_count": 59,
   "id": "b16ffb97",
   "metadata": {},
   "outputs": [],
   "source": [
    "from sentence_transformers import SentenceTransformer\n",
    "\n",
    "# Define the model\n",
    "embeddings_model_name = \"sentence-transformers/all-MiniLM-L6-v2\"\n",
    "model = SentenceTransformer(embeddings_model_name)\n",
    "\n",
    "# Sample text for embedding\n",
    "#text_to_embed = \"This is a sample text for embedding.\"\n",
    "\n",
    "# Get the embedding for the text\n",
    "#embedding = model.encode([text_to_embed])\n",
    "\n",
    "# The 'embedding' variable now contains the vector representation of the input text\n",
    "#print(\"Embedding:\", embedding)"
   ]
  },
  {
   "cell_type": "code",
   "execution_count": null,
   "id": "967838c9",
   "metadata": {},
   "outputs": [],
   "source": []
  },
  {
   "cell_type": "code",
   "execution_count": null,
   "id": "5e640706",
   "metadata": {},
   "outputs": [],
   "source": []
  },
  {
   "cell_type": "code",
   "execution_count": null,
   "id": "4086797d",
   "metadata": {},
   "outputs": [],
   "source": []
  },
  {
   "cell_type": "code",
   "execution_count": 50,
   "id": "b404a912",
   "metadata": {},
   "outputs": [],
   "source": []
  },
  {
   "cell_type": "code",
   "execution_count": 51,
   "id": "444c7fe4",
   "metadata": {},
   "outputs": [],
   "source": [
    "# Create a PGVector instance with the appropriate embedding function\n",
    "#pgv = PGVector(conn)"
   ]
  },
  {
   "cell_type": "code",
   "execution_count": 52,
   "id": "68badb43",
   "metadata": {},
   "outputs": [],
   "source": [
    "# Define the embedding function\n",
    "def function_fclip(vector):\n",
    "    return fclip.encode_images(vector[0], batch_size=32)[0], fclip.encode_text(vector[1], batch_size=32)[0]\n",
    "\n"
   ]
  },
  {
   "cell_type": "code",
   "execution_count": 53,
   "id": "fe359866",
   "metadata": {},
   "outputs": [
    {
     "data": {
      "text/plain": [
       "(3104, 512)"
      ]
     },
     "execution_count": 53,
     "metadata": {},
     "output_type": "execute_result"
    }
   ],
   "source": [
    "image_embeddings.shape"
   ]
  },
  {
   "cell_type": "code",
   "execution_count": 54,
   "id": "ce9ad82a",
   "metadata": {},
   "outputs": [
    {
     "data": {
      "text/plain": [
       "(3104, 512)"
      ]
     },
     "execution_count": 54,
     "metadata": {},
     "output_type": "execute_result"
    }
   ],
   "source": [
    "text_embeddings.shape"
   ]
  },
  {
   "cell_type": "code",
   "execution_count": 55,
   "id": "4d175bde",
   "metadata": {},
   "outputs": [
    {
     "ename": "ArgumentError",
     "evalue": "Expected string or URL object, got <connection object at 0x00000205CEC23670; dsn: 'user=vectordb password=xxx dbname=vectordb host=localhost port=5432', closed: 0>",
     "output_type": "error",
     "traceback": [
      "\u001b[1;31m---------------------------------------------------------------------------\u001b[0m",
      "\u001b[1;31mArgumentError\u001b[0m                             Traceback (most recent call last)",
      "Cell \u001b[1;32mIn[55], line 2\u001b[0m\n\u001b[0;32m      1\u001b[0m \u001b[38;5;66;03m# Create a PGVector instance with the embedding function\u001b[39;00m\n\u001b[1;32m----> 2\u001b[0m pgv \u001b[38;5;241m=\u001b[39m \u001b[43mPGVector\u001b[49m\u001b[43m(\u001b[49m\u001b[43mconn\u001b[49m\u001b[43m,\u001b[49m\u001b[43m \u001b[49m\u001b[43membedding_function\u001b[49m\u001b[38;5;241;43m=\u001b[39;49m\u001b[43membeddings\u001b[49m\u001b[43m)\u001b[49m\n",
      "File \u001b[1;32m~\\.conda\\envs\\textgen\\lib\\site-packages\\langchain_community\\vectorstores\\pgvector.py:211\u001b[0m, in \u001b[0;36mPGVector.__init__\u001b[1;34m(self, connection_string, embedding_function, embedding_length, collection_name, collection_metadata, distance_strategy, pre_delete_collection, logger, relevance_score_fn, connection, engine_args)\u001b[0m\n\u001b[0;32m    209\u001b[0m \u001b[38;5;28mself\u001b[39m\u001b[38;5;241m.\u001b[39moverride_relevance_score_fn \u001b[38;5;241m=\u001b[39m relevance_score_fn\n\u001b[0;32m    210\u001b[0m \u001b[38;5;28mself\u001b[39m\u001b[38;5;241m.\u001b[39mengine_args \u001b[38;5;241m=\u001b[39m engine_args \u001b[38;5;129;01mor\u001b[39;00m {}\n\u001b[1;32m--> 211\u001b[0m \u001b[38;5;28mself\u001b[39m\u001b[38;5;241m.\u001b[39m_bind \u001b[38;5;241m=\u001b[39m connection \u001b[38;5;28;01mif\u001b[39;00m connection \u001b[38;5;28;01melse\u001b[39;00m \u001b[38;5;28;43mself\u001b[39;49m\u001b[38;5;241;43m.\u001b[39;49m\u001b[43m_create_engine\u001b[49m\u001b[43m(\u001b[49m\u001b[43m)\u001b[49m\n\u001b[0;32m    212\u001b[0m \u001b[38;5;28mself\u001b[39m\u001b[38;5;241m.\u001b[39m__post_init__()\n",
      "File \u001b[1;32m~\\.conda\\envs\\textgen\\lib\\site-packages\\langchain_community\\vectorstores\\pgvector.py:237\u001b[0m, in \u001b[0;36mPGVector._create_engine\u001b[1;34m(self)\u001b[0m\n\u001b[0;32m    236\u001b[0m \u001b[38;5;28;01mdef\u001b[39;00m \u001b[38;5;21m_create_engine\u001b[39m(\u001b[38;5;28mself\u001b[39m) \u001b[38;5;241m-\u001b[39m\u001b[38;5;241m>\u001b[39m sqlalchemy\u001b[38;5;241m.\u001b[39mengine\u001b[38;5;241m.\u001b[39mEngine:\n\u001b[1;32m--> 237\u001b[0m     \u001b[38;5;28;01mreturn\u001b[39;00m sqlalchemy\u001b[38;5;241m.\u001b[39mcreate_engine(url\u001b[38;5;241m=\u001b[39m\u001b[38;5;28mself\u001b[39m\u001b[38;5;241m.\u001b[39mconnection_string, \u001b[38;5;241m*\u001b[39m\u001b[38;5;241m*\u001b[39m\u001b[38;5;28mself\u001b[39m\u001b[38;5;241m.\u001b[39mengine_args)\n",
      "File \u001b[1;32m<string>:2\u001b[0m, in \u001b[0;36mcreate_engine\u001b[1;34m(url, **kwargs)\u001b[0m\n",
      "File \u001b[1;32m~\\.conda\\envs\\textgen\\lib\\site-packages\\sqlalchemy\\util\\deprecations.py:281\u001b[0m, in \u001b[0;36mdeprecated_params.<locals>.decorate.<locals>.warned\u001b[1;34m(fn, *args, **kwargs)\u001b[0m\n\u001b[0;32m    274\u001b[0m     \u001b[38;5;28;01mif\u001b[39;00m m \u001b[38;5;129;01min\u001b[39;00m kwargs:\n\u001b[0;32m    275\u001b[0m         _warn_with_version(\n\u001b[0;32m    276\u001b[0m             messages[m],\n\u001b[0;32m    277\u001b[0m             versions[m],\n\u001b[0;32m    278\u001b[0m             version_warnings[m],\n\u001b[0;32m    279\u001b[0m             stacklevel\u001b[38;5;241m=\u001b[39m\u001b[38;5;241m3\u001b[39m,\n\u001b[0;32m    280\u001b[0m         )\n\u001b[1;32m--> 281\u001b[0m \u001b[38;5;28;01mreturn\u001b[39;00m fn(\u001b[38;5;241m*\u001b[39margs, \u001b[38;5;241m*\u001b[39m\u001b[38;5;241m*\u001b[39mkwargs)\n",
      "File \u001b[1;32m~\\.conda\\envs\\textgen\\lib\\site-packages\\sqlalchemy\\engine\\create.py:548\u001b[0m, in \u001b[0;36mcreate_engine\u001b[1;34m(url, **kwargs)\u001b[0m\n\u001b[0;32m    545\u001b[0m kwargs\u001b[38;5;241m.\u001b[39mpop(\u001b[38;5;124m\"\u001b[39m\u001b[38;5;124mempty_in_strategy\u001b[39m\u001b[38;5;124m\"\u001b[39m, \u001b[38;5;28;01mNone\u001b[39;00m)\n\u001b[0;32m    547\u001b[0m \u001b[38;5;66;03m# create url.URL object\u001b[39;00m\n\u001b[1;32m--> 548\u001b[0m u \u001b[38;5;241m=\u001b[39m \u001b[43m_url\u001b[49m\u001b[38;5;241;43m.\u001b[39;49m\u001b[43mmake_url\u001b[49m\u001b[43m(\u001b[49m\u001b[43murl\u001b[49m\u001b[43m)\u001b[49m\n\u001b[0;32m    550\u001b[0m u, plugins, kwargs \u001b[38;5;241m=\u001b[39m u\u001b[38;5;241m.\u001b[39m_instantiate_plugins(kwargs)\n\u001b[0;32m    552\u001b[0m entrypoint \u001b[38;5;241m=\u001b[39m u\u001b[38;5;241m.\u001b[39m_get_entrypoint()\n",
      "File \u001b[1;32m~\\.conda\\envs\\textgen\\lib\\site-packages\\sqlalchemy\\engine\\url.py:842\u001b[0m, in \u001b[0;36mmake_url\u001b[1;34m(name_or_url)\u001b[0m\n\u001b[0;32m    838\u001b[0m     \u001b[38;5;28;01mreturn\u001b[39;00m _parse_url(name_or_url)\n\u001b[0;32m    839\u001b[0m \u001b[38;5;28;01melif\u001b[39;00m \u001b[38;5;129;01mnot\u001b[39;00m \u001b[38;5;28misinstance\u001b[39m(name_or_url, URL) \u001b[38;5;129;01mand\u001b[39;00m \u001b[38;5;129;01mnot\u001b[39;00m \u001b[38;5;28mhasattr\u001b[39m(\n\u001b[0;32m    840\u001b[0m     name_or_url, \u001b[38;5;124m\"\u001b[39m\u001b[38;5;124m_sqla_is_testing_if_this_is_a_mock_object\u001b[39m\u001b[38;5;124m\"\u001b[39m\n\u001b[0;32m    841\u001b[0m ):\n\u001b[1;32m--> 842\u001b[0m     \u001b[38;5;28;01mraise\u001b[39;00m exc\u001b[38;5;241m.\u001b[39mArgumentError(\n\u001b[0;32m    843\u001b[0m         \u001b[38;5;124mf\u001b[39m\u001b[38;5;124m\"\u001b[39m\u001b[38;5;124mExpected string or URL object, got \u001b[39m\u001b[38;5;132;01m{\u001b[39;00mname_or_url\u001b[38;5;132;01m!r}\u001b[39;00m\u001b[38;5;124m\"\u001b[39m\n\u001b[0;32m    844\u001b[0m     )\n\u001b[0;32m    845\u001b[0m \u001b[38;5;28;01melse\u001b[39;00m:\n\u001b[0;32m    846\u001b[0m     \u001b[38;5;28;01mreturn\u001b[39;00m name_or_url\n",
      "\u001b[1;31mArgumentError\u001b[0m: Expected string or URL object, got <connection object at 0x00000205CEC23670; dsn: 'user=vectordb password=xxx dbname=vectordb host=localhost port=5432', closed: 0>"
     ]
    }
   ],
   "source": [
    "# Create a PGVector instance with the embedding function\n",
    "pgv = PGVector(conn, embedding_function=embeddings)"
   ]
  },
  {
   "cell_type": "code",
   "execution_count": null,
   "id": "9eba3398",
   "metadata": {},
   "outputs": [],
   "source": [
    "# Create a products table with a vector column for embeddings\n",
    "pgv.create_table(\"products\", {\"embedding\": \"vector\"})\n",
    "\n",
    "# Insert text embeddings into the products table\n",
    "for text_embedding in text_embeddings:\n",
    "    pgv.insert(\"products\", {\"embedding\": text_embedding})\n",
    "\n",
    "\n",
    "# Insert image embeddings into the products table\n",
    "for image_embedding in image_embeddings:\n",
    "    pgv.insert(\"products\", {\"embedding\": image_embedding})\n",
    "\n",
    "\n",
    "# Create an index for similarity search\n",
    "pgv.create_index(\"products\", \"embedding\", \"ivfflat\")\n",
    "\n",
    "# Close the connection\n",
    "conn.close()"
   ]
  },
  {
   "cell_type": "code",
   "execution_count": null,
   "id": "66de1706",
   "metadata": {},
   "outputs": [],
   "source": [
    "# Task 2: Creating a product search engine\n",
    "\n",
    "# Establish connection to PostgreSQL\n",
    "conn = psycopg2.connect(CONNECTION_STRING)\n",
    "\n",
    "# Create a PGVector instance\n",
    "pgv = PGVector(conn)\n",
    "\n",
    "# Embed the textual query\n",
    "text_embedding = fclip.encode_text([\"a pair of pink shorts\"], batch_size=32)[0]\n",
    "\n",
    "# Perform a similarity search on the products table\n",
    "results = pgv.search(\"products\", text_embedding, limit=10)\n",
    "\n",
    "# Get the IDs of the matched objects\n",
    "matched_ids = [result[\"id\"] for result in results]\n",
    "\n",
    "# Load the corresponding images\n",
    "images = []\n",
    "for id in matched_ids:\n",
    "    image_path = f\"data_for_fashion_clip/{id}.jpg\"\n",
    "    image = Image.open(image_path)\n",
    "    images.append(image)\n",
    "\n",
    "# Rank the images by similarity with the query vector\n",
    "similarity_scores = np.dot(results[\"embedding\"], text_embedding)\n",
    "ranked_images = [image for _, image in sorted(zip(similarity_scores, images), reverse=True)]\n",
    "\n",
    "# Close the connection\n",
    "conn.close()"
   ]
  }
 ],
 "metadata": {
  "kernelspec": {
   "display_name": "Python (textgen)",
   "language": "python",
   "name": "texgen"
  },
  "language_info": {
   "codemirror_mode": {
    "name": "ipython",
    "version": 3
   },
   "file_extension": ".py",
   "mimetype": "text/x-python",
   "name": "python",
   "nbconvert_exporter": "python",
   "pygments_lexer": "ipython3",
   "version": "3.10.9"
  }
 },
 "nbformat": 4,
 "nbformat_minor": 5
}
