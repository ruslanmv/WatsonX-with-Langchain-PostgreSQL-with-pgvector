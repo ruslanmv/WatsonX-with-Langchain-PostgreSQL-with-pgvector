{
 "cells": [
  {
   "cell_type": "markdown",
   "id": "08aa0898",
   "metadata": {},
   "source": [
    "# Building AI-powered search engine in PostgreSQL and pgvector"
   ]
  },
  {
   "cell_type": "code",
   "execution_count": 1,
   "id": "d94853ce",
   "metadata": {},
   "outputs": [
    {
     "name": "stdout",
     "output_type": "stream",
     "text": [
      "bin C:\\Users\\rusla\\.conda\\envs\\textgen\\lib\\site-packages\\bitsandbytes\\libbitsandbytes_cuda117.dll\n"
     ]
    }
   ],
   "source": [
    "import os\n",
    "from dotenv import load_dotenv\n",
    "from langchain.vectorstores.pgvector import PGVector\n",
    "import psycopg2\n",
    "import numpy as np\n",
    "from PIL import Image\n",
    "import pandas as pd\n",
    "from fashion_clip.fashion_clip import FashionCLIP"
   ]
  },
  {
   "cell_type": "markdown",
   "id": "673a1026",
   "metadata": {},
   "source": [
    "## Loading Data"
   ]
  },
  {
   "cell_type": "markdown",
   "id": "72c17458",
   "metadata": {},
   "source": [
    "Let's now FashionCLIP first. It's going to take a couple of minutes to download the model from the HuggingFace Hub."
   ]
  },
  {
   "cell_type": "code",
   "execution_count": 2,
   "id": "99bce4ce",
   "metadata": {},
   "outputs": [],
   "source": [
    "#%%capture\n",
    "fclip = FashionCLIP('fashion-clip')"
   ]
  },
  {
   "cell_type": "code",
   "execution_count": 3,
   "id": "f721655a",
   "metadata": {},
   "outputs": [],
   "source": [
    "#to get the current working directory\n",
    "directory = os.getcwd()\n",
    "# Join various path components\n",
    "path=os.path.join(directory, \"data_for_fashion_clip\", \"subset_data.csv\")"
   ]
  },
  {
   "cell_type": "code",
   "execution_count": 4,
   "id": "d5c8c8ee",
   "metadata": {},
   "outputs": [],
   "source": [
    "subset = pd.read_csv(path)"
   ]
  },
  {
   "cell_type": "code",
   "execution_count": 5,
   "id": "8200c5f0",
   "metadata": {},
   "outputs": [
    {
     "data": {
      "text/html": [
       "<div>\n",
       "<style scoped>\n",
       "    .dataframe tbody tr th:only-of-type {\n",
       "        vertical-align: middle;\n",
       "    }\n",
       "\n",
       "    .dataframe tbody tr th {\n",
       "        vertical-align: top;\n",
       "    }\n",
       "\n",
       "    .dataframe thead th {\n",
       "        text-align: right;\n",
       "    }\n",
       "</style>\n",
       "<table border=\"1\" class=\"dataframe\">\n",
       "  <thead>\n",
       "    <tr style=\"text-align: right;\">\n",
       "      <th></th>\n",
       "      <th>article_id</th>\n",
       "      <th>product_code</th>\n",
       "      <th>prod_name</th>\n",
       "      <th>product_type_no</th>\n",
       "      <th>product_type_name</th>\n",
       "      <th>product_group_name</th>\n",
       "      <th>graphical_appearance_no</th>\n",
       "      <th>graphical_appearance_name</th>\n",
       "      <th>colour_group_code</th>\n",
       "      <th>colour_group_name</th>\n",
       "      <th>...</th>\n",
       "      <th>department_name</th>\n",
       "      <th>index_code</th>\n",
       "      <th>index_name</th>\n",
       "      <th>index_group_no</th>\n",
       "      <th>index_group_name</th>\n",
       "      <th>section_no</th>\n",
       "      <th>section_name</th>\n",
       "      <th>garment_group_no</th>\n",
       "      <th>garment_group_name</th>\n",
       "      <th>detail_desc</th>\n",
       "    </tr>\n",
       "  </thead>\n",
       "  <tbody>\n",
       "    <tr>\n",
       "      <th>0</th>\n",
       "      <td>108775044</td>\n",
       "      <td>108775</td>\n",
       "      <td>Strap top</td>\n",
       "      <td>253</td>\n",
       "      <td>Vest top</td>\n",
       "      <td>Garment Upper body</td>\n",
       "      <td>1010016</td>\n",
       "      <td>Solid</td>\n",
       "      <td>10</td>\n",
       "      <td>White</td>\n",
       "      <td>...</td>\n",
       "      <td>Jersey Basic</td>\n",
       "      <td>A</td>\n",
       "      <td>Ladieswear</td>\n",
       "      <td>1</td>\n",
       "      <td>Ladieswear</td>\n",
       "      <td>16</td>\n",
       "      <td>Womens Everyday Basics</td>\n",
       "      <td>1002</td>\n",
       "      <td>Jersey Basic</td>\n",
       "      <td>Jersey top with narrow shoulder straps.</td>\n",
       "    </tr>\n",
       "    <tr>\n",
       "      <th>1</th>\n",
       "      <td>176754003</td>\n",
       "      <td>176754</td>\n",
       "      <td>2 Row Braided Headband (1)</td>\n",
       "      <td>74</td>\n",
       "      <td>Hair/alice band</td>\n",
       "      <td>Accessories</td>\n",
       "      <td>1010016</td>\n",
       "      <td>Solid</td>\n",
       "      <td>17</td>\n",
       "      <td>Yellowish Brown</td>\n",
       "      <td>...</td>\n",
       "      <td>Hair Accessories</td>\n",
       "      <td>C</td>\n",
       "      <td>Ladies Accessories</td>\n",
       "      <td>1</td>\n",
       "      <td>Ladieswear</td>\n",
       "      <td>66</td>\n",
       "      <td>Womens Small accessories</td>\n",
       "      <td>1019</td>\n",
       "      <td>Accessories</td>\n",
       "      <td>Two-strand hairband with braids in imitation s...</td>\n",
       "    </tr>\n",
       "    <tr>\n",
       "      <th>2</th>\n",
       "      <td>189634031</td>\n",
       "      <td>189634</td>\n",
       "      <td>Long Leg Leggings</td>\n",
       "      <td>273</td>\n",
       "      <td>Leggings/Tights</td>\n",
       "      <td>Garment Lower body</td>\n",
       "      <td>1010016</td>\n",
       "      <td>Solid</td>\n",
       "      <td>93</td>\n",
       "      <td>Dark Green</td>\n",
       "      <td>...</td>\n",
       "      <td>Basic 1</td>\n",
       "      <td>D</td>\n",
       "      <td>Divided</td>\n",
       "      <td>2</td>\n",
       "      <td>Divided</td>\n",
       "      <td>51</td>\n",
       "      <td>Divided Basics</td>\n",
       "      <td>1002</td>\n",
       "      <td>Jersey Basic</td>\n",
       "      <td>Leggings in stretch jersey with an elasticated...</td>\n",
       "    </tr>\n",
       "  </tbody>\n",
       "</table>\n",
       "<p>3 rows × 25 columns</p>\n",
       "</div>"
      ],
      "text/plain": [
       "   article_id  product_code                   prod_name  product_type_no  \\\n",
       "0   108775044        108775                   Strap top              253   \n",
       "1   176754003        176754  2 Row Braided Headband (1)               74   \n",
       "2   189634031        189634           Long Leg Leggings              273   \n",
       "\n",
       "  product_type_name  product_group_name  graphical_appearance_no  \\\n",
       "0          Vest top  Garment Upper body                  1010016   \n",
       "1   Hair/alice band         Accessories                  1010016   \n",
       "2   Leggings/Tights  Garment Lower body                  1010016   \n",
       "\n",
       "  graphical_appearance_name  colour_group_code colour_group_name  ...  \\\n",
       "0                     Solid                 10             White  ...   \n",
       "1                     Solid                 17   Yellowish Brown  ...   \n",
       "2                     Solid                 93        Dark Green  ...   \n",
       "\n",
       "    department_name index_code          index_name index_group_no  \\\n",
       "0      Jersey Basic          A          Ladieswear              1   \n",
       "1  Hair Accessories          C  Ladies Accessories              1   \n",
       "2           Basic 1          D             Divided              2   \n",
       "\n",
       "   index_group_name section_no              section_name garment_group_no  \\\n",
       "0        Ladieswear         16    Womens Everyday Basics             1002   \n",
       "1        Ladieswear         66  Womens Small accessories             1019   \n",
       "2           Divided         51            Divided Basics             1002   \n",
       "\n",
       "   garment_group_name                                        detail_desc  \n",
       "0        Jersey Basic            Jersey top with narrow shoulder straps.  \n",
       "1         Accessories  Two-strand hairband with braids in imitation s...  \n",
       "2        Jersey Basic  Leggings in stretch jersey with an elasticated...  \n",
       "\n",
       "[3 rows x 25 columns]"
      ]
     },
     "execution_count": 5,
     "metadata": {},
     "output_type": "execute_result"
    }
   ],
   "source": [
    "subset.head(3)"
   ]
  },
  {
   "cell_type": "code",
   "execution_count": 6,
   "id": "722b5543",
   "metadata": {},
   "outputs": [
    {
     "data": {
      "text/plain": [
       "'There are 3104 elements in the dataset'"
      ]
     },
     "execution_count": 6,
     "metadata": {},
     "output_type": "execute_result"
    }
   ],
   "source": [
    "subset.to_csv(\"subset_data.csv\", index=False)\n",
    "f\"There are {len(subset)} elements in the dataset\""
   ]
  },
  {
   "cell_type": "markdown",
   "id": "4f14d508",
   "metadata": {},
   "source": [
    "##  Task 1: Creating a products table with vector data type and ingesting the data using PGVector\n"
   ]
  },
  {
   "cell_type": "code",
   "execution_count": 95,
   "id": "11ce3dff",
   "metadata": {},
   "outputs": [
    {
     "name": "stderr",
     "output_type": "stream",
     "text": [
      "100%|██████████████████████████████████████████████████████████████████████████████████| 97/97 [05:30<00:00,  3.40s/it]\n"
     ]
    },
    {
     "data": {
      "application/vnd.jupyter.widget-view+json": {
       "model_id": "effc0a2f426b4176b8b6e21266f5e3b5",
       "version_major": 2,
       "version_minor": 0
      },
      "text/plain": [
       "Map:   0%|          | 0/3104 [00:00<?, ? examples/s]"
      ]
     },
     "metadata": {},
     "output_type": "display_data"
    },
    {
     "name": "stderr",
     "output_type": "stream",
     "text": [
      "100%|██████████████████████████████████████████████████████████████████████████████████| 97/97 [00:11<00:00,  8.37it/s]\n"
     ]
    }
   ],
   "source": [
    "# Assuming you have already obtained the image and text embeddings\n",
    "images = [\"data_for_fashion_clip/\" + str(k) + \".jpg\" for k in subset[\"article_id\"].tolist()]\n",
    "texts = subset[\"detail_desc\"].tolist()\n",
    "article_id=subset[\"article_id\"].tolist()\n",
    "\n",
    "# Create image embeddings and text embeddings\n",
    "image_embeddings = fclip.encode_images(images, batch_size=32)\n",
    "text_embeddings = fclip.encode_text(texts, batch_size=32)\n",
    "\n",
    "# Normalize the embeddings to unit norm\n",
    "image_embeddings = image_embeddings / np.linalg.norm(image_embeddings, ord=2, axis=-1, keepdims=True)\n",
    "text_embeddings = text_embeddings / np.linalg.norm(text_embeddings, ord=2, axis=-1, keepdims=True)"
   ]
  },
  {
   "cell_type": "markdown",
   "id": "5618e216",
   "metadata": {},
   "source": [
    "# Utils "
   ]
  },
  {
   "cell_type": "code",
   "execution_count": 8,
   "id": "8dd41505",
   "metadata": {},
   "outputs": [],
   "source": [
    "def test_connection(conn):\n",
    "    # Create a cursor object\n",
    "    cursor = conn.cursor()\n",
    "    # Execute a test query\n",
    "    cursor.execute(\"SELECT version();\")\n",
    "    # Fetch the result\n",
    "    result = cursor.fetchone()\n",
    "    print(\"Connection successful!\")\n",
    "    print(\"PostgreSQL version:\", result[0])\n",
    "    # Close the cursor and connection\n",
    "    cursor.close()\n",
    "    #conn.close()"
   ]
  },
  {
   "cell_type": "code",
   "execution_count": 56,
   "id": "f2952fd4",
   "metadata": {},
   "outputs": [],
   "source": [
    "import numpy as np\n",
    "import psycopg2\n",
    "\n",
    "# Define the embedding function\n",
    "def my_embedding_function(text):\n",
    "    # Generate text embeddings using fclip.encode_text\n",
    "    text_embeddings = fclip.encode_text([text], batch_size=1)\n",
    "    # Normalize the embeddings to unit norm\n",
    "    text_embeddings = text_embeddings / np.linalg.norm(text_embeddings, ord=2, axis=-1, keepdims=True)\n",
    "    return text_embeddings[0]  # Return the single text embedding\n"
   ]
  },
  {
   "cell_type": "markdown",
   "id": "4c1ddd31",
   "metadata": {},
   "source": [
    "## Task 2 : Connection to the Server\n",
    "Connect to server for PostgreSQL and create a products table with the vector data type and ingest the data. Then, create an index for the similarity search for finding the nearest L2 distance neighbors."
   ]
  },
  {
   "cell_type": "code",
   "execution_count": 184,
   "id": "c89724d6",
   "metadata": {},
   "outputs": [],
   "source": [
    "import psycopg2\n",
    "from pgvector.psycopg2 import register_vector\n",
    "# Establish connection to the PostgreSQL Docker container\n",
    "conn = psycopg2.connect(\n",
    "    host=\"localhost\",\n",
    "    port=5432,\n",
    "    user=\"testuser\",\n",
    "    password=\"testpwd\",\n",
    "    database=\"vectordb\"\n",
    ")\n",
    "\n",
    "# Create a cursor object to execute SQL queries\n",
    "cursor = conn.cursor()\n",
    "\n",
    "# Define the SQL query to drop the table if it exists\n",
    "drop_table_query = \"DROP TABLE IF EXISTS products;\"\n",
    "\n",
    "# Execute the SQL query to drop the table\n",
    "cursor.execute(drop_table_query)\n",
    "\n",
    "# Commit the changes to the database\n",
    "conn.commit()\n",
    "\n",
    "# Define the SQL query to create the table\n",
    "create_table_query = \"\"\"\n",
    "CREATE TABLE products (\n",
    "    id SERIAL PRIMARY KEY,\n",
    "    image_embedding vector(512), -- Specify the shape of the vector\n",
    "    text_embedding vector(512), -- Specify the shape of the vector\n",
    "    description TEXT, --  description text\n",
    "    article INTEGER\n",
    ");\n",
    "\"\"\"\n",
    "\n",
    "# Execute the SQL query to create the table\n",
    "cursor.execute(create_table_query)\n",
    "\n",
    "# Define the SQL query to insert the data into the table\n",
    "insert_data_query = \"INSERT INTO products (image_embedding, text_embedding, description, article) VALUES (%s, %s, %s, %s)\"\n",
    "\n",
    "# Iterate through the embeddings and insert them into the table\n",
    "for image_embedding, text_embedding, description, article in zip(image_embeddings, text_embeddings, texts, article_id):\n",
    "    try:\n",
    "        cursor.execute(insert_data_query, (image_embedding.tolist(), text_embedding.tolist(), description, article))\n",
    "        conn.commit()  # Commit the transaction after each insert\n",
    "\n",
    "    except Exception as e:\n",
    "        print(f\"Error inserting data: {e}\")\n",
    "        # Rollback the transaction in case of an error\n",
    "        conn.rollback()\n",
    "\n",
    "# Create an index for similarity search using L2 distance\n",
    "create_index_query = \"CREATE INDEX ON products USING ivfflat (text_embedding vector_l2_ops) WITH (lists = 100);\"\n",
    "cursor.execute(create_index_query)\n",
    "\n",
    "# Commit the changes to the database\n",
    "conn.commit()\n",
    "\n",
    "# Close the cursor\n",
    "cursor.close()\n",
    "# Create a cursor object to execute SQL queries\n",
    "cursor = conn.cursor()\n",
    "\n",
    "# Execute the VACUUM ANALYZE query outside the transaction block\n",
    "conn.autocommit = True\n",
    "vacuum_analyze_query = \"VACUUM ANALYZE products;\"\n",
    "cursor.execute(vacuum_analyze_query)\n",
    "\n",
    "# Get the column names in the products table\n",
    "cursor.execute(\"SELECT column_name FROM information_schema.columns WHERE table_name = 'products';\")\n",
    "column_names = [row[0] for row in cursor.fetchall()]\n",
    "print(\"Column Names:\", column_names)\n",
    "# Close the cursor and connection\n",
    "cursor.close()\n",
    "conn.close()"
   ]
  },
  {
   "cell_type": "code",
   "execution_count": null,
   "id": "b87fe446",
   "metadata": {},
   "outputs": [],
   "source": []
  },
  {
   "cell_type": "markdown",
   "id": "303a85c2",
   "metadata": {},
   "source": [
    "## Task 3 Similarity search on the products table\n",
    "Run a query to perform a similarity search on the products table in RDS for PostgreSQL using the pgvector extension"
   ]
  },
  {
   "cell_type": "code",
   "execution_count": 197,
   "id": "62144fbc",
   "metadata": {},
   "outputs": [
    {
     "data": {
      "application/vnd.jupyter.widget-view+json": {
       "model_id": "7f13554f250040438de3885037dcd5ce",
       "version_major": 2,
       "version_minor": 0
      },
      "text/plain": [
       "Map:   0%|          | 0/1 [00:00<?, ? examples/s]"
      ]
     },
     "metadata": {},
     "output_type": "display_data"
    },
    {
     "name": "stderr",
     "output_type": "stream",
     "text": [
      "100%|████████████████████████████████████████████████████████████████████████████████████| 1/1 [00:00<00:00, 17.11it/s]"
     ]
    },
    {
     "name": "stdout",
     "output_type": "stream",
     "text": [
      "Product Item Id: 915\n",
      "Article: 629824002\n",
      "Description: Dress in woven fabric with buttons at the back, a gathered yoke and a frill trim around the armholes. Unlined.\n",
      "----------------------\n",
      "Product Item Id: 222\n",
      "Article: 522077001\n",
      "Description: Sleeveless dress in a patterned weave with an opening with a button at the back of the neck. Concealed zip in the side and seam at the waist with a bell-shaped skirt. Lined.\n",
      "----------------------\n"
     ]
    },
    {
     "name": "stderr",
     "output_type": "stream",
     "text": [
      "\n"
     ]
    }
   ],
   "source": [
    "data = my_embedding_function(\"a pair of blue dress\")\n",
    "data_list = data.tolist()  # Convert numpy.ndarray to list\n",
    "# Establish connection to the PostgreSQL Docker container\n",
    "conn = psycopg2.connect(\n",
    "    host=\"localhost\",\n",
    "    port=5432,\n",
    "    user=\"testuser\",\n",
    "    password=\"testpwd\",\n",
    "    database=\"vectordb\"\n",
    ")\n",
    "\n",
    "# Create a cursor object to execute SQL queries\n",
    "cursor = conn.cursor()\n",
    "# Perform similarity search query\n",
    "cursor.execute(\"\"\"\n",
    "    SELECT id, article,description, text_embedding\n",
    "    FROM products\n",
    "    ORDER BY text_embedding <-> %s::vector\n",
    "    LIMIT 2;\n",
    "\"\"\", (data_list,))\n",
    "\n",
    "# Fetch the results\n",
    "results = cursor.fetchall()\n",
    "\n",
    "# Process and display the results\n",
    "for result in results:\n",
    "    product_id = result[0]\n",
    "    \n",
    "    print(\"Product Item Id:\", product_id)\n",
    "    print(\"Article:\", result[1])\n",
    "    print(\"Description:\", result[2])\n",
    "    print(\"----------------------\")\n",
    "\n",
    "# Close the cursor and connection\n",
    "cursor.close()\n",
    "conn.close()"
   ]
  },
  {
   "cell_type": "code",
   "execution_count": 198,
   "id": "e751327b",
   "metadata": {},
   "outputs": [
    {
     "data": {
      "text/plain": [
       "522077001"
      ]
     },
     "execution_count": 198,
     "metadata": {},
     "output_type": "execute_result"
    }
   ],
   "source": [
    "id_of_matched_object=result[1]\n",
    "id_of_matched_object"
   ]
  },
  {
   "cell_type": "code",
   "execution_count": 199,
   "id": "bc293521",
   "metadata": {},
   "outputs": [
    {
     "data": {
      "text/html": [
       "<div>\n",
       "<style scoped>\n",
       "    .dataframe tbody tr th:only-of-type {\n",
       "        vertical-align: middle;\n",
       "    }\n",
       "\n",
       "    .dataframe tbody tr th {\n",
       "        vertical-align: top;\n",
       "    }\n",
       "\n",
       "    .dataframe thead th {\n",
       "        text-align: right;\n",
       "    }\n",
       "</style>\n",
       "<table border=\"1\" class=\"dataframe\">\n",
       "  <thead>\n",
       "    <tr style=\"text-align: right;\">\n",
       "      <th></th>\n",
       "      <th>article_id</th>\n",
       "      <th>product_code</th>\n",
       "      <th>prod_name</th>\n",
       "      <th>product_type_no</th>\n",
       "      <th>product_type_name</th>\n",
       "      <th>product_group_name</th>\n",
       "      <th>graphical_appearance_no</th>\n",
       "      <th>graphical_appearance_name</th>\n",
       "      <th>colour_group_code</th>\n",
       "      <th>colour_group_name</th>\n",
       "      <th>...</th>\n",
       "      <th>department_name</th>\n",
       "      <th>index_code</th>\n",
       "      <th>index_name</th>\n",
       "      <th>index_group_no</th>\n",
       "      <th>index_group_name</th>\n",
       "      <th>section_no</th>\n",
       "      <th>section_name</th>\n",
       "      <th>garment_group_no</th>\n",
       "      <th>garment_group_name</th>\n",
       "      <th>detail_desc</th>\n",
       "    </tr>\n",
       "  </thead>\n",
       "  <tbody>\n",
       "    <tr>\n",
       "      <th>221</th>\n",
       "      <td>522077001</td>\n",
       "      <td>522077</td>\n",
       "      <td>Koriander sleeveless dress</td>\n",
       "      <td>265</td>\n",
       "      <td>Dress</td>\n",
       "      <td>Garment Full body</td>\n",
       "      <td>1010001</td>\n",
       "      <td>All over pattern</td>\n",
       "      <td>19</td>\n",
       "      <td>Greenish Khaki</td>\n",
       "      <td>...</td>\n",
       "      <td>Woven top</td>\n",
       "      <td>A</td>\n",
       "      <td>Ladieswear</td>\n",
       "      <td>1</td>\n",
       "      <td>Ladieswear</td>\n",
       "      <td>2</td>\n",
       "      <td>H&amp;M+</td>\n",
       "      <td>1010</td>\n",
       "      <td>Blouses</td>\n",
       "      <td>Sleeveless dress in a patterned weave with an ...</td>\n",
       "    </tr>\n",
       "  </tbody>\n",
       "</table>\n",
       "<p>1 rows × 25 columns</p>\n",
       "</div>"
      ],
      "text/plain": [
       "     article_id  product_code                   prod_name  product_type_no  \\\n",
       "221   522077001        522077  Koriander sleeveless dress              265   \n",
       "\n",
       "    product_type_name product_group_name  graphical_appearance_no  \\\n",
       "221             Dress  Garment Full body                  1010001   \n",
       "\n",
       "    graphical_appearance_name  colour_group_code colour_group_name  ...  \\\n",
       "221          All over pattern                 19    Greenish Khaki  ...   \n",
       "\n",
       "     department_name index_code  index_name index_group_no  index_group_name  \\\n",
       "221        Woven top          A  Ladieswear              1        Ladieswear   \n",
       "\n",
       "    section_no section_name garment_group_no  garment_group_name  \\\n",
       "221          2         H&M+             1010             Blouses   \n",
       "\n",
       "                                           detail_desc  \n",
       "221  Sleeveless dress in a patterned weave with an ...  \n",
       "\n",
       "[1 rows x 25 columns]"
      ]
     },
     "execution_count": 199,
     "metadata": {},
     "output_type": "execute_result"
    }
   ],
   "source": [
    "# selecting rows based on condition\n",
    "subset.loc[subset['article_id'] ==id_of_matched_object ]"
   ]
  },
  {
   "cell_type": "code",
   "execution_count": 200,
   "id": "175ea533",
   "metadata": {},
   "outputs": [],
   "source": [
    "#found_object = subset[\"article_id\"].iloc[id_of_matched_object].tolist()\n",
    "found_object=id_of_matched_object"
   ]
  },
  {
   "cell_type": "code",
   "execution_count": 201,
   "id": "7f66e6dd",
   "metadata": {},
   "outputs": [],
   "source": [
    "fixed_height = 224\n",
    "image = Image.open(f\"data_for_fashion_clip/{found_object}.jpg\")\n",
    "height_percent = (fixed_height / float(image.size[1]))\n",
    "width_size = int((float(image.size[0]) * float(height_percent)))\n",
    "image = image.resize((width_size, fixed_height), Image.NEAREST)"
   ]
  },
  {
   "cell_type": "code",
   "execution_count": 202,
   "id": "afa2772a",
   "metadata": {},
   "outputs": [
    {
     "data": {
      "image/jpeg": "[encoded data removed]",
      "image/png": "[encoded data removed]",
      "text/plain": [
       "<PIL.Image.Image image mode=RGB size=148x224>"
      ]
     },
     "execution_count": 202,
     "metadata": {},
     "output_type": "execute_result"
    }
   ],
   "source": [
    "image"
   ]
  },
  {
   "cell_type": "code",
   "execution_count": null,
   "id": "b293b5d6",
   "metadata": {},
   "outputs": [],
   "source": []
  }
 ],
 "metadata": {
  "kernelspec": {
   "display_name": "Python (textgen)",
   "language": "python",
   "name": "texgen"
  },
  "language_info": {
   "codemirror_mode": {
    "name": "ipython",
    "version": 3
   },
   "file_extension": ".py",
   "mimetype": "text/x-python",
   "name": "python",
   "nbconvert_exporter": "python",
   "pygments_lexer": "ipython3",
   "version": "3.10.9"
  }
 },
 "nbformat": 4,
 "nbformat_minor": 5
}
