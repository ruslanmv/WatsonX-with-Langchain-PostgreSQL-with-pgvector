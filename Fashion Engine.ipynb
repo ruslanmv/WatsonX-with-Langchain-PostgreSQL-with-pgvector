{
 "cells": [
  {
   "cell_type": "markdown",
   "metadata": {
    "id": "xfz7BSY7SP5P"
   },
   "source": [
    "# Fashion Engine\n",
    "\n",
    "Hello everyone, today we are going to run an interesting application to retrieve images from a simple model, by embedding your own images with FashionCLIP and play with the representations.\n",
    "\n",
    "### Use Cases\n",
    "\n",
    "We will go through three different possible usages of FashionCLIP:\n",
    "\n",
    "*   **Image Retrieval.** Given a query, we will find the image that best describe that query.\n",
    "\n",
    "*   **Zero Shot Classification.** Given an image, we will try to classify some images using some labels.\n",
    "\n",
    "*   **Feature Extraction for Supervised Learning.** We will extract image features using FashionCLIP and use them to do image classification."
   ]
  },
  {
   "cell_type": "markdown",
   "metadata": {
    "id": "VZ3s403V5LKs"
   },
   "source": [
    "## Getting Started\n",
    "\n",
    "To start this tutorial, let's first download some images!"
   ]
  },
  {
   "cell_type": "code",
   "execution_count": 14,
   "metadata": {},
   "outputs": [],
   "source": [
    "import os\n",
    "import requests\n",
    "import zipfile\n",
    "# Specify the file URL and name\n",
    "url = \"https://huggingface.co/datasets/ruslanmv/fashion/resolve/main/data.zip\"\n",
    "file_name = \"data.zip\"\n",
    "\n",
    "# Check if the file already exists\n",
    "if not os.path.exists(file_name):\n",
    "    # Download the file\n",
    "    response = requests.get(url)\n",
    "\n",
    "    # Save the file locally\n",
    "    with open(file_name, \"wb\") as file:\n",
    "        file.write(response.content)\n",
    "\n",
    "# Extract the contents of the zip file\n",
    "with zipfile.ZipFile(file_name, \"r\") as zip_ref:\n",
    "    zip_ref.extractall()\n"
   ]
  },
  {
   "cell_type": "markdown",
   "metadata": {
    "id": "kFaN_ybWkI1F"
   },
   "source": [
    "The dataset we used is a sample that comes from [Kaggle](https://www.kaggle.com/competitions/h-and-m-personalized-fashion-recommendations)."
   ]
  },
  {
   "cell_type": "markdown",
   "metadata": {
    "id": "4dzpM2oASwM6"
   },
   "source": [
    "### The FashionCLIP Model\n",
    "\n",
    "We wrote a simple wrapper that allows you to play with the data a bit and do most of the things you might want to do with few lines of code!\n",
    "\n",
    "It should take 2/3 minutes to install."
   ]
  },
  {
   "cell_type": "code",
   "execution_count": 16,
   "metadata": {
    "id": "tyBLvPLgSx5h"
   },
   "outputs": [],
   "source": [
    "%%capture\n",
    "!pip install -U fashion-clip"
   ]
  },
  {
   "cell_type": "code",
   "execution_count": 17,
   "metadata": {
    "id": "WijCpqbIyH7T"
   },
   "outputs": [],
   "source": [
    "import sys\n",
    "#sys.path.append(\"fashion-clip/\")\n",
    "from fashion_clip.fashion_clip import FashionCLIP\n",
    "import pandas as pd\n",
    "import numpy as np\n",
    "from collections import Counter\n",
    "from PIL import Image\n",
    "import numpy as np\n",
    "from sklearn.metrics import classification_report\n",
    "from sklearn.model_selection import train_test_split\n",
    "from sklearn.metrics import *\n",
    "from sklearn.linear_model import LogisticRegression\n",
    "import os"
   ]
  },
  {
   "cell_type": "markdown",
   "metadata": {
    "id": "H1W2J4IAzlEz"
   },
   "source": [
    "Let's now FashionCLIP first. It's going to take a couple of minutes to download the model from the HuggingFace Hub."
   ]
  },
  {
   "cell_type": "code",
   "execution_count": 18,
   "metadata": {
    "id": "-xEzYFUbydJY"
   },
   "outputs": [],
   "source": [
    "%%capture\n",
    "fclip = FashionCLIP('fashion-clip')"
   ]
  },
  {
   "cell_type": "markdown",
   "metadata": {
    "id": "ViPu0y8C0UfS"
   },
   "source": [
    "FashionCLIP, as CLIP, creates a shared vector space for images and text. This allows us to tackle many tasks, such as retrieval (find the image that is most similar to a given query) or zero shot classification (find which lables fit an image best).\n",
    "\n",
    "There are basically two main components, and image encoder (to generate a vector starting from an image) and a text encoder (to generate a vector startinf from a piece of text). The general concept is summarized in the following GIF (in 2D)."
   ]
  },
  {
   "cell_type": "markdown",
   "metadata": {
    "id": "8oc2jvxPpFWQ"
   },
   "source": [
    "\n",
    "\n",
    "<img src=\"https://miro.medium.com/v2/resize:fit:1400/0*FLNMtW6jK51fm7Og\"  width=\"400\">\n",
    "\n"
   ]
  },
  {
   "cell_type": "markdown",
   "metadata": {
    "id": "AsPVQgNphwFX"
   },
   "source": [
    "First thing first, let's load the data!\n",
    "Also, let's drop some elements to simplify the analysis."
   ]
  },
  {
   "cell_type": "code",
   "execution_count": 19,
   "metadata": {},
   "outputs": [],
   "source": [
    "#to get the current working directory\n",
    "directory = os.getcwd()\n",
    "# Join various path components\n",
    "path=os.path.join(directory, \"data_for_fashion_clip\", \"articles.csv\")"
   ]
  },
  {
   "cell_type": "code",
   "execution_count": 20,
   "metadata": {
    "colab": {
     "base_uri": "https://localhost:8080/",
     "height": 349
    },
    "id": "9emW_P2fhxSW",
    "outputId": "5b7aa9bf-c223-4ea5-e45a-d038b84339fe"
   },
   "outputs": [],
   "source": [
    "articles = pd.read_csv(path)"
   ]
  },
  {
   "cell_type": "code",
   "execution_count": 21,
   "metadata": {},
   "outputs": [
    {
     "data": {
      "text/html": [
       "<div>\n",
       "<style scoped>\n",
       "    .dataframe tbody tr th:only-of-type {\n",
       "        vertical-align: middle;\n",
       "    }\n",
       "\n",
       "    .dataframe tbody tr th {\n",
       "        vertical-align: top;\n",
       "    }\n",
       "\n",
       "    .dataframe thead th {\n",
       "        text-align: right;\n",
       "    }\n",
       "</style>\n",
       "<table border=\"1\" class=\"dataframe\">\n",
       "  <thead>\n",
       "    <tr style=\"text-align: right;\">\n",
       "      <th></th>\n",
       "      <th>article_id</th>\n",
       "      <th>product_code</th>\n",
       "      <th>prod_name</th>\n",
       "      <th>product_type_no</th>\n",
       "      <th>product_type_name</th>\n",
       "      <th>product_group_name</th>\n",
       "      <th>graphical_appearance_no</th>\n",
       "      <th>graphical_appearance_name</th>\n",
       "      <th>colour_group_code</th>\n",
       "      <th>colour_group_name</th>\n",
       "      <th>...</th>\n",
       "      <th>department_name</th>\n",
       "      <th>index_code</th>\n",
       "      <th>index_name</th>\n",
       "      <th>index_group_no</th>\n",
       "      <th>index_group_name</th>\n",
       "      <th>section_no</th>\n",
       "      <th>section_name</th>\n",
       "      <th>garment_group_no</th>\n",
       "      <th>garment_group_name</th>\n",
       "      <th>detail_desc</th>\n",
       "    </tr>\n",
       "  </thead>\n",
       "  <tbody>\n",
       "    <tr>\n",
       "      <th>0</th>\n",
       "      <td>108775044</td>\n",
       "      <td>108775</td>\n",
       "      <td>Strap top</td>\n",
       "      <td>253</td>\n",
       "      <td>Vest top</td>\n",
       "      <td>Garment Upper body</td>\n",
       "      <td>1010016</td>\n",
       "      <td>Solid</td>\n",
       "      <td>10</td>\n",
       "      <td>White</td>\n",
       "      <td>...</td>\n",
       "      <td>Jersey Basic</td>\n",
       "      <td>A</td>\n",
       "      <td>Ladieswear</td>\n",
       "      <td>1</td>\n",
       "      <td>Ladieswear</td>\n",
       "      <td>16</td>\n",
       "      <td>Womens Everyday Basics</td>\n",
       "      <td>1002</td>\n",
       "      <td>Jersey Basic</td>\n",
       "      <td>Jersey top with narrow shoulder straps.</td>\n",
       "    </tr>\n",
       "    <tr>\n",
       "      <th>1</th>\n",
       "      <td>176754003</td>\n",
       "      <td>176754</td>\n",
       "      <td>2 Row Braided Headband (1)</td>\n",
       "      <td>74</td>\n",
       "      <td>Hair/alice band</td>\n",
       "      <td>Accessories</td>\n",
       "      <td>1010016</td>\n",
       "      <td>Solid</td>\n",
       "      <td>17</td>\n",
       "      <td>Yellowish Brown</td>\n",
       "      <td>...</td>\n",
       "      <td>Hair Accessories</td>\n",
       "      <td>C</td>\n",
       "      <td>Ladies Accessories</td>\n",
       "      <td>1</td>\n",
       "      <td>Ladieswear</td>\n",
       "      <td>66</td>\n",
       "      <td>Womens Small accessories</td>\n",
       "      <td>1019</td>\n",
       "      <td>Accessories</td>\n",
       "      <td>Two-strand hairband with braids in imitation s...</td>\n",
       "    </tr>\n",
       "    <tr>\n",
       "      <th>2</th>\n",
       "      <td>176754019</td>\n",
       "      <td>176754</td>\n",
       "      <td>2 Row Braided Headband (1)</td>\n",
       "      <td>74</td>\n",
       "      <td>Hair/alice band</td>\n",
       "      <td>Accessories</td>\n",
       "      <td>1010016</td>\n",
       "      <td>Solid</td>\n",
       "      <td>31</td>\n",
       "      <td>Light Orange</td>\n",
       "      <td>...</td>\n",
       "      <td>Hair Accessories</td>\n",
       "      <td>C</td>\n",
       "      <td>Ladies Accessories</td>\n",
       "      <td>1</td>\n",
       "      <td>Ladieswear</td>\n",
       "      <td>66</td>\n",
       "      <td>Womens Small accessories</td>\n",
       "      <td>1019</td>\n",
       "      <td>Accessories</td>\n",
       "      <td>Two-strand hairband with braids in imitation s...</td>\n",
       "    </tr>\n",
       "    <tr>\n",
       "      <th>3</th>\n",
       "      <td>189634031</td>\n",
       "      <td>189634</td>\n",
       "      <td>Long Leg Leggings</td>\n",
       "      <td>273</td>\n",
       "      <td>Leggings/Tights</td>\n",
       "      <td>Garment Lower body</td>\n",
       "      <td>1010016</td>\n",
       "      <td>Solid</td>\n",
       "      <td>93</td>\n",
       "      <td>Dark Green</td>\n",
       "      <td>...</td>\n",
       "      <td>Basic 1</td>\n",
       "      <td>D</td>\n",
       "      <td>Divided</td>\n",
       "      <td>2</td>\n",
       "      <td>Divided</td>\n",
       "      <td>51</td>\n",
       "      <td>Divided Basics</td>\n",
       "      <td>1002</td>\n",
       "      <td>Jersey Basic</td>\n",
       "      <td>Leggings in stretch jersey with an elasticated...</td>\n",
       "    </tr>\n",
       "    <tr>\n",
       "      <th>4</th>\n",
       "      <td>194270044</td>\n",
       "      <td>194270</td>\n",
       "      <td>HELENA 2-pack tanktop</td>\n",
       "      <td>253</td>\n",
       "      <td>Vest top</td>\n",
       "      <td>Garment Upper body</td>\n",
       "      <td>1010016</td>\n",
       "      <td>Solid</td>\n",
       "      <td>51</td>\n",
       "      <td>Light Pink</td>\n",
       "      <td>...</td>\n",
       "      <td>Young Girl Jersey Basic</td>\n",
       "      <td>I</td>\n",
       "      <td>Children Sizes 134-170</td>\n",
       "      <td>4</td>\n",
       "      <td>Baby/Children</td>\n",
       "      <td>79</td>\n",
       "      <td>Girls Underwear &amp; Basics</td>\n",
       "      <td>1002</td>\n",
       "      <td>Jersey Basic</td>\n",
       "      <td>Tops in soft organic cotton jersey.</td>\n",
       "    </tr>\n",
       "  </tbody>\n",
       "</table>\n",
       "<p>5 rows × 25 columns</p>\n",
       "</div>"
      ],
      "text/plain": [
       "   article_id  product_code                   prod_name  product_type_no  \\\n",
       "0   108775044        108775                   Strap top              253   \n",
       "1   176754003        176754  2 Row Braided Headband (1)               74   \n",
       "2   176754019        176754  2 Row Braided Headband (1)               74   \n",
       "3   189634031        189634           Long Leg Leggings              273   \n",
       "4   194270044        194270       HELENA 2-pack tanktop              253   \n",
       "\n",
       "  product_type_name  product_group_name  graphical_appearance_no  \\\n",
       "0          Vest top  Garment Upper body                  1010016   \n",
       "1   Hair/alice band         Accessories                  1010016   \n",
       "2   Hair/alice band         Accessories                  1010016   \n",
       "3   Leggings/Tights  Garment Lower body                  1010016   \n",
       "4          Vest top  Garment Upper body                  1010016   \n",
       "\n",
       "  graphical_appearance_name  colour_group_code colour_group_name  ...  \\\n",
       "0                     Solid                 10             White  ...   \n",
       "1                     Solid                 17   Yellowish Brown  ...   \n",
       "2                     Solid                 31      Light Orange  ...   \n",
       "3                     Solid                 93        Dark Green  ...   \n",
       "4                     Solid                 51        Light Pink  ...   \n",
       "\n",
       "           department_name index_code              index_name index_group_no  \\\n",
       "0             Jersey Basic          A              Ladieswear              1   \n",
       "1         Hair Accessories          C      Ladies Accessories              1   \n",
       "2         Hair Accessories          C      Ladies Accessories              1   \n",
       "3                  Basic 1          D                 Divided              2   \n",
       "4  Young Girl Jersey Basic          I  Children Sizes 134-170              4   \n",
       "\n",
       "   index_group_name section_no              section_name garment_group_no  \\\n",
       "0        Ladieswear         16    Womens Everyday Basics             1002   \n",
       "1        Ladieswear         66  Womens Small accessories             1019   \n",
       "2        Ladieswear         66  Womens Small accessories             1019   \n",
       "3           Divided         51            Divided Basics             1002   \n",
       "4     Baby/Children         79  Girls Underwear & Basics             1002   \n",
       "\n",
       "   garment_group_name                                        detail_desc  \n",
       "0        Jersey Basic            Jersey top with narrow shoulder straps.  \n",
       "1         Accessories  Two-strand hairband with braids in imitation s...  \n",
       "2         Accessories  Two-strand hairband with braids in imitation s...  \n",
       "3        Jersey Basic  Leggings in stretch jersey with an elasticated...  \n",
       "4        Jersey Basic                Tops in soft organic cotton jersey.  \n",
       "\n",
       "[5 rows x 25 columns]"
      ]
     },
     "execution_count": 21,
     "metadata": {},
     "output_type": "execute_result"
    }
   ],
   "source": [
    "articles.head()"
   ]
  },
  {
   "cell_type": "code",
   "execution_count": 22,
   "metadata": {
    "colab": {
     "base_uri": "https://localhost:8080/",
     "height": 349
    },
    "id": "9emW_P2fhxSW",
    "outputId": "5b7aa9bf-c223-4ea5-e45a-d038b84339fe"
   },
   "outputs": [
    {
     "data": {
      "text/html": [
       "<div>\n",
       "<style scoped>\n",
       "    .dataframe tbody tr th:only-of-type {\n",
       "        vertical-align: middle;\n",
       "    }\n",
       "\n",
       "    .dataframe tbody tr th {\n",
       "        vertical-align: top;\n",
       "    }\n",
       "\n",
       "    .dataframe thead th {\n",
       "        text-align: right;\n",
       "    }\n",
       "</style>\n",
       "<table border=\"1\" class=\"dataframe\">\n",
       "  <thead>\n",
       "    <tr style=\"text-align: right;\">\n",
       "      <th></th>\n",
       "      <th>article_id</th>\n",
       "      <th>product_code</th>\n",
       "      <th>prod_name</th>\n",
       "      <th>product_type_no</th>\n",
       "      <th>product_type_name</th>\n",
       "      <th>product_group_name</th>\n",
       "      <th>graphical_appearance_no</th>\n",
       "      <th>graphical_appearance_name</th>\n",
       "      <th>colour_group_code</th>\n",
       "      <th>colour_group_name</th>\n",
       "      <th>...</th>\n",
       "      <th>department_name</th>\n",
       "      <th>index_code</th>\n",
       "      <th>index_name</th>\n",
       "      <th>index_group_no</th>\n",
       "      <th>index_group_name</th>\n",
       "      <th>section_no</th>\n",
       "      <th>section_name</th>\n",
       "      <th>garment_group_no</th>\n",
       "      <th>garment_group_name</th>\n",
       "      <th>detail_desc</th>\n",
       "    </tr>\n",
       "  </thead>\n",
       "  <tbody>\n",
       "    <tr>\n",
       "      <th>0</th>\n",
       "      <td>108775044</td>\n",
       "      <td>108775</td>\n",
       "      <td>Strap top</td>\n",
       "      <td>253</td>\n",
       "      <td>Vest top</td>\n",
       "      <td>Garment Upper body</td>\n",
       "      <td>1010016</td>\n",
       "      <td>Solid</td>\n",
       "      <td>10</td>\n",
       "      <td>White</td>\n",
       "      <td>...</td>\n",
       "      <td>Jersey Basic</td>\n",
       "      <td>A</td>\n",
       "      <td>Ladieswear</td>\n",
       "      <td>1</td>\n",
       "      <td>Ladieswear</td>\n",
       "      <td>16</td>\n",
       "      <td>Womens Everyday Basics</td>\n",
       "      <td>1002</td>\n",
       "      <td>Jersey Basic</td>\n",
       "      <td>Jersey top with narrow shoulder straps.</td>\n",
       "    </tr>\n",
       "    <tr>\n",
       "      <th>1</th>\n",
       "      <td>176754003</td>\n",
       "      <td>176754</td>\n",
       "      <td>2 Row Braided Headband (1)</td>\n",
       "      <td>74</td>\n",
       "      <td>Hair/alice band</td>\n",
       "      <td>Accessories</td>\n",
       "      <td>1010016</td>\n",
       "      <td>Solid</td>\n",
       "      <td>17</td>\n",
       "      <td>Yellowish Brown</td>\n",
       "      <td>...</td>\n",
       "      <td>Hair Accessories</td>\n",
       "      <td>C</td>\n",
       "      <td>Ladies Accessories</td>\n",
       "      <td>1</td>\n",
       "      <td>Ladieswear</td>\n",
       "      <td>66</td>\n",
       "      <td>Womens Small accessories</td>\n",
       "      <td>1019</td>\n",
       "      <td>Accessories</td>\n",
       "      <td>Two-strand hairband with braids in imitation s...</td>\n",
       "    </tr>\n",
       "    <tr>\n",
       "      <th>3</th>\n",
       "      <td>189634031</td>\n",
       "      <td>189634</td>\n",
       "      <td>Long Leg Leggings</td>\n",
       "      <td>273</td>\n",
       "      <td>Leggings/Tights</td>\n",
       "      <td>Garment Lower body</td>\n",
       "      <td>1010016</td>\n",
       "      <td>Solid</td>\n",
       "      <td>93</td>\n",
       "      <td>Dark Green</td>\n",
       "      <td>...</td>\n",
       "      <td>Basic 1</td>\n",
       "      <td>D</td>\n",
       "      <td>Divided</td>\n",
       "      <td>2</td>\n",
       "      <td>Divided</td>\n",
       "      <td>51</td>\n",
       "      <td>Divided Basics</td>\n",
       "      <td>1002</td>\n",
       "      <td>Jersey Basic</td>\n",
       "      <td>Leggings in stretch jersey with an elasticated...</td>\n",
       "    </tr>\n",
       "  </tbody>\n",
       "</table>\n",
       "<p>3 rows × 25 columns</p>\n",
       "</div>"
      ],
      "text/plain": [
       "   article_id  product_code                   prod_name  product_type_no  \\\n",
       "0   108775044        108775                   Strap top              253   \n",
       "1   176754003        176754  2 Row Braided Headband (1)               74   \n",
       "3   189634031        189634           Long Leg Leggings              273   \n",
       "\n",
       "  product_type_name  product_group_name  graphical_appearance_no  \\\n",
       "0          Vest top  Garment Upper body                  1010016   \n",
       "1   Hair/alice band         Accessories                  1010016   \n",
       "3   Leggings/Tights  Garment Lower body                  1010016   \n",
       "\n",
       "  graphical_appearance_name  colour_group_code colour_group_name  ...  \\\n",
       "0                     Solid                 10             White  ...   \n",
       "1                     Solid                 17   Yellowish Brown  ...   \n",
       "3                     Solid                 93        Dark Green  ...   \n",
       "\n",
       "    department_name index_code          index_name index_group_no  \\\n",
       "0      Jersey Basic          A          Ladieswear              1   \n",
       "1  Hair Accessories          C  Ladies Accessories              1   \n",
       "3           Basic 1          D             Divided              2   \n",
       "\n",
       "   index_group_name section_no              section_name garment_group_no  \\\n",
       "0        Ladieswear         16    Womens Everyday Basics             1002   \n",
       "1        Ladieswear         66  Womens Small accessories             1019   \n",
       "3           Divided         51            Divided Basics             1002   \n",
       "\n",
       "   garment_group_name                                        detail_desc  \n",
       "0        Jersey Basic            Jersey top with narrow shoulder straps.  \n",
       "1         Accessories  Two-strand hairband with braids in imitation s...  \n",
       "3        Jersey Basic  Leggings in stretch jersey with an elasticated...  \n",
       "\n",
       "[3 rows x 25 columns]"
      ]
     },
     "execution_count": 22,
     "metadata": {},
     "output_type": "execute_result"
    }
   ],
   "source": [
    "# drop items that have the same description\n",
    "subset = articles.drop_duplicates(\"detail_desc\").copy()\n",
    "# remove items of unkown category\n",
    "subset = subset[~subset[\"product_group_name\"].isin([\"Unknown\"])]\n",
    "# FashionCLIP has a limit of 77 tokens, let's play it safe and drop things with more than 40 tokens\n",
    "subset = subset[subset[\"detail_desc\"].apply(lambda x : 4 < len(str(x).split()) < 40)]\n",
    "# We also drop products types that do not occur very frequently in this subset of data\n",
    "most_frequent_product_types = [k for k, v in dict(Counter(subset[\"product_type_name\"].tolist())).items() if v > 10]\n",
    "subset = subset[subset[\"product_type_name\"].isin(most_frequent_product_types)]\n",
    "# lots of data here, but we will just use only descriptions and a couple of other columns\n",
    "subset.head(3)"
   ]
  },
  {
   "cell_type": "code",
   "execution_count": 23,
   "metadata": {
    "colab": {
     "base_uri": "https://localhost:8080/",
     "height": 35
    },
    "id": "kTiCnV7Nko5L",
    "outputId": "cbc03045-c8ff-4744-ae50-ee5b2b5f7dcc"
   },
   "outputs": [
    {
     "data": {
      "text/plain": [
       "'There are 3104 elements in the dataset'"
      ]
     },
     "execution_count": 23,
     "metadata": {},
     "output_type": "execute_result"
    }
   ],
   "source": [
    "subset.to_csv(\"subset_data.csv\", index=False)\n",
    "f\"There are {len(subset)} elements in the dataset\""
   ]
  },
  {
   "cell_type": "markdown",
   "metadata": {
    "id": "TcLNKhgD75pm"
   },
   "source": [
    "## Image Retrieval\n",
    "\n",
    "How do we do retrieval?\n",
    "\n",
    "We encode a search query (e.g., \"A red dress\") with FashionCLIP text encoder and retrieve the closest image vectors through a simple dot product. The greater the value of the dot product, the more similar the text and the image are.\n",
    "\n",
    "<img src=\"https://miro.medium.com/v2/resize:fit:1400/1*cnKHgLAumVyuHuK9pkqr7A.gif\"  width=\"800\">\n"
   ]
  },
  {
   "cell_type": "markdown",
   "metadata": {
    "id": "rV3e8bLpBpAS"
   },
   "source": [
    "Ok now let's get all the images and all the captions, generate embeddings and then normalize the embeddings to unit norm."
   ]
  },
  {
   "cell_type": "code",
   "execution_count": 24,
   "metadata": {
    "colab": {
     "base_uri": "https://localhost:8080/",
     "height": 84,
     "referenced_widgets": [
      "7b4fd0aec224466a9d8a1abac7d6db24",
      "55fc3957754c47939178a132f6b7a64c",
      "da92163d90924caeba6ef775e9f076c6",
      "a4efa7614eca404fbe763355731b7dff",
      "dfa2f82e46ce42f98f9400fb34967dbd",
      "d81c59c8ea3848dd9152d625919a9383",
      "9c05de8c776247158d0ba1772c42d3c4",
      "0564c242b17747189d4b7fe94f986189",
      "f8a8132dd5e34397ba0004335c466827",
      "08fdde10635d4e11b7b958265643e667",
      "acd14bc279264c3287a0ec177ed84b1f"
     ]
    },
    "id": "cla9wews4eZg",
    "outputId": "a0ff8d1a-1cb3-4123-914f-ed728e303162"
   },
   "outputs": [
    {
     "name": "stderr",
     "output_type": "stream",
     "text": [
      "100%|██████████████████████████████████████████████████████████████████████████████████| 97/97 [03:23<00:00,  2.09s/it]\n"
     ]
    },
    {
     "data": {
      "application/vnd.jupyter.widget-view+json": {
       "model_id": "8dd602ccf0804ea58aa5dce1ef4ffa62",
       "version_major": 2,
       "version_minor": 0
      },
      "text/plain": [
       "Map:   0%|          | 0/3104 [00:00<?, ? examples/s]"
      ]
     },
     "metadata": {},
     "output_type": "display_data"
    },
    {
     "name": "stderr",
     "output_type": "stream",
     "text": [
      "100%|██████████████████████████████████████████████████████████████████████████████████| 97/97 [00:05<00:00, 16.31it/s]\n"
     ]
    }
   ],
   "source": [
    "images = [\"data_for_fashion_clip/\" + str(k) + \".jpg\" for k in subset[\"article_id\"].tolist()]\n",
    "texts = subset[\"detail_desc\"].tolist()\n",
    "\n",
    "# we create image embeddings and text embeddings\n",
    "image_embeddings = fclip.encode_images(images, batch_size=32)\n",
    "text_embeddings = fclip.encode_text(texts, batch_size=32)\n",
    "\n",
    "# we normalize the embeddings to unit norm (so that we can use dot product instead of cosine similarity to do comparisons)\n",
    "image_embeddings = image_embeddings/np.linalg.norm(image_embeddings, ord=2, axis=-1, keepdims=True)\n",
    "text_embeddings = text_embeddings/np.linalg.norm(text_embeddings, ord=2, axis=-1, keepdims=True)"
   ]
  },
  {
   "cell_type": "markdown",
   "metadata": {
    "id": "ZHQWIMzJ5xCb"
   },
   "source": [
    "Let's write a quick function to see how well our retrieval works! We are going to compute **precision@5**."
   ]
  },
  {
   "cell_type": "code",
   "execution_count": 25,
   "metadata": {
    "colab": {
     "base_uri": "https://localhost:8080/"
    },
    "id": "z5V_JIF81WAM",
    "outputId": "5070ac63-b7ed-42ef-89be-f5c17ac02624"
   },
   "outputs": [
    {
     "data": {
      "text/plain": [
       "0.54"
      ]
     },
     "execution_count": 25,
     "metadata": {},
     "output_type": "execute_result"
    }
   ],
   "source": [
    "precision = 0\n",
    "\n",
    "# we could batch this operation to make it faster\n",
    "for index, t in enumerate(text_embeddings):\n",
    "    arr = t.dot(image_embeddings.T)\n",
    "\n",
    "    best = arr.argsort()[-5:][::-1]\n",
    "\n",
    "    if index in best:\n",
    "        precision +=1\n",
    "\n",
    "round(precision/len(text_embeddings), 2)"
   ]
  },
  {
   "cell_type": "markdown",
   "metadata": {
    "id": "e7v6WUkWDCE6"
   },
   "source": [
    "Good! **0.54** on this completely unseen dataset is honestly a pretty good result! It means that more than half of the times, the product we are looking for is in the top 5 returned items.\n",
    "\n",
    "### Building a Toy Search Engine\n",
    "\n",
    "Let's now test our toy \"product search engine\". We will embed a textual query and then rank the images we have by similarity with the query vector.\n",
    "\n"
   ]
  },
  {
   "cell_type": "code",
   "execution_count": 26,
   "metadata": {
    "colab": {
     "base_uri": "https://localhost:8080/",
     "height": 290,
     "referenced_widgets": [
      "127622fcf12e491996a02f81aad875fd",
      "bfaaa02ed1d14653915812a578e82d38",
      "12cc9e396cc04ebdbefd62523c600491",
      "4a468340fcad48cc8c13cb9891cfff6f",
      "4e8deb53e65e420b85a7ec39bb47219b",
      "28f92ffc313c466c809a549bd590aa69",
      "6723532bff65455a98d44ec4dff51108",
      "e4e47138652b49b9a1e1b45190643994",
      "bbebd3eb52c04847ab9be287d98d088c",
      "8797874e4ab2465492b709fa2e4849f5",
      "23015010b6ab4896ad6fcbdb01f5e1a6"
     ]
    },
    "id": "X5VNv1lx1rY1",
    "outputId": "30f9e81a-9efa-4c8c-d3b4-965c218457e1"
   },
   "outputs": [
    {
     "data": {
      "application/vnd.jupyter.widget-view+json": {
       "model_id": "e7188b8cdc234ea6ae196238b9938455",
       "version_major": 2,
       "version_minor": 0
      },
      "text/plain": [
       "Map:   0%|          | 0/1 [00:00<?, ? examples/s]"
      ]
     },
     "metadata": {},
     "output_type": "display_data"
    },
    {
     "name": "stderr",
     "output_type": "stream",
     "text": [
      "1it [00:00, 22.73it/s]\n"
     ]
    },
    {
     "data": {
      "image/jpeg": "[encoded data removed]",
      "image/png": "[encoded data removed]",
      "text/plain": [
       "<PIL.Image.Image image mode=RGB size=297x224>"
      ]
     },
     "execution_count": 26,
     "metadata": {},
     "output_type": "execute_result"
    }
   ],
   "source": [
    "text_embedding = fclip.encode_text([\"a pair of pink shorts\"], 32)[0]\n",
    "\n",
    "id_of_matched_object = np.argmax(text_embedding.dot(image_embeddings.T))\n",
    "found_object = subset[\"article_id\"].iloc[id_of_matched_object].tolist()\n",
    "fixed_height = 224\n",
    "image = Image.open(f\"data_for_fashion_clip/{found_object}.jpg\")\n",
    "height_percent = (fixed_height / float(image.size[1]))\n",
    "width_size = int((float(image.size[0]) * float(height_percent)))\n",
    "image = image.resize((width_size, fixed_height), Image.NEAREST)\n",
    "\n",
    "image"
   ]
  },
  {
   "cell_type": "markdown",
   "metadata": {
    "id": "eU-krCddFFcF"
   },
   "source": [
    "Note that, if the query does not make sense - in this context - the model is not going to return anything useful."
   ]
  },
  {
   "cell_type": "code",
   "execution_count": 27,
   "metadata": {
    "colab": {
     "base_uri": "https://localhost:8080/",
     "height": 290,
     "referenced_widgets": [
      "dfd8f0a5be7b42609dc9d81f52edc690",
      "c5aad7af8daa466195520c4e89dd4454",
      "bb133b070181457c8426bf6d43126245",
      "73a59027dca74895b6612dcf9a486cef",
      "95c500ce5be044cc989eeedf27159ef8",
      "ad1e7de0582e4e46bc4b6ab7ee2b8763",
      "4fda54126a4142b785b0c1c609f0c7fe",
      "9e565ad52da44e878102408c32372d0b",
      "74ad46cb1c414c1bb2fbcedfd2692f66",
      "d90f126d254d4ba092ce3bab21ae5c9b",
      "ab9b26dd5abb47a68dcae6e70be392f4"
     ]
    },
    "id": "CFAXbE17FBdK",
    "outputId": "f234204f-bd3a-4456-f3ed-c6bb451f692b"
   },
   "outputs": [
    {
     "data": {
      "application/vnd.jupyter.widget-view+json": {
       "model_id": "8031e2267c894484a0c6da03d945d118",
       "version_major": 2,
       "version_minor": 0
      },
      "text/plain": [
       "Map:   0%|          | 0/1 [00:00<?, ? examples/s]"
      ]
     },
     "metadata": {},
     "output_type": "display_data"
    },
    {
     "name": "stderr",
     "output_type": "stream",
     "text": [
      "1it [00:00, 23.26it/s]\n"
     ]
    },
    {
     "data": {
      "image/jpeg": "[encoded data removed]",
      "image/png": "[encoded data removed]",
      "text/plain": [
       "<PIL.Image.Image image mode=RGB size=149x224>"
      ]
     },
     "execution_count": 27,
     "metadata": {},
     "output_type": "execute_result"
    }
   ],
   "source": [
    "text_embedding = fclip.encode_text([\"a house\"], 32)[0]\n",
    "\n",
    "id_of_matched_object = np.argmax(text_embedding.dot(image_embeddings.T))\n",
    "found_object = subset[\"article_id\"].iloc[id_of_matched_object].tolist()\n",
    "\n",
    "fixed_height = 224\n",
    "\n",
    "image = Image.open(f\"data_for_fashion_clip/{found_object}.jpg\")\n",
    "height_percent = (fixed_height / float(image.size[1]))\n",
    "width_size = int((float(image.size[0]) * float(height_percent)))\n",
    "image = image.resize((width_size, fixed_height), Image.NEAREST)\n",
    "\n",
    "image"
   ]
  },
  {
   "cell_type": "markdown",
   "metadata": {
    "id": "87URDy7xh65d"
   },
   "source": [
    "# Zero Shot Classification\n",
    "\n",
    "ZeroShot classification is one of the most exciting applications of CLIP like models! We encode the image of a fashion item we want to classify with FashionCLIP’s image encoder and retrieve the closest label vectors through a dot product.\n",
    "\n",
    "<img src=\"https://miro.medium.com/v2/resize:fit:1400/1*No6ZONpQMIcfFaNMOI5oNw.gif\"  width=\"800\">\n",
    "\n"
   ]
  },
  {
   "cell_type": "code",
   "execution_count": 28,
   "metadata": {
    "colab": {
     "base_uri": "https://localhost:8080/"
    },
    "id": "kZbAxKKKiBvq",
    "outputId": "93d37096-6579-45a9-b236-3628c984e92c"
   },
   "outputs": [
    {
     "name": "stdout",
     "output_type": "stream",
     "text": [
      "These are our labels: ['Vest top' 'Hair/alice band' 'Leggings/Tights' 'T-shirt' 'Sneakers'\n",
      " 'Sunglasses' 'Cardigan' 'Gloves' 'Underwear Tights' 'Hoodie' 'Other shoe'\n",
      " 'Shorts' 'Jumpsuit/Playsuit' 'Dress' 'Trousers' 'Belt' 'Socks'\n",
      " 'Underwear bottom' 'Bodysuit' 'Hat/beanie' 'Scarf' 'Jacket'\n",
      " 'Other accessories' 'Bra' 'Swimwear bottom' 'Blazer' 'Top' 'Polo shirt'\n",
      " 'Sweater' 'Necklace' 'Pyjama set' 'Blouse' 'Bag' 'Shirt' 'Coat' 'Boots'\n",
      " 'Skirt' 'Garment Set' 'Bikini top' 'Sandals' 'Dungarees' 'Earring'\n",
      " 'Cap/peaked' 'Ballerinas' 'Swimsuit' 'Hat/brim']\n"
     ]
    }
   ],
   "source": [
    "labels = subset[\"product_type_name\"].unique()\n",
    "print(f\"These are our labels: {labels}\")"
   ]
  },
  {
   "cell_type": "code",
   "execution_count": 29,
   "metadata": {
    "colab": {
     "base_uri": "https://localhost:8080/",
     "height": 66,
     "referenced_widgets": [
      "a411138acadf43f3afdeaa3d42dc014e",
      "60abf7726eb9403ab103b158a6f27121",
      "6e023304fb5e438c83b636eb0714bb88",
      "10c94187f0a94c5ea03afc8b61957e53",
      "9ef2b5acc60f462896461dfd4c15f857",
      "e6f15fcd792b4f7d868cab63a0cca56c",
      "55bb1f53205d4c9bae2004353c53aad8",
      "8920a730014b4dd8becd1adec87b4cc8",
      "7d6e4fa8554b4174ae50dee0d69d9755",
      "044352dfe69145edb9cb6b9ba29a5907",
      "0550832918a441b5bf043229743ca30d"
     ]
    },
    "id": "sGdYbWx9p3oB",
    "outputId": "b81deb2f-7253-4969-df74-a50af02c2e95"
   },
   "outputs": [
    {
     "data": {
      "application/vnd.jupyter.widget-view+json": {
       "model_id": "0ae36588afef4bf693ef118cb6addcca",
       "version_major": 2,
       "version_minor": 0
      },
      "text/plain": [
       "Map:   0%|          | 0/46 [00:00<?, ? examples/s]"
      ]
     },
     "metadata": {},
     "output_type": "display_data"
    },
    {
     "name": "stderr",
     "output_type": "stream",
     "text": [
      "2it [00:00,  6.60it/s]                                                                                                 \n"
     ]
    }
   ],
   "source": [
    "labels_prompt = [f\"a photo of a {k}\" for k in labels]\n",
    "\n",
    "label_embeddings = fclip.encode_text(labels_prompt, batch_size=32)\n",
    "label_embeddings = label_embeddings/np.linalg.norm(label_embeddings, ord=2, axis=-1, keepdims=True)"
   ]
  },
  {
   "cell_type": "code",
   "execution_count": 30,
   "metadata": {
    "id": "4SFckqe7msFn"
   },
   "outputs": [],
   "source": [
    "# let's compute the class distribution for all images\n",
    "predicted_classes_distribution = label_embeddings.dot(image_embeddings.T)"
   ]
  },
  {
   "cell_type": "code",
   "execution_count": 31,
   "metadata": {
    "id": "WjsDedBFm1VQ"
   },
   "outputs": [],
   "source": [
    "# let's take the best label (the most similar to the image)\n",
    "predicted = [labels[k] for k in np.argmax(predicted_classes_distribution, axis=0)]"
   ]
  },
  {
   "cell_type": "code",
   "execution_count": 32,
   "metadata": {
    "colab": {
     "base_uri": "https://localhost:8080/"
    },
    "id": "B2PulVuMnB7J",
    "outputId": "900528c8-d325-4f34-c9a6-2bc1055ac762"
   },
   "outputs": [
    {
     "name": "stdout",
     "output_type": "stream",
     "text": [
      "                   precision    recall  f1-score   support\n",
      "\n",
      "              Bag       0.97      0.85      0.91        40\n",
      "       Ballerinas       0.67      0.15      0.25        13\n",
      "             Belt       0.75      0.92      0.83        13\n",
      "       Bikini top       0.68      0.73      0.70        37\n",
      "           Blazer       0.94      0.87      0.90        38\n",
      "           Blouse       0.47      0.79      0.59       135\n",
      "         Bodysuit       0.53      0.64      0.58        25\n",
      "            Boots       0.91      0.65      0.75        31\n",
      "              Bra       0.90      0.77      0.83        60\n",
      "       Cap/peaked       0.95      0.86      0.90        21\n",
      "         Cardigan       0.58      0.86      0.69        49\n",
      "             Coat       0.18      0.92      0.30        12\n",
      "            Dress       0.92      0.76      0.83       293\n",
      "        Dungarees       0.32      0.67      0.43        12\n",
      "          Earring       0.98      0.84      0.90        55\n",
      "      Garment Set       0.71      0.18      0.29        28\n",
      "           Gloves       1.00      0.93      0.97        15\n",
      "  Hair/alice band       0.83      0.79      0.81        24\n",
      "       Hat/beanie       0.94      0.80      0.87        41\n",
      "         Hat/brim       0.76      0.87      0.81        15\n",
      "           Hoodie       0.68      0.93      0.79        71\n",
      "           Jacket       0.92      0.54      0.68       101\n",
      "Jumpsuit/Playsuit       0.32      0.30      0.31        33\n",
      "  Leggings/Tights       0.70      0.52      0.60        63\n",
      "         Necklace       0.79      0.90      0.84        21\n",
      "Other accessories       0.39      0.32      0.35        34\n",
      "       Other shoe       0.31      0.81      0.45        16\n",
      "       Polo shirt       0.63      0.92      0.75        13\n",
      "       Pyjama set       0.41      0.95      0.57        37\n",
      "          Sandals       0.86      1.00      0.92        24\n",
      "            Scarf       0.67      0.91      0.77        33\n",
      "            Shirt       0.38      0.74      0.50        72\n",
      "           Shorts       0.75      0.87      0.80       138\n",
      "            Skirt       0.91      0.90      0.90       111\n",
      "         Sneakers       0.95      0.79      0.86        66\n",
      "            Socks       0.89      0.98      0.93        41\n",
      "       Sunglasses       0.92      1.00      0.96        11\n",
      "          Sweater       0.84      0.81      0.82       313\n",
      "         Swimsuit       0.47      0.79      0.59        19\n",
      "  Swimwear bottom       0.51      0.63      0.56        38\n",
      "          T-shirt       0.84      0.60      0.70       226\n",
      "              Top       0.00      0.00      0.00       141\n",
      "         Trousers       0.91      0.85      0.88       340\n",
      " Underwear Tights       0.43      0.55      0.48        11\n",
      " Underwear bottom       0.95      0.67      0.78        81\n",
      "         Vest top       0.69      0.78      0.73        93\n",
      "\n",
      "         accuracy                           0.73      3104\n",
      "        macro avg       0.70      0.74      0.69      3104\n",
      "     weighted avg       0.75      0.73      0.72      3104\n",
      "\n"
     ]
    }
   ],
   "source": [
    "print(classification_report(subset[\"product_type_name\"], predicted))"
   ]
  },
  {
   "cell_type": "markdown",
   "metadata": {
    "id": "iE4Kgt_DqG4A"
   },
   "source": [
    "Results look good! **0.69** in Macro F1 on many classes **without the need of training anything**!!\n",
    "\n",
    "There are a couple of classes in which we don't do well, for example **Top** and it might be because in English it's an ambigous term.\n",
    "\n",
    "Moreover, I haven't actually searched for a prompt that works well and some of the classes contain a \"\\\" in the name that might complicate the prediction.\n",
    "\n",
    "Anyway, considering that we did this without studying the data much, we got a pretty good performance!"
   ]
  },
  {
   "cell_type": "markdown",
   "metadata": {
    "id": "O4r6m49W1WTn"
   },
   "source": [
    "# Feature Extraction for Supervised Learning\n",
    "\n",
    "Finally, let's do some classification with the image features we have extracted before. We will use the features to train a linear classifier and see how it performs!\n",
    "\n"
   ]
  },
  {
   "cell_type": "code",
   "execution_count": 33,
   "metadata": {
    "id": "qYX4S4zX8Q_D"
   },
   "outputs": [],
   "source": [
    "classes = subset[\"product_group_name\"].tolist()\n",
    "X_train, X_test, y_train, y_test = train_test_split(image_embeddings, classes, test_size=0.20, random_state=32, stratify=classes)"
   ]
  },
  {
   "cell_type": "code",
   "execution_count": 34,
   "metadata": {
    "id": "16vqd6Gf8y48"
   },
   "outputs": [],
   "source": [
    "clf = LogisticRegression(random_state=0, class_weight=\"balanced\").fit(X_train, y_train)"
   ]
  },
  {
   "cell_type": "code",
   "execution_count": 35,
   "metadata": {
    "colab": {
     "base_uri": "https://localhost:8080/"
    },
    "id": "hVtH8WS7851f",
    "outputId": "8ab87e8f-d1ce-45b7-c867-0197559018d6"
   },
   "outputs": [
    {
     "name": "stdout",
     "output_type": "stream",
     "text": [
      "                    precision    recall  f1-score   support\n",
      "\n",
      "       Accessories       0.86      1.00      0.92        65\n",
      " Garment Full body       0.69      0.95      0.80        73\n",
      "Garment Lower body       0.98      0.94      0.96       131\n",
      "Garment Upper body       1.00      0.85      0.92       258\n",
      "         Nightwear       0.58      1.00      0.74         7\n",
      "             Shoes       1.00      0.90      0.95        30\n",
      "    Socks & Tights       0.75      0.90      0.82        10\n",
      "          Swimwear       0.65      0.68      0.67        19\n",
      "         Underwear       0.96      0.96      0.96        28\n",
      "\n",
      "          accuracy                           0.90       621\n",
      "         macro avg       0.83      0.91      0.86       621\n",
      "      weighted avg       0.92      0.90      0.91       621\n",
      "\n"
     ]
    }
   ],
   "source": [
    "print(classification_report(y_test, clf.predict(X_test)))"
   ]
  },
  {
   "cell_type": "markdown",
   "metadata": {
    "id": "0u1z1vu6q6t4"
   },
   "source": [
    "We slightly under perform on Nightwear, but probably because we don't have much data. But the classifier works really well!\n",
    "\n",
    "\n",
    "Note: If you do this with **product_type_name** you are going to get a Macro F1 0.86 (that is better than the zero-shot one!)."
   ]
  },
  {
   "cell_type": "markdown",
   "metadata": {
    "id": "cOrcmZEB_ffg"
   },
   "source": [
    "### Visualizing Image Embeddings in the Latent Space\n",
    "\n",
    "To address our use cases, we assume FashionCLIP embeds images in the latent space following an underlying semantics. Let's use a dimensionality reduction algorithm to visualize that.\n",
    "\n",
    "UMAP is a well-known dimension reduction algorithm that works out-of-the-box on multidimensional data. Through UMAP, we can remap our image embeddings into a 2D space and plot it as a scatterplot."
   ]
  },
  {
   "cell_type": "code",
   "execution_count": 42,
   "metadata": {},
   "outputs": [
    {
     "name": "stderr",
     "output_type": "stream",
     "text": [
      "WARNING: Skipping umap as it is not installed.\n"
     ]
    },
    {
     "name": "stdout",
     "output_type": "stream",
     "text": [
      "Requirement already satisfied: umap-learn in c:\\users\\rusla\\.conda\\envs\\textgen\\lib\\site-packages (0.5.5)\n",
      "Requirement already satisfied: numpy>=1.17 in c:\\users\\rusla\\.conda\\envs\\textgen\\lib\\site-packages (from umap-learn) (1.24.0)\n",
      "Requirement already satisfied: scipy>=1.3.1 in c:\\users\\rusla\\.conda\\envs\\textgen\\lib\\site-packages (from umap-learn) (1.11.1)\n",
      "Requirement already satisfied: scikit-learn>=0.22 in c:\\users\\rusla\\.conda\\envs\\textgen\\lib\\site-packages (from umap-learn) (1.3.0)\n",
      "Requirement already satisfied: numba>=0.51.2 in c:\\users\\rusla\\.conda\\envs\\textgen\\lib\\site-packages (from umap-learn) (0.58.1)\n",
      "Requirement already satisfied: pynndescent>=0.5 in c:\\users\\rusla\\.conda\\envs\\textgen\\lib\\site-packages (from umap-learn) (0.5.11)\n",
      "Requirement already satisfied: tqdm in c:\\users\\rusla\\.conda\\envs\\textgen\\lib\\site-packages (from umap-learn) (4.66.1)\n",
      "Requirement already satisfied: llvmlite<0.42,>=0.41.0dev0 in c:\\users\\rusla\\.conda\\envs\\textgen\\lib\\site-packages (from numba>=0.51.2->umap-learn) (0.41.1)\n",
      "Requirement already satisfied: joblib>=0.11 in c:\\users\\rusla\\.conda\\envs\\textgen\\lib\\site-packages (from pynndescent>=0.5->umap-learn) (1.3.2)\n",
      "Requirement already satisfied: threadpoolctl>=2.0.0 in c:\\users\\rusla\\.conda\\envs\\textgen\\lib\\site-packages (from scikit-learn>=0.22->umap-learn) (3.2.0)\n",
      "Requirement already satisfied: colorama in c:\\users\\rusla\\.conda\\envs\\textgen\\lib\\site-packages (from tqdm->umap-learn) (0.4.6)\n"
     ]
    },
    {
     "name": "stderr",
     "output_type": "stream",
     "text": [
      "DEPRECATION: celery 5.0.5 has a non-standard dependency specifier pytz>dev. pip 23.3 will enforce this behaviour change. A possible replacement is to upgrade to a newer version of celery or contact the author to suggest that they release a version with a conforming dependency specifiers. Discussion can be found at https://github.com/pypa/pip/issues/12063\n"
     ]
    }
   ],
   "source": [
    "!pip uninstall umap\n",
    "!pip install umap-learn"
   ]
  },
  {
   "cell_type": "code",
   "execution_count": 47,
   "metadata": {
    "colab": {
     "base_uri": "https://localhost:8080/"
    },
    "id": "ncrbsEa6_kyi",
    "outputId": "0e4b7d6a-a223-4cbd-d6dd-956af4c67d68"
   },
   "outputs": [],
   "source": [
    "#!pip install umap-learn\n",
    "\n",
    "\n",
    "\n",
    "reducer = umap.UMAP()"
   ]
  },
  {
   "cell_type": "code",
   "execution_count": 48,
   "metadata": {
    "id": "0si3bC8d_tUS"
   },
   "outputs": [],
   "source": [
    "umap_embeddings = reducer.fit_transform(image_embeddings)"
   ]
  },
  {
   "cell_type": "code",
   "execution_count": 49,
   "metadata": {
    "colab": {
     "base_uri": "https://localhost:8080/"
    },
    "id": "en7yaftDAYT8",
    "outputId": "d37c3866-05c8-4feb-8e53-decbd45e1388"
   },
   "outputs": [
    {
     "data": {
      "text/plain": [
       "(3104, 2)"
      ]
     },
     "execution_count": 49,
     "metadata": {},
     "output_type": "execute_result"
    }
   ],
   "source": [
    "# shape: (number of images, 2)\n",
    "umap_embeddings.shape"
   ]
  },
  {
   "cell_type": "code",
   "execution_count": null,
   "metadata": {},
   "outputs": [],
   "source": []
  },
  {
   "cell_type": "code",
   "execution_count": 51,
   "metadata": {},
   "outputs": [],
   "source": [
    "import umap.umap_ as umap"
   ]
  },
  {
   "cell_type": "code",
   "execution_count": 54,
   "metadata": {},
   "outputs": [
    {
     "name": "stdout",
     "output_type": "stream",
     "text": [
      "Collecting umap-learn==0.3.10\n",
      "  Downloading umap-learn-0.3.10.tar.gz (40 kB)\n",
      "     ---------------------------------------- 0.0/40.9 kB ? eta -:--:--\n",
      "     ---------------------------------------- 40.9/40.9 kB 2.0 MB/s eta 0:00:00\n",
      "  Preparing metadata (setup.py): started\n",
      "  Preparing metadata (setup.py): finished with status 'done'\n",
      "Requirement already satisfied: numpy>=1.13 in c:\\users\\rusla\\.conda\\envs\\textgen\\lib\\site-packages (from umap-learn==0.3.10) (1.24.0)\n",
      "Requirement already satisfied: scikit-learn>=0.16 in c:\\users\\rusla\\.conda\\envs\\textgen\\lib\\site-packages (from umap-learn==0.3.10) (1.3.0)\n",
      "Requirement already satisfied: scipy>=0.19 in c:\\users\\rusla\\.conda\\envs\\textgen\\lib\\site-packages (from umap-learn==0.3.10) (1.11.1)\n",
      "Requirement already satisfied: numba>=0.37 in c:\\users\\rusla\\.conda\\envs\\textgen\\lib\\site-packages (from umap-learn==0.3.10) (0.58.1)\n",
      "Requirement already satisfied: llvmlite<0.42,>=0.41.0dev0 in c:\\users\\rusla\\.conda\\envs\\textgen\\lib\\site-packages (from numba>=0.37->umap-learn==0.3.10) (0.41.1)\n",
      "Requirement already satisfied: joblib>=1.1.1 in c:\\users\\rusla\\.conda\\envs\\textgen\\lib\\site-packages (from scikit-learn>=0.16->umap-learn==0.3.10) (1.3.2)\n",
      "Requirement already satisfied: threadpoolctl>=2.0.0 in c:\\users\\rusla\\.conda\\envs\\textgen\\lib\\site-packages (from scikit-learn>=0.16->umap-learn==0.3.10) (3.2.0)\n",
      "Building wheels for collected packages: umap-learn\n",
      "  Building wheel for umap-learn (setup.py): started\n",
      "  Building wheel for umap-learn (setup.py): finished with status 'done'\n",
      "  Created wheel for umap-learn: filename=umap_learn-0.3.10-py3-none-any.whl size=38932 sha256=38b3820513568547c58e8546f629203f141362d5ecd46049b8dc6c32dc10e2b6\n",
      "  Stored in directory: c:\\users\\rusla\\appdata\\local\\pip\\cache\\wheels\\fa\\7c\\c0\\f6b5434510bef2e044d9c2e81f2f204c85b1412e85a90a16aa\n",
      "Successfully built umap-learn\n",
      "Installing collected packages: umap-learn\n",
      "  Attempting uninstall: umap-learn\n",
      "    Found existing installation: umap-learn 0.5.5\n",
      "    Uninstalling umap-learn-0.5.5:\n",
      "      Successfully uninstalled umap-learn-0.5.5\n",
      "Successfully installed umap-learn-0.3.10\n"
     ]
    },
    {
     "name": "stderr",
     "output_type": "stream",
     "text": [
      "DEPRECATION: celery 5.0.5 has a non-standard dependency specifier pytz>dev. pip 23.3 will enforce this behaviour change. A possible replacement is to upgrade to a newer version of celery or contact the author to suggest that they release a version with a conforming dependency specifiers. Discussion can be found at https://github.com/pypa/pip/issues/12063\n"
     ]
    }
   ],
   "source": [
    "!pip install umap-learn==0.3.10"
   ]
  },
  {
   "cell_type": "code",
   "execution_count": 55,
   "metadata": {},
   "outputs": [],
   "source": [
    "import umap.umap_ as umap"
   ]
  },
  {
   "cell_type": "code",
   "execution_count": 56,
   "metadata": {
    "colab": {
     "base_uri": "https://localhost:8080/",
     "height": 175
    },
    "id": "CytCtBtD__Zj",
    "outputId": "005b40f8-1798-4b01-f840-f3ff1809b1d1"
   },
   "outputs": [
    {
     "ename": "AttributeError",
     "evalue": "module 'umap.umap_' has no attribute 'plot'",
     "output_type": "error",
     "traceback": [
      "\u001b[1;31m---------------------------------------------------------------------------\u001b[0m",
      "\u001b[1;31mAttributeError\u001b[0m                            Traceback (most recent call last)",
      "Cell \u001b[1;32mIn[56], line 1\u001b[0m\n\u001b[1;32m----> 1\u001b[0m \u001b[43mumap\u001b[49m\u001b[38;5;241;43m.\u001b[39;49m\u001b[43mplot\u001b[49m\u001b[38;5;241m.\u001b[39mpoints(reducer, labels\u001b[38;5;241m=\u001b[39mnp\u001b[38;5;241m.\u001b[39marray(classes))\n",
      "\u001b[1;31mAttributeError\u001b[0m: module 'umap.umap_' has no attribute 'plot'"
     ]
    }
   ],
   "source": [
    "umap.plot.points(reducer, labels=np.array(classes))"
   ]
  },
  {
   "cell_type": "markdown",
   "metadata": {
    "id": "3D7Y7VkDIfw4"
   },
   "source": [
    "UMAP reduction highlights interesting things:\n",
    "- distinct fashion categories cluster in distinct regions of the space;\n",
    "- shoes, accessories, socks & tights are well separated from garnments images."
   ]
  },
  {
   "cell_type": "code",
   "execution_count": null,
   "metadata": {
    "id": "LRg4AZKFa0n2"
   },
   "outputs": [],
   "source": []
  }
 ],
 "metadata": {
  "accelerator": "GPU",
  "colab": {
   "provenance": []
  },
  "gpuClass": "standard",
  "kernelspec": {
   "display_name": "Python (textgen)",
   "language": "python",
   "name": "texgen"
  },
  "language_info": {
   "codemirror_mode": {
    "name": "ipython",
    "version": 3
   },
   "file_extension": ".py",
   "mimetype": "text/x-python",
   "name": "python",
   "nbconvert_exporter": "python",
   "pygments_lexer": "ipython3",
   "version": "3.10.9"
  },
  "widgets": {
   "application/vnd.jupyter.widget-state+json": {
    "044352dfe69145edb9cb6b9ba29a5907": {
     "model_module": "@jupyter-widgets/base",
     "model_module_version": "1.2.0",
     "model_name": "LayoutModel",
     "state": {
      "_model_module": "@jupyter-widgets/base",
      "_model_module_version": "1.2.0",
      "_model_name": "LayoutModel",
      "_view_count": null,
      "_view_module": "@jupyter-widgets/base",
      "_view_module_version": "1.2.0",
      "_view_name": "LayoutView",
      "align_content": null,
      "align_items": null,
      "align_self": null,
      "border": null,
      "bottom": null,
      "display": null,
      "flex": null,
      "flex_flow": null,
      "grid_area": null,
      "grid_auto_columns": null,
      "grid_auto_flow": null,
      "grid_auto_rows": null,
      "grid_column": null,
      "grid_gap": null,
      "grid_row": null,
      "grid_template_areas": null,
      "grid_template_columns": null,
      "grid_template_rows": null,
      "height": null,
      "justify_content": null,
      "justify_items": null,
      "left": null,
      "margin": null,
      "max_height": null,
      "max_width": null,
      "min_height": null,
      "min_width": null,
      "object_fit": null,
      "object_position": null,
      "order": null,
      "overflow": null,
      "overflow_x": null,
      "overflow_y": null,
      "padding": null,
      "right": null,
      "top": null,
      "visibility": null,
      "width": null
     }
    },
    "0550832918a441b5bf043229743ca30d": {
     "model_module": "@jupyter-widgets/controls",
     "model_module_version": "1.5.0",
     "model_name": "DescriptionStyleModel",
     "state": {
      "_model_module": "@jupyter-widgets/controls",
      "_model_module_version": "1.5.0",
      "_model_name": "DescriptionStyleModel",
      "_view_count": null,
      "_view_module": "@jupyter-widgets/base",
      "_view_module_version": "1.2.0",
      "_view_name": "StyleView",
      "description_width": ""
     }
    },
    "0564c242b17747189d4b7fe94f986189": {
     "model_module": "@jupyter-widgets/base",
     "model_module_version": "1.2.0",
     "model_name": "LayoutModel",
     "state": {
      "_model_module": "@jupyter-widgets/base",
      "_model_module_version": "1.2.0",
      "_model_name": "LayoutModel",
      "_view_count": null,
      "_view_module": "@jupyter-widgets/base",
      "_view_module_version": "1.2.0",
      "_view_name": "LayoutView",
      "align_content": null,
      "align_items": null,
      "align_self": null,
      "border": null,
      "bottom": null,
      "display": null,
      "flex": null,
      "flex_flow": null,
      "grid_area": null,
      "grid_auto_columns": null,
      "grid_auto_flow": null,
      "grid_auto_rows": null,
      "grid_column": null,
      "grid_gap": null,
      "grid_row": null,
      "grid_template_areas": null,
      "grid_template_columns": null,
      "grid_template_rows": null,
      "height": null,
      "justify_content": null,
      "justify_items": null,
      "left": null,
      "margin": null,
      "max_height": null,
      "max_width": null,
      "min_height": null,
      "min_width": null,
      "object_fit": null,
      "object_position": null,
      "order": null,
      "overflow": null,
      "overflow_x": null,
      "overflow_y": null,
      "padding": null,
      "right": null,
      "top": null,
      "visibility": null,
      "width": null
     }
    },
    "08fdde10635d4e11b7b958265643e667": {
     "model_module": "@jupyter-widgets/base",
     "model_module_version": "1.2.0",
     "model_name": "LayoutModel",
     "state": {
      "_model_module": "@jupyter-widgets/base",
      "_model_module_version": "1.2.0",
      "_model_name": "LayoutModel",
      "_view_count": null,
      "_view_module": "@jupyter-widgets/base",
      "_view_module_version": "1.2.0",
      "_view_name": "LayoutView",
      "align_content": null,
      "align_items": null,
      "align_self": null,
      "border": null,
      "bottom": null,
      "display": null,
      "flex": null,
      "flex_flow": null,
      "grid_area": null,
      "grid_auto_columns": null,
      "grid_auto_flow": null,
      "grid_auto_rows": null,
      "grid_column": null,
      "grid_gap": null,
      "grid_row": null,
      "grid_template_areas": null,
      "grid_template_columns": null,
      "grid_template_rows": null,
      "height": null,
      "justify_content": null,
      "justify_items": null,
      "left": null,
      "margin": null,
      "max_height": null,
      "max_width": null,
      "min_height": null,
      "min_width": null,
      "object_fit": null,
      "object_position": null,
      "order": null,
      "overflow": null,
      "overflow_x": null,
      "overflow_y": null,
      "padding": null,
      "right": null,
      "top": null,
      "visibility": null,
      "width": null
     }
    },
    "10c94187f0a94c5ea03afc8b61957e53": {
     "model_module": "@jupyter-widgets/controls",
     "model_module_version": "1.5.0",
     "model_name": "HTMLModel",
     "state": {
      "_dom_classes": [],
      "_model_module": "@jupyter-widgets/controls",
      "_model_module_version": "1.5.0",
      "_model_name": "HTMLModel",
      "_view_count": null,
      "_view_module": "@jupyter-widgets/controls",
      "_view_module_version": "1.5.0",
      "_view_name": "HTMLView",
      "description": "",
      "description_tooltip": null,
      "layout": "IPY_MODEL_044352dfe69145edb9cb6b9ba29a5907",
      "placeholder": "​",
      "style": "IPY_MODEL_0550832918a441b5bf043229743ca30d",
      "value": " 46/46 [00:00&lt;00:00, 720.44 examples/s]"
     }
    },
    "127622fcf12e491996a02f81aad875fd": {
     "model_module": "@jupyter-widgets/controls",
     "model_module_version": "1.5.0",
     "model_name": "HBoxModel",
     "state": {
      "_dom_classes": [],
      "_model_module": "@jupyter-widgets/controls",
      "_model_module_version": "1.5.0",
      "_model_name": "HBoxModel",
      "_view_count": null,
      "_view_module": "@jupyter-widgets/controls",
      "_view_module_version": "1.5.0",
      "_view_name": "HBoxView",
      "box_style": "",
      "children": [
       "IPY_MODEL_bfaaa02ed1d14653915812a578e82d38",
       "IPY_MODEL_12cc9e396cc04ebdbefd62523c600491",
       "IPY_MODEL_4a468340fcad48cc8c13cb9891cfff6f"
      ],
      "layout": "IPY_MODEL_4e8deb53e65e420b85a7ec39bb47219b"
     }
    },
    "12cc9e396cc04ebdbefd62523c600491": {
     "model_module": "@jupyter-widgets/controls",
     "model_module_version": "1.5.0",
     "model_name": "FloatProgressModel",
     "state": {
      "_dom_classes": [],
      "_model_module": "@jupyter-widgets/controls",
      "_model_module_version": "1.5.0",
      "_model_name": "FloatProgressModel",
      "_view_count": null,
      "_view_module": "@jupyter-widgets/controls",
      "_view_module_version": "1.5.0",
      "_view_name": "ProgressView",
      "bar_style": "success",
      "description": "",
      "description_tooltip": null,
      "layout": "IPY_MODEL_e4e47138652b49b9a1e1b45190643994",
      "max": 1,
      "min": 0,
      "orientation": "horizontal",
      "style": "IPY_MODEL_bbebd3eb52c04847ab9be287d98d088c",
      "value": 1
     }
    },
    "23015010b6ab4896ad6fcbdb01f5e1a6": {
     "model_module": "@jupyter-widgets/controls",
     "model_module_version": "1.5.0",
     "model_name": "DescriptionStyleModel",
     "state": {
      "_model_module": "@jupyter-widgets/controls",
      "_model_module_version": "1.5.0",
      "_model_name": "DescriptionStyleModel",
      "_view_count": null,
      "_view_module": "@jupyter-widgets/base",
      "_view_module_version": "1.2.0",
      "_view_name": "StyleView",
      "description_width": ""
     }
    },
    "28f92ffc313c466c809a549bd590aa69": {
     "model_module": "@jupyter-widgets/base",
     "model_module_version": "1.2.0",
     "model_name": "LayoutModel",
     "state": {
      "_model_module": "@jupyter-widgets/base",
      "_model_module_version": "1.2.0",
      "_model_name": "LayoutModel",
      "_view_count": null,
      "_view_module": "@jupyter-widgets/base",
      "_view_module_version": "1.2.0",
      "_view_name": "LayoutView",
      "align_content": null,
      "align_items": null,
      "align_self": null,
      "border": null,
      "bottom": null,
      "display": null,
      "flex": null,
      "flex_flow": null,
      "grid_area": null,
      "grid_auto_columns": null,
      "grid_auto_flow": null,
      "grid_auto_rows": null,
      "grid_column": null,
      "grid_gap": null,
      "grid_row": null,
      "grid_template_areas": null,
      "grid_template_columns": null,
      "grid_template_rows": null,
      "height": null,
      "justify_content": null,
      "justify_items": null,
      "left": null,
      "margin": null,
      "max_height": null,
      "max_width": null,
      "min_height": null,
      "min_width": null,
      "object_fit": null,
      "object_position": null,
      "order": null,
      "overflow": null,
      "overflow_x": null,
      "overflow_y": null,
      "padding": null,
      "right": null,
      "top": null,
      "visibility": null,
      "width": null
     }
    },
    "4a468340fcad48cc8c13cb9891cfff6f": {
     "model_module": "@jupyter-widgets/controls",
     "model_module_version": "1.5.0",
     "model_name": "HTMLModel",
     "state": {
      "_dom_classes": [],
      "_model_module": "@jupyter-widgets/controls",
      "_model_module_version": "1.5.0",
      "_model_name": "HTMLModel",
      "_view_count": null,
      "_view_module": "@jupyter-widgets/controls",
      "_view_module_version": "1.5.0",
      "_view_name": "HTMLView",
      "description": "",
      "description_tooltip": null,
      "layout": "IPY_MODEL_8797874e4ab2465492b709fa2e4849f5",
      "placeholder": "​",
      "style": "IPY_MODEL_23015010b6ab4896ad6fcbdb01f5e1a6",
      "value": " 1/1 [00:00&lt;00:00, 41.23 examples/s]"
     }
    },
    "4e8deb53e65e420b85a7ec39bb47219b": {
     "model_module": "@jupyter-widgets/base",
     "model_module_version": "1.2.0",
     "model_name": "LayoutModel",
     "state": {
      "_model_module": "@jupyter-widgets/base",
      "_model_module_version": "1.2.0",
      "_model_name": "LayoutModel",
      "_view_count": null,
      "_view_module": "@jupyter-widgets/base",
      "_view_module_version": "1.2.0",
      "_view_name": "LayoutView",
      "align_content": null,
      "align_items": null,
      "align_self": null,
      "border": null,
      "bottom": null,
      "display": null,
      "flex": null,
      "flex_flow": null,
      "grid_area": null,
      "grid_auto_columns": null,
      "grid_auto_flow": null,
      "grid_auto_rows": null,
      "grid_column": null,
      "grid_gap": null,
      "grid_row": null,
      "grid_template_areas": null,
      "grid_template_columns": null,
      "grid_template_rows": null,
      "height": null,
      "justify_content": null,
      "justify_items": null,
      "left": null,
      "margin": null,
      "max_height": null,
      "max_width": null,
      "min_height": null,
      "min_width": null,
      "object_fit": null,
      "object_position": null,
      "order": null,
      "overflow": null,
      "overflow_x": null,
      "overflow_y": null,
      "padding": null,
      "right": null,
      "top": null,
      "visibility": null,
      "width": null
     }
    },
    "4fda54126a4142b785b0c1c609f0c7fe": {
     "model_module": "@jupyter-widgets/controls",
     "model_module_version": "1.5.0",
     "model_name": "DescriptionStyleModel",
     "state": {
      "_model_module": "@jupyter-widgets/controls",
      "_model_module_version": "1.5.0",
      "_model_name": "DescriptionStyleModel",
      "_view_count": null,
      "_view_module": "@jupyter-widgets/base",
      "_view_module_version": "1.2.0",
      "_view_name": "StyleView",
      "description_width": ""
     }
    },
    "55bb1f53205d4c9bae2004353c53aad8": {
     "model_module": "@jupyter-widgets/controls",
     "model_module_version": "1.5.0",
     "model_name": "DescriptionStyleModel",
     "state": {
      "_model_module": "@jupyter-widgets/controls",
      "_model_module_version": "1.5.0",
      "_model_name": "DescriptionStyleModel",
      "_view_count": null,
      "_view_module": "@jupyter-widgets/base",
      "_view_module_version": "1.2.0",
      "_view_name": "StyleView",
      "description_width": ""
     }
    },
    "55fc3957754c47939178a132f6b7a64c": {
     "model_module": "@jupyter-widgets/controls",
     "model_module_version": "1.5.0",
     "model_name": "HTMLModel",
     "state": {
      "_dom_classes": [],
      "_model_module": "@jupyter-widgets/controls",
      "_model_module_version": "1.5.0",
      "_model_name": "HTMLModel",
      "_view_count": null,
      "_view_module": "@jupyter-widgets/controls",
      "_view_module_version": "1.5.0",
      "_view_name": "HTMLView",
      "description": "",
      "description_tooltip": null,
      "layout": "IPY_MODEL_d81c59c8ea3848dd9152d625919a9383",
      "placeholder": "​",
      "style": "IPY_MODEL_9c05de8c776247158d0ba1772c42d3c4",
      "value": "Map: 100%"
     }
    },
    "60abf7726eb9403ab103b158a6f27121": {
     "model_module": "@jupyter-widgets/controls",
     "model_module_version": "1.5.0",
     "model_name": "HTMLModel",
     "state": {
      "_dom_classes": [],
      "_model_module": "@jupyter-widgets/controls",
      "_model_module_version": "1.5.0",
      "_model_name": "HTMLModel",
      "_view_count": null,
      "_view_module": "@jupyter-widgets/controls",
      "_view_module_version": "1.5.0",
      "_view_name": "HTMLView",
      "description": "",
      "description_tooltip": null,
      "layout": "IPY_MODEL_e6f15fcd792b4f7d868cab63a0cca56c",
      "placeholder": "​",
      "style": "IPY_MODEL_55bb1f53205d4c9bae2004353c53aad8",
      "value": "Map: 100%"
     }
    },
    "6723532bff65455a98d44ec4dff51108": {
     "model_module": "@jupyter-widgets/controls",
     "model_module_version": "1.5.0",
     "model_name": "DescriptionStyleModel",
     "state": {
      "_model_module": "@jupyter-widgets/controls",
      "_model_module_version": "1.5.0",
      "_model_name": "DescriptionStyleModel",
      "_view_count": null,
      "_view_module": "@jupyter-widgets/base",
      "_view_module_version": "1.2.0",
      "_view_name": "StyleView",
      "description_width": ""
     }
    },
    "6e023304fb5e438c83b636eb0714bb88": {
     "model_module": "@jupyter-widgets/controls",
     "model_module_version": "1.5.0",
     "model_name": "FloatProgressModel",
     "state": {
      "_dom_classes": [],
      "_model_module": "@jupyter-widgets/controls",
      "_model_module_version": "1.5.0",
      "_model_name": "FloatProgressModel",
      "_view_count": null,
      "_view_module": "@jupyter-widgets/controls",
      "_view_module_version": "1.5.0",
      "_view_name": "ProgressView",
      "bar_style": "success",
      "description": "",
      "description_tooltip": null,
      "layout": "IPY_MODEL_8920a730014b4dd8becd1adec87b4cc8",
      "max": 46,
      "min": 0,
      "orientation": "horizontal",
      "style": "IPY_MODEL_7d6e4fa8554b4174ae50dee0d69d9755",
      "value": 46
     }
    },
    "73a59027dca74895b6612dcf9a486cef": {
     "model_module": "@jupyter-widgets/controls",
     "model_module_version": "1.5.0",
     "model_name": "HTMLModel",
     "state": {
      "_dom_classes": [],
      "_model_module": "@jupyter-widgets/controls",
      "_model_module_version": "1.5.0",
      "_model_name": "HTMLModel",
      "_view_count": null,
      "_view_module": "@jupyter-widgets/controls",
      "_view_module_version": "1.5.0",
      "_view_name": "HTMLView",
      "description": "",
      "description_tooltip": null,
      "layout": "IPY_MODEL_d90f126d254d4ba092ce3bab21ae5c9b",
      "placeholder": "​",
      "style": "IPY_MODEL_ab9b26dd5abb47a68dcae6e70be392f4",
      "value": " 1/1 [00:00&lt;00:00, 48.11 examples/s]"
     }
    },
    "74ad46cb1c414c1bb2fbcedfd2692f66": {
     "model_module": "@jupyter-widgets/controls",
     "model_module_version": "1.5.0",
     "model_name": "ProgressStyleModel",
     "state": {
      "_model_module": "@jupyter-widgets/controls",
      "_model_module_version": "1.5.0",
      "_model_name": "ProgressStyleModel",
      "_view_count": null,
      "_view_module": "@jupyter-widgets/base",
      "_view_module_version": "1.2.0",
      "_view_name": "StyleView",
      "bar_color": null,
      "description_width": ""
     }
    },
    "7b4fd0aec224466a9d8a1abac7d6db24": {
     "model_module": "@jupyter-widgets/controls",
     "model_module_version": "1.5.0",
     "model_name": "HBoxModel",
     "state": {
      "_dom_classes": [],
      "_model_module": "@jupyter-widgets/controls",
      "_model_module_version": "1.5.0",
      "_model_name": "HBoxModel",
      "_view_count": null,
      "_view_module": "@jupyter-widgets/controls",
      "_view_module_version": "1.5.0",
      "_view_name": "HBoxView",
      "box_style": "",
      "children": [
       "IPY_MODEL_55fc3957754c47939178a132f6b7a64c",
       "IPY_MODEL_da92163d90924caeba6ef775e9f076c6",
       "IPY_MODEL_a4efa7614eca404fbe763355731b7dff"
      ],
      "layout": "IPY_MODEL_dfa2f82e46ce42f98f9400fb34967dbd"
     }
    },
    "7d6e4fa8554b4174ae50dee0d69d9755": {
     "model_module": "@jupyter-widgets/controls",
     "model_module_version": "1.5.0",
     "model_name": "ProgressStyleModel",
     "state": {
      "_model_module": "@jupyter-widgets/controls",
      "_model_module_version": "1.5.0",
      "_model_name": "ProgressStyleModel",
      "_view_count": null,
      "_view_module": "@jupyter-widgets/base",
      "_view_module_version": "1.2.0",
      "_view_name": "StyleView",
      "bar_color": null,
      "description_width": ""
     }
    },
    "8797874e4ab2465492b709fa2e4849f5": {
     "model_module": "@jupyter-widgets/base",
     "model_module_version": "1.2.0",
     "model_name": "LayoutModel",
     "state": {
      "_model_module": "@jupyter-widgets/base",
      "_model_module_version": "1.2.0",
      "_model_name": "LayoutModel",
      "_view_count": null,
      "_view_module": "@jupyter-widgets/base",
      "_view_module_version": "1.2.0",
      "_view_name": "LayoutView",
      "align_content": null,
      "align_items": null,
      "align_self": null,
      "border": null,
      "bottom": null,
      "display": null,
      "flex": null,
      "flex_flow": null,
      "grid_area": null,
      "grid_auto_columns": null,
      "grid_auto_flow": null,
      "grid_auto_rows": null,
      "grid_column": null,
      "grid_gap": null,
      "grid_row": null,
      "grid_template_areas": null,
      "grid_template_columns": null,
      "grid_template_rows": null,
      "height": null,
      "justify_content": null,
      "justify_items": null,
      "left": null,
      "margin": null,
      "max_height": null,
      "max_width": null,
      "min_height": null,
      "min_width": null,
      "object_fit": null,
      "object_position": null,
      "order": null,
      "overflow": null,
      "overflow_x": null,
      "overflow_y": null,
      "padding": null,
      "right": null,
      "top": null,
      "visibility": null,
      "width": null
     }
    },
    "8920a730014b4dd8becd1adec87b4cc8": {
     "model_module": "@jupyter-widgets/base",
     "model_module_version": "1.2.0",
     "model_name": "LayoutModel",
     "state": {
      "_model_module": "@jupyter-widgets/base",
      "_model_module_version": "1.2.0",
      "_model_name": "LayoutModel",
      "_view_count": null,
      "_view_module": "@jupyter-widgets/base",
      "_view_module_version": "1.2.0",
      "_view_name": "LayoutView",
      "align_content": null,
      "align_items": null,
      "align_self": null,
      "border": null,
      "bottom": null,
      "display": null,
      "flex": null,
      "flex_flow": null,
      "grid_area": null,
      "grid_auto_columns": null,
      "grid_auto_flow": null,
      "grid_auto_rows": null,
      "grid_column": null,
      "grid_gap": null,
      "grid_row": null,
      "grid_template_areas": null,
      "grid_template_columns": null,
      "grid_template_rows": null,
      "height": null,
      "justify_content": null,
      "justify_items": null,
      "left": null,
      "margin": null,
      "max_height": null,
      "max_width": null,
      "min_height": null,
      "min_width": null,
      "object_fit": null,
      "object_position": null,
      "order": null,
      "overflow": null,
      "overflow_x": null,
      "overflow_y": null,
      "padding": null,
      "right": null,
      "top": null,
      "visibility": null,
      "width": null
     }
    },
    "95c500ce5be044cc989eeedf27159ef8": {
     "model_module": "@jupyter-widgets/base",
     "model_module_version": "1.2.0",
     "model_name": "LayoutModel",
     "state": {
      "_model_module": "@jupyter-widgets/base",
      "_model_module_version": "1.2.0",
      "_model_name": "LayoutModel",
      "_view_count": null,
      "_view_module": "@jupyter-widgets/base",
      "_view_module_version": "1.2.0",
      "_view_name": "LayoutView",
      "align_content": null,
      "align_items": null,
      "align_self": null,
      "border": null,
      "bottom": null,
      "display": null,
      "flex": null,
      "flex_flow": null,
      "grid_area": null,
      "grid_auto_columns": null,
      "grid_auto_flow": null,
      "grid_auto_rows": null,
      "grid_column": null,
      "grid_gap": null,
      "grid_row": null,
      "grid_template_areas": null,
      "grid_template_columns": null,
      "grid_template_rows": null,
      "height": null,
      "justify_content": null,
      "justify_items": null,
      "left": null,
      "margin": null,
      "max_height": null,
      "max_width": null,
      "min_height": null,
      "min_width": null,
      "object_fit": null,
      "object_position": null,
      "order": null,
      "overflow": null,
      "overflow_x": null,
      "overflow_y": null,
      "padding": null,
      "right": null,
      "top": null,
      "visibility": null,
      "width": null
     }
    },
    "9c05de8c776247158d0ba1772c42d3c4": {
     "model_module": "@jupyter-widgets/controls",
     "model_module_version": "1.5.0",
     "model_name": "DescriptionStyleModel",
     "state": {
      "_model_module": "@jupyter-widgets/controls",
      "_model_module_version": "1.5.0",
      "_model_name": "DescriptionStyleModel",
      "_view_count": null,
      "_view_module": "@jupyter-widgets/base",
      "_view_module_version": "1.2.0",
      "_view_name": "StyleView",
      "description_width": ""
     }
    },
    "9e565ad52da44e878102408c32372d0b": {
     "model_module": "@jupyter-widgets/base",
     "model_module_version": "1.2.0",
     "model_name": "LayoutModel",
     "state": {
      "_model_module": "@jupyter-widgets/base",
      "_model_module_version": "1.2.0",
      "_model_name": "LayoutModel",
      "_view_count": null,
      "_view_module": "@jupyter-widgets/base",
      "_view_module_version": "1.2.0",
      "_view_name": "LayoutView",
      "align_content": null,
      "align_items": null,
      "align_self": null,
      "border": null,
      "bottom": null,
      "display": null,
      "flex": null,
      "flex_flow": null,
      "grid_area": null,
      "grid_auto_columns": null,
      "grid_auto_flow": null,
      "grid_auto_rows": null,
      "grid_column": null,
      "grid_gap": null,
      "grid_row": null,
      "grid_template_areas": null,
      "grid_template_columns": null,
      "grid_template_rows": null,
      "height": null,
      "justify_content": null,
      "justify_items": null,
      "left": null,
      "margin": null,
      "max_height": null,
      "max_width": null,
      "min_height": null,
      "min_width": null,
      "object_fit": null,
      "object_position": null,
      "order": null,
      "overflow": null,
      "overflow_x": null,
      "overflow_y": null,
      "padding": null,
      "right": null,
      "top": null,
      "visibility": null,
      "width": null
     }
    },
    "9ef2b5acc60f462896461dfd4c15f857": {
     "model_module": "@jupyter-widgets/base",
     "model_module_version": "1.2.0",
     "model_name": "LayoutModel",
     "state": {
      "_model_module": "@jupyter-widgets/base",
      "_model_module_version": "1.2.0",
      "_model_name": "LayoutModel",
      "_view_count": null,
      "_view_module": "@jupyter-widgets/base",
      "_view_module_version": "1.2.0",
      "_view_name": "LayoutView",
      "align_content": null,
      "align_items": null,
      "align_self": null,
      "border": null,
      "bottom": null,
      "display": null,
      "flex": null,
      "flex_flow": null,
      "grid_area": null,
      "grid_auto_columns": null,
      "grid_auto_flow": null,
      "grid_auto_rows": null,
      "grid_column": null,
      "grid_gap": null,
      "grid_row": null,
      "grid_template_areas": null,
      "grid_template_columns": null,
      "grid_template_rows": null,
      "height": null,
      "justify_content": null,
      "justify_items": null,
      "left": null,
      "margin": null,
      "max_height": null,
      "max_width": null,
      "min_height": null,
      "min_width": null,
      "object_fit": null,
      "object_position": null,
      "order": null,
      "overflow": null,
      "overflow_x": null,
      "overflow_y": null,
      "padding": null,
      "right": null,
      "top": null,
      "visibility": null,
      "width": null
     }
    },
    "a411138acadf43f3afdeaa3d42dc014e": {
     "model_module": "@jupyter-widgets/controls",
     "model_module_version": "1.5.0",
     "model_name": "HBoxModel",
     "state": {
      "_dom_classes": [],
      "_model_module": "@jupyter-widgets/controls",
      "_model_module_version": "1.5.0",
      "_model_name": "HBoxModel",
      "_view_count": null,
      "_view_module": "@jupyter-widgets/controls",
      "_view_module_version": "1.5.0",
      "_view_name": "HBoxView",
      "box_style": "",
      "children": [
       "IPY_MODEL_60abf7726eb9403ab103b158a6f27121",
       "IPY_MODEL_6e023304fb5e438c83b636eb0714bb88",
       "IPY_MODEL_10c94187f0a94c5ea03afc8b61957e53"
      ],
      "layout": "IPY_MODEL_9ef2b5acc60f462896461dfd4c15f857"
     }
    },
    "a4efa7614eca404fbe763355731b7dff": {
     "model_module": "@jupyter-widgets/controls",
     "model_module_version": "1.5.0",
     "model_name": "HTMLModel",
     "state": {
      "_dom_classes": [],
      "_model_module": "@jupyter-widgets/controls",
      "_model_module_version": "1.5.0",
      "_model_name": "HTMLModel",
      "_view_count": null,
      "_view_module": "@jupyter-widgets/controls",
      "_view_module_version": "1.5.0",
      "_view_name": "HTMLView",
      "description": "",
      "description_tooltip": null,
      "layout": "IPY_MODEL_08fdde10635d4e11b7b958265643e667",
      "placeholder": "​",
      "style": "IPY_MODEL_acd14bc279264c3287a0ec177ed84b1f",
      "value": " 3104/3104 [00:00&lt;00:00, 5815.75 examples/s]"
     }
    },
    "ab9b26dd5abb47a68dcae6e70be392f4": {
     "model_module": "@jupyter-widgets/controls",
     "model_module_version": "1.5.0",
     "model_name": "DescriptionStyleModel",
     "state": {
      "_model_module": "@jupyter-widgets/controls",
      "_model_module_version": "1.5.0",
      "_model_name": "DescriptionStyleModel",
      "_view_count": null,
      "_view_module": "@jupyter-widgets/base",
      "_view_module_version": "1.2.0",
      "_view_name": "StyleView",
      "description_width": ""
     }
    },
    "acd14bc279264c3287a0ec177ed84b1f": {
     "model_module": "@jupyter-widgets/controls",
     "model_module_version": "1.5.0",
     "model_name": "DescriptionStyleModel",
     "state": {
      "_model_module": "@jupyter-widgets/controls",
      "_model_module_version": "1.5.0",
      "_model_name": "DescriptionStyleModel",
      "_view_count": null,
      "_view_module": "@jupyter-widgets/base",
      "_view_module_version": "1.2.0",
      "_view_name": "StyleView",
      "description_width": ""
     }
    },
    "ad1e7de0582e4e46bc4b6ab7ee2b8763": {
     "model_module": "@jupyter-widgets/base",
     "model_module_version": "1.2.0",
     "model_name": "LayoutModel",
     "state": {
      "_model_module": "@jupyter-widgets/base",
      "_model_module_version": "1.2.0",
      "_model_name": "LayoutModel",
      "_view_count": null,
      "_view_module": "@jupyter-widgets/base",
      "_view_module_version": "1.2.0",
      "_view_name": "LayoutView",
      "align_content": null,
      "align_items": null,
      "align_self": null,
      "border": null,
      "bottom": null,
      "display": null,
      "flex": null,
      "flex_flow": null,
      "grid_area": null,
      "grid_auto_columns": null,
      "grid_auto_flow": null,
      "grid_auto_rows": null,
      "grid_column": null,
      "grid_gap": null,
      "grid_row": null,
      "grid_template_areas": null,
      "grid_template_columns": null,
      "grid_template_rows": null,
      "height": null,
      "justify_content": null,
      "justify_items": null,
      "left": null,
      "margin": null,
      "max_height": null,
      "max_width": null,
      "min_height": null,
      "min_width": null,
      "object_fit": null,
      "object_position": null,
      "order": null,
      "overflow": null,
      "overflow_x": null,
      "overflow_y": null,
      "padding": null,
      "right": null,
      "top": null,
      "visibility": null,
      "width": null
     }
    },
    "bb133b070181457c8426bf6d43126245": {
     "model_module": "@jupyter-widgets/controls",
     "model_module_version": "1.5.0",
     "model_name": "FloatProgressModel",
     "state": {
      "_dom_classes": [],
      "_model_module": "@jupyter-widgets/controls",
      "_model_module_version": "1.5.0",
      "_model_name": "FloatProgressModel",
      "_view_count": null,
      "_view_module": "@jupyter-widgets/controls",
      "_view_module_version": "1.5.0",
      "_view_name": "ProgressView",
      "bar_style": "success",
      "description": "",
      "description_tooltip": null,
      "layout": "IPY_MODEL_9e565ad52da44e878102408c32372d0b",
      "max": 1,
      "min": 0,
      "orientation": "horizontal",
      "style": "IPY_MODEL_74ad46cb1c414c1bb2fbcedfd2692f66",
      "value": 1
     }
    },
    "bbebd3eb52c04847ab9be287d98d088c": {
     "model_module": "@jupyter-widgets/controls",
     "model_module_version": "1.5.0",
     "model_name": "ProgressStyleModel",
     "state": {
      "_model_module": "@jupyter-widgets/controls",
      "_model_module_version": "1.5.0",
      "_model_name": "ProgressStyleModel",
      "_view_count": null,
      "_view_module": "@jupyter-widgets/base",
      "_view_module_version": "1.2.0",
      "_view_name": "StyleView",
      "bar_color": null,
      "description_width": ""
     }
    },
    "bfaaa02ed1d14653915812a578e82d38": {
     "model_module": "@jupyter-widgets/controls",
     "model_module_version": "1.5.0",
     "model_name": "HTMLModel",
     "state": {
      "_dom_classes": [],
      "_model_module": "@jupyter-widgets/controls",
      "_model_module_version": "1.5.0",
      "_model_name": "HTMLModel",
      "_view_count": null,
      "_view_module": "@jupyter-widgets/controls",
      "_view_module_version": "1.5.0",
      "_view_name": "HTMLView",
      "description": "",
      "description_tooltip": null,
      "layout": "IPY_MODEL_28f92ffc313c466c809a549bd590aa69",
      "placeholder": "​",
      "style": "IPY_MODEL_6723532bff65455a98d44ec4dff51108",
      "value": "Map: 100%"
     }
    },
    "c5aad7af8daa466195520c4e89dd4454": {
     "model_module": "@jupyter-widgets/controls",
     "model_module_version": "1.5.0",
     "model_name": "HTMLModel",
     "state": {
      "_dom_classes": [],
      "_model_module": "@jupyter-widgets/controls",
      "_model_module_version": "1.5.0",
      "_model_name": "HTMLModel",
      "_view_count": null,
      "_view_module": "@jupyter-widgets/controls",
      "_view_module_version": "1.5.0",
      "_view_name": "HTMLView",
      "description": "",
      "description_tooltip": null,
      "layout": "IPY_MODEL_ad1e7de0582e4e46bc4b6ab7ee2b8763",
      "placeholder": "​",
      "style": "IPY_MODEL_4fda54126a4142b785b0c1c609f0c7fe",
      "value": "Map: 100%"
     }
    },
    "d81c59c8ea3848dd9152d625919a9383": {
     "model_module": "@jupyter-widgets/base",
     "model_module_version": "1.2.0",
     "model_name": "LayoutModel",
     "state": {
      "_model_module": "@jupyter-widgets/base",
      "_model_module_version": "1.2.0",
      "_model_name": "LayoutModel",
      "_view_count": null,
      "_view_module": "@jupyter-widgets/base",
      "_view_module_version": "1.2.0",
      "_view_name": "LayoutView",
      "align_content": null,
      "align_items": null,
      "align_self": null,
      "border": null,
      "bottom": null,
      "display": null,
      "flex": null,
      "flex_flow": null,
      "grid_area": null,
      "grid_auto_columns": null,
      "grid_auto_flow": null,
      "grid_auto_rows": null,
      "grid_column": null,
      "grid_gap": null,
      "grid_row": null,
      "grid_template_areas": null,
      "grid_template_columns": null,
      "grid_template_rows": null,
      "height": null,
      "justify_content": null,
      "justify_items": null,
      "left": null,
      "margin": null,
      "max_height": null,
      "max_width": null,
      "min_height": null,
      "min_width": null,
      "object_fit": null,
      "object_position": null,
      "order": null,
      "overflow": null,
      "overflow_x": null,
      "overflow_y": null,
      "padding": null,
      "right": null,
      "top": null,
      "visibility": null,
      "width": null
     }
    },
    "d90f126d254d4ba092ce3bab21ae5c9b": {
     "model_module": "@jupyter-widgets/base",
     "model_module_version": "1.2.0",
     "model_name": "LayoutModel",
     "state": {
      "_model_module": "@jupyter-widgets/base",
      "_model_module_version": "1.2.0",
      "_model_name": "LayoutModel",
      "_view_count": null,
      "_view_module": "@jupyter-widgets/base",
      "_view_module_version": "1.2.0",
      "_view_name": "LayoutView",
      "align_content": null,
      "align_items": null,
      "align_self": null,
      "border": null,
      "bottom": null,
      "display": null,
      "flex": null,
      "flex_flow": null,
      "grid_area": null,
      "grid_auto_columns": null,
      "grid_auto_flow": null,
      "grid_auto_rows": null,
      "grid_column": null,
      "grid_gap": null,
      "grid_row": null,
      "grid_template_areas": null,
      "grid_template_columns": null,
      "grid_template_rows": null,
      "height": null,
      "justify_content": null,
      "justify_items": null,
      "left": null,
      "margin": null,
      "max_height": null,
      "max_width": null,
      "min_height": null,
      "min_width": null,
      "object_fit": null,
      "object_position": null,
      "order": null,
      "overflow": null,
      "overflow_x": null,
      "overflow_y": null,
      "padding": null,
      "right": null,
      "top": null,
      "visibility": null,
      "width": null
     }
    },
    "da92163d90924caeba6ef775e9f076c6": {
     "model_module": "@jupyter-widgets/controls",
     "model_module_version": "1.5.0",
     "model_name": "FloatProgressModel",
     "state": {
      "_dom_classes": [],
      "_model_module": "@jupyter-widgets/controls",
      "_model_module_version": "1.5.0",
      "_model_name": "FloatProgressModel",
      "_view_count": null,
      "_view_module": "@jupyter-widgets/controls",
      "_view_module_version": "1.5.0",
      "_view_name": "ProgressView",
      "bar_style": "success",
      "description": "",
      "description_tooltip": null,
      "layout": "IPY_MODEL_0564c242b17747189d4b7fe94f986189",
      "max": 3104,
      "min": 0,
      "orientation": "horizontal",
      "style": "IPY_MODEL_f8a8132dd5e34397ba0004335c466827",
      "value": 3104
     }
    },
    "dfa2f82e46ce42f98f9400fb34967dbd": {
     "model_module": "@jupyter-widgets/base",
     "model_module_version": "1.2.0",
     "model_name": "LayoutModel",
     "state": {
      "_model_module": "@jupyter-widgets/base",
      "_model_module_version": "1.2.0",
      "_model_name": "LayoutModel",
      "_view_count": null,
      "_view_module": "@jupyter-widgets/base",
      "_view_module_version": "1.2.0",
      "_view_name": "LayoutView",
      "align_content": null,
      "align_items": null,
      "align_self": null,
      "border": null,
      "bottom": null,
      "display": null,
      "flex": null,
      "flex_flow": null,
      "grid_area": null,
      "grid_auto_columns": null,
      "grid_auto_flow": null,
      "grid_auto_rows": null,
      "grid_column": null,
      "grid_gap": null,
      "grid_row": null,
      "grid_template_areas": null,
      "grid_template_columns": null,
      "grid_template_rows": null,
      "height": null,
      "justify_content": null,
      "justify_items": null,
      "left": null,
      "margin": null,
      "max_height": null,
      "max_width": null,
      "min_height": null,
      "min_width": null,
      "object_fit": null,
      "object_position": null,
      "order": null,
      "overflow": null,
      "overflow_x": null,
      "overflow_y": null,
      "padding": null,
      "right": null,
      "top": null,
      "visibility": null,
      "width": null
     }
    },
    "dfd8f0a5be7b42609dc9d81f52edc690": {
     "model_module": "@jupyter-widgets/controls",
     "model_module_version": "1.5.0",
     "model_name": "HBoxModel",
     "state": {
      "_dom_classes": [],
      "_model_module": "@jupyter-widgets/controls",
      "_model_module_version": "1.5.0",
      "_model_name": "HBoxModel",
      "_view_count": null,
      "_view_module": "@jupyter-widgets/controls",
      "_view_module_version": "1.5.0",
      "_view_name": "HBoxView",
      "box_style": "",
      "children": [
       "IPY_MODEL_c5aad7af8daa466195520c4e89dd4454",
       "IPY_MODEL_bb133b070181457c8426bf6d43126245",
       "IPY_MODEL_73a59027dca74895b6612dcf9a486cef"
      ],
      "layout": "IPY_MODEL_95c500ce5be044cc989eeedf27159ef8"
     }
    },
    "e4e47138652b49b9a1e1b45190643994": {
     "model_module": "@jupyter-widgets/base",
     "model_module_version": "1.2.0",
     "model_name": "LayoutModel",
     "state": {
      "_model_module": "@jupyter-widgets/base",
      "_model_module_version": "1.2.0",
      "_model_name": "LayoutModel",
      "_view_count": null,
      "_view_module": "@jupyter-widgets/base",
      "_view_module_version": "1.2.0",
      "_view_name": "LayoutView",
      "align_content": null,
      "align_items": null,
      "align_self": null,
      "border": null,
      "bottom": null,
      "display": null,
      "flex": null,
      "flex_flow": null,
      "grid_area": null,
      "grid_auto_columns": null,
      "grid_auto_flow": null,
      "grid_auto_rows": null,
      "grid_column": null,
      "grid_gap": null,
      "grid_row": null,
      "grid_template_areas": null,
      "grid_template_columns": null,
      "grid_template_rows": null,
      "height": null,
      "justify_content": null,
      "justify_items": null,
      "left": null,
      "margin": null,
      "max_height": null,
      "max_width": null,
      "min_height": null,
      "min_width": null,
      "object_fit": null,
      "object_position": null,
      "order": null,
      "overflow": null,
      "overflow_x": null,
      "overflow_y": null,
      "padding": null,
      "right": null,
      "top": null,
      "visibility": null,
      "width": null
     }
    },
    "e6f15fcd792b4f7d868cab63a0cca56c": {
     "model_module": "@jupyter-widgets/base",
     "model_module_version": "1.2.0",
     "model_name": "LayoutModel",
     "state": {
      "_model_module": "@jupyter-widgets/base",
      "_model_module_version": "1.2.0",
      "_model_name": "LayoutModel",
      "_view_count": null,
      "_view_module": "@jupyter-widgets/base",
      "_view_module_version": "1.2.0",
      "_view_name": "LayoutView",
      "align_content": null,
      "align_items": null,
      "align_self": null,
      "border": null,
      "bottom": null,
      "display": null,
      "flex": null,
      "flex_flow": null,
      "grid_area": null,
      "grid_auto_columns": null,
      "grid_auto_flow": null,
      "grid_auto_rows": null,
      "grid_column": null,
      "grid_gap": null,
      "grid_row": null,
      "grid_template_areas": null,
      "grid_template_columns": null,
      "grid_template_rows": null,
      "height": null,
      "justify_content": null,
      "justify_items": null,
      "left": null,
      "margin": null,
      "max_height": null,
      "max_width": null,
      "min_height": null,
      "min_width": null,
      "object_fit": null,
      "object_position": null,
      "order": null,
      "overflow": null,
      "overflow_x": null,
      "overflow_y": null,
      "padding": null,
      "right": null,
      "top": null,
      "visibility": null,
      "width": null
     }
    },
    "f8a8132dd5e34397ba0004335c466827": {
     "model_module": "@jupyter-widgets/controls",
     "model_module_version": "1.5.0",
     "model_name": "ProgressStyleModel",
     "state": {
      "_model_module": "@jupyter-widgets/controls",
      "_model_module_version": "1.5.0",
      "_model_name": "ProgressStyleModel",
      "_view_count": null,
      "_view_module": "@jupyter-widgets/base",
      "_view_module_version": "1.2.0",
      "_view_name": "StyleView",
      "bar_color": null,
      "description_width": ""
     }
    }
   }
  }
 },
 "nbformat": 4,
 "nbformat_minor": 1
}
