{
 "cells": [
  {
   "cell_type": "markdown",
   "id": "08aa0898",
   "metadata": {},
   "source": [
    "# Building AI-powered search engine in PostgreSQL and pgvector"
   ]
  },
  {
   "cell_type": "code",
   "execution_count": 1,
   "id": "d94853ce",
   "metadata": {},
   "outputs": [
    {
     "name": "stdout",
     "output_type": "stream",
     "text": [
      "bin C:\\Users\\rusla\\.conda\\envs\\textgen\\lib\\site-packages\\bitsandbytes\\libbitsandbytes_cuda117.dll\n"
     ]
    }
   ],
   "source": [
    "import os\n",
    "from dotenv import load_dotenv\n",
    "from langchain.vectorstores.pgvector import PGVector\n",
    "import psycopg2\n",
    "import numpy as np\n",
    "from PIL import Image\n",
    "import pandas as pd\n",
    "from fashion_clip.fashion_clip import FashionCLIP\n"
   ]
  },
  {
   "cell_type": "markdown",
   "id": "673a1026",
   "metadata": {},
   "source": [
    "## Loading Data"
   ]
  },
  {
   "cell_type": "markdown",
   "id": "72c17458",
   "metadata": {},
   "source": [
    "Let's now FashionCLIP first. It's going to take a couple of minutes to download the model from the HuggingFace Hub."
   ]
  },
  {
   "cell_type": "code",
   "execution_count": 2,
   "id": "99bce4ce",
   "metadata": {},
   "outputs": [],
   "source": [
    "#%%capture\n",
    "fclip = FashionCLIP('fashion-clip')"
   ]
  },
  {
   "cell_type": "code",
   "execution_count": 3,
   "id": "f721655a",
   "metadata": {},
   "outputs": [],
   "source": [
    "#to get the current working directory\n",
    "directory = os.getcwd()\n",
    "# Join various path components\n",
    "path=os.path.join(directory, \"data_for_fashion_clip\", \"subset_data.csv\")"
   ]
  },
  {
   "cell_type": "code",
   "execution_count": 4,
   "id": "d5c8c8ee",
   "metadata": {},
   "outputs": [],
   "source": [
    "subset = pd.read_csv(path)"
   ]
  },
  {
   "cell_type": "code",
   "execution_count": 5,
   "id": "8200c5f0",
   "metadata": {},
   "outputs": [
    {
     "data": {
      "text/html": [
       "<div>\n",
       "<style scoped>\n",
       "    .dataframe tbody tr th:only-of-type {\n",
       "        vertical-align: middle;\n",
       "    }\n",
       "\n",
       "    .dataframe tbody tr th {\n",
       "        vertical-align: top;\n",
       "    }\n",
       "\n",
       "    .dataframe thead th {\n",
       "        text-align: right;\n",
       "    }\n",
       "</style>\n",
       "<table border=\"1\" class=\"dataframe\">\n",
       "  <thead>\n",
       "    <tr style=\"text-align: right;\">\n",
       "      <th></th>\n",
       "      <th>article_id</th>\n",
       "      <th>product_code</th>\n",
       "      <th>prod_name</th>\n",
       "      <th>product_type_no</th>\n",
       "      <th>product_type_name</th>\n",
       "      <th>product_group_name</th>\n",
       "      <th>graphical_appearance_no</th>\n",
       "      <th>graphical_appearance_name</th>\n",
       "      <th>colour_group_code</th>\n",
       "      <th>colour_group_name</th>\n",
       "      <th>...</th>\n",
       "      <th>department_name</th>\n",
       "      <th>index_code</th>\n",
       "      <th>index_name</th>\n",
       "      <th>index_group_no</th>\n",
       "      <th>index_group_name</th>\n",
       "      <th>section_no</th>\n",
       "      <th>section_name</th>\n",
       "      <th>garment_group_no</th>\n",
       "      <th>garment_group_name</th>\n",
       "      <th>detail_desc</th>\n",
       "    </tr>\n",
       "  </thead>\n",
       "  <tbody>\n",
       "    <tr>\n",
       "      <th>0</th>\n",
       "      <td>108775044</td>\n",
       "      <td>108775</td>\n",
       "      <td>Strap top</td>\n",
       "      <td>253</td>\n",
       "      <td>Vest top</td>\n",
       "      <td>Garment Upper body</td>\n",
       "      <td>1010016</td>\n",
       "      <td>Solid</td>\n",
       "      <td>10</td>\n",
       "      <td>White</td>\n",
       "      <td>...</td>\n",
       "      <td>Jersey Basic</td>\n",
       "      <td>A</td>\n",
       "      <td>Ladieswear</td>\n",
       "      <td>1</td>\n",
       "      <td>Ladieswear</td>\n",
       "      <td>16</td>\n",
       "      <td>Womens Everyday Basics</td>\n",
       "      <td>1002</td>\n",
       "      <td>Jersey Basic</td>\n",
       "      <td>Jersey top with narrow shoulder straps.</td>\n",
       "    </tr>\n",
       "    <tr>\n",
       "      <th>1</th>\n",
       "      <td>176754003</td>\n",
       "      <td>176754</td>\n",
       "      <td>2 Row Braided Headband (1)</td>\n",
       "      <td>74</td>\n",
       "      <td>Hair/alice band</td>\n",
       "      <td>Accessories</td>\n",
       "      <td>1010016</td>\n",
       "      <td>Solid</td>\n",
       "      <td>17</td>\n",
       "      <td>Yellowish Brown</td>\n",
       "      <td>...</td>\n",
       "      <td>Hair Accessories</td>\n",
       "      <td>C</td>\n",
       "      <td>Ladies Accessories</td>\n",
       "      <td>1</td>\n",
       "      <td>Ladieswear</td>\n",
       "      <td>66</td>\n",
       "      <td>Womens Small accessories</td>\n",
       "      <td>1019</td>\n",
       "      <td>Accessories</td>\n",
       "      <td>Two-strand hairband with braids in imitation s...</td>\n",
       "    </tr>\n",
       "    <tr>\n",
       "      <th>2</th>\n",
       "      <td>189634031</td>\n",
       "      <td>189634</td>\n",
       "      <td>Long Leg Leggings</td>\n",
       "      <td>273</td>\n",
       "      <td>Leggings/Tights</td>\n",
       "      <td>Garment Lower body</td>\n",
       "      <td>1010016</td>\n",
       "      <td>Solid</td>\n",
       "      <td>93</td>\n",
       "      <td>Dark Green</td>\n",
       "      <td>...</td>\n",
       "      <td>Basic 1</td>\n",
       "      <td>D</td>\n",
       "      <td>Divided</td>\n",
       "      <td>2</td>\n",
       "      <td>Divided</td>\n",
       "      <td>51</td>\n",
       "      <td>Divided Basics</td>\n",
       "      <td>1002</td>\n",
       "      <td>Jersey Basic</td>\n",
       "      <td>Leggings in stretch jersey with an elasticated...</td>\n",
       "    </tr>\n",
       "  </tbody>\n",
       "</table>\n",
       "<p>3 rows × 25 columns</p>\n",
       "</div>"
      ],
      "text/plain": [
       "   article_id  product_code                   prod_name  product_type_no  \\\n",
       "0   108775044        108775                   Strap top              253   \n",
       "1   176754003        176754  2 Row Braided Headband (1)               74   \n",
       "2   189634031        189634           Long Leg Leggings              273   \n",
       "\n",
       "  product_type_name  product_group_name  graphical_appearance_no  \\\n",
       "0          Vest top  Garment Upper body                  1010016   \n",
       "1   Hair/alice band         Accessories                  1010016   \n",
       "2   Leggings/Tights  Garment Lower body                  1010016   \n",
       "\n",
       "  graphical_appearance_name  colour_group_code colour_group_name  ...  \\\n",
       "0                     Solid                 10             White  ...   \n",
       "1                     Solid                 17   Yellowish Brown  ...   \n",
       "2                     Solid                 93        Dark Green  ...   \n",
       "\n",
       "    department_name index_code          index_name index_group_no  \\\n",
       "0      Jersey Basic          A          Ladieswear              1   \n",
       "1  Hair Accessories          C  Ladies Accessories              1   \n",
       "2           Basic 1          D             Divided              2   \n",
       "\n",
       "   index_group_name section_no              section_name garment_group_no  \\\n",
       "0        Ladieswear         16    Womens Everyday Basics             1002   \n",
       "1        Ladieswear         66  Womens Small accessories             1019   \n",
       "2           Divided         51            Divided Basics             1002   \n",
       "\n",
       "   garment_group_name                                        detail_desc  \n",
       "0        Jersey Basic            Jersey top with narrow shoulder straps.  \n",
       "1         Accessories  Two-strand hairband with braids in imitation s...  \n",
       "2        Jersey Basic  Leggings in stretch jersey with an elasticated...  \n",
       "\n",
       "[3 rows x 25 columns]"
      ]
     },
     "execution_count": 5,
     "metadata": {},
     "output_type": "execute_result"
    }
   ],
   "source": [
    "subset.head(3)"
   ]
  },
  {
   "cell_type": "code",
   "execution_count": 6,
   "id": "722b5543",
   "metadata": {},
   "outputs": [
    {
     "data": {
      "text/plain": [
       "'There are 3104 elements in the dataset'"
      ]
     },
     "execution_count": 6,
     "metadata": {},
     "output_type": "execute_result"
    }
   ],
   "source": [
    "subset.to_csv(\"subset_data.csv\", index=False)\n",
    "f\"There are {len(subset)} elements in the dataset\""
   ]
  },
  {
   "cell_type": "markdown",
   "id": "4f14d508",
   "metadata": {},
   "source": [
    "##  Task 1: Creating a products table with vector data type and ingesting the data using PGVector\n"
   ]
  },
  {
   "cell_type": "code",
   "execution_count": 7,
   "id": "11ce3dff",
   "metadata": {},
   "outputs": [
    {
     "name": "stderr",
     "output_type": "stream",
     "text": [
      "100%|██████████████████████████████████████████████████████████████████████████████████| 97/97 [02:49<00:00,  1.75s/it]\n"
     ]
    },
    {
     "data": {
      "application/vnd.jupyter.widget-view+json": {
       "model_id": "02d4d83538c64c69a1cc0cc822585294",
       "version_major": 2,
       "version_minor": 0
      },
      "text/plain": [
       "Map:   0%|          | 0/3104 [00:00<?, ? examples/s]"
      ]
     },
     "metadata": {},
     "output_type": "display_data"
    },
    {
     "name": "stderr",
     "output_type": "stream",
     "text": [
      "100%|██████████████████████████████████████████████████████████████████████████████████| 97/97 [00:05<00:00, 16.78it/s]\n"
     ]
    }
   ],
   "source": [
    "# Assuming you have already obtained the image and text embeddings\n",
    "images = [\"data_for_fashion_clip/\" + str(k) + \".jpg\" for k in subset[\"article_id\"].tolist()]\n",
    "texts = subset[\"detail_desc\"].tolist()\n",
    "\n",
    "# Create image embeddings and text embeddings\n",
    "image_embeddings = fclip.encode_images(images, batch_size=32)\n",
    "text_embeddings = fclip.encode_text(texts, batch_size=32)\n",
    "\n",
    "# Normalize the embeddings to unit norm\n",
    "image_embeddings = image_embeddings / np.linalg.norm(image_embeddings, ord=2, axis=-1, keepdims=True)\n",
    "text_embeddings = text_embeddings / np.linalg.norm(text_embeddings, ord=2, axis=-1, keepdims=True)"
   ]
  },
  {
   "cell_type": "code",
   "execution_count": null,
   "id": "f98a7ba1",
   "metadata": {},
   "outputs": [],
   "source": []
  },
  {
   "cell_type": "markdown",
   "id": "5618e216",
   "metadata": {},
   "source": [
    "# Utils "
   ]
  },
  {
   "cell_type": "code",
   "execution_count": 9,
   "id": "8dd41505",
   "metadata": {},
   "outputs": [],
   "source": [
    "def test_connection(conn):\n",
    "    # Create a cursor object\n",
    "    cursor = conn.cursor()\n",
    "    # Execute a test query\n",
    "    cursor.execute(\"SELECT version();\")\n",
    "    # Fetch the result\n",
    "    result = cursor.fetchone()\n",
    "    print(\"Connection successful!\")\n",
    "    print(\"PostgreSQL version:\", result[0])\n",
    "    # Close the cursor and connection\n",
    "    cursor.close()\n",
    "    #conn.close()"
   ]
  },
  {
   "cell_type": "markdown",
   "id": "4c1ddd31",
   "metadata": {},
   "source": [
    "## Task 2 : Connection to the Server"
   ]
  },
  {
   "cell_type": "code",
   "execution_count": 10,
   "id": "fbde113d",
   "metadata": {},
   "outputs": [
    {
     "name": "stdout",
     "output_type": "stream",
     "text": [
      "Connection successful!\n",
      "PostgreSQL version: PostgreSQL 15.4 (Debian 15.4-2.pgdg120+1) on x86_64-pc-linux-gnu, compiled by gcc (Debian 12.2.0-14) 12.2.0, 64-bit\n"
     ]
    }
   ],
   "source": [
    "import psycopg2\n",
    "from pgvector.psycopg2 import register_vector\n",
    "\n",
    "# Establish connection to the PostgreSQL Docker container\n",
    "conn = psycopg2.connect(\n",
    "    host=\"localhost\",\n",
    "    port=5432,\n",
    "    user=\"testuser\",\n",
    "    password=\"testpwd\",\n",
    "    database=\"vectordb\"\n",
    ")\n",
    "test_connection(conn)\n",
    "# Create a cursor object to execute SQL queries\n",
    "cursor = conn.cursor()\n",
    "\n",
    "# Define the SQL query to drop the table if it exists\n",
    "drop_table_query = \"DROP TABLE IF EXISTS products;\"\n",
    "\n",
    "# Execute the SQL query to drop the table\n",
    "cursor.execute(drop_table_query)\n",
    "\n",
    "# Commit the changes to the database\n",
    "conn.commit()\n",
    "\n",
    "# Define the SQL query to create the table\n",
    "create_table_query = \"\"\"\\\n",
    "CREATE TABLE products (\n",
    "    id SERIAL PRIMARY KEY,\n",
    "    image_embedding vector(512), -- Specify the shape of the vector\n",
    "    text_embedding vector(512) -- Specify the shape of the vector\n",
    ");\n",
    "\"\"\"\n",
    "\n",
    "# Execute the SQL query to create the table\n",
    "cursor.execute(create_table_query)\n",
    "\n",
    "# Commit the changes to the database\n",
    "conn.commit()\n",
    "\n",
    "# Define the SQL query to insert the data into the table\n",
    "insert_data_query = \"INSERT INTO products (image_embedding, text_embedding) VALUES (%s, %s)\"\n",
    "\n",
    "# Iterate through the embeddings and insert them into the table\n",
    "for image_embedding, text_embedding in zip(image_embeddings[:100], text_embeddings[:100]):\n",
    "    try:\n",
    "        cursor.execute(insert_data_query, (image_embedding.tolist(), text_embedding.tolist()))\n",
    "        # Commit the changes to the database\n",
    "        conn.commit()\n",
    "    except Exception as e:\n",
    "        print(f\"Error inserting data: {e}\")\n",
    "        # Rollback the transaction in case of an error\n",
    "        conn.rollback()"
   ]
  },
  {
   "cell_type": "code",
   "execution_count": 11,
   "id": "2969e800",
   "metadata": {},
   "outputs": [],
   "source": [
    "# Create an index for similarity search using L2 distance\n",
    "create_index_query = \"CREATE INDEX ON products USING ivfflat (text_embedding vector_l2_ops) WITH (lists = 100);\"\n",
    "cursor.execute(create_index_query)\n",
    "\n",
    "# Commit the changes to the database\n",
    "conn.commit()\n",
    "\n",
    "# Close the cursor\n",
    "cursor.close()\n",
    "\n",
    "# Vacuum and analyze the table for optimal performance\n",
    "vacuum_analyze_query = \"VACUUM ANALYZE products;\"\n",
    "# Execute the VACUUM ANALYZE query outside the transaction block\n",
    "conn.autocommit = True\n",
    "cursor = conn.cursor()\n",
    "cursor.execute(vacuum_analyze_query)\n",
    "\n",
    "# Close the cursor and connection\n",
    "cursor.close()\n",
    "conn.close()"
   ]
  },
  {
   "cell_type": "code",
   "execution_count": 19,
   "id": "c41ae347",
   "metadata": {},
   "outputs": [
    {
     "data": {
      "application/vnd.jupyter.widget-view+json": {
       "model_id": "5be6bce8ac7c450ea3df1351496e158b",
       "version_major": 2,
       "version_minor": 0
      },
      "text/plain": [
       "Map:   0%|          | 0/1 [00:00<?, ? examples/s]"
      ]
     },
     "metadata": {},
     "output_type": "display_data"
    },
    {
     "name": "stderr",
     "output_type": "stream",
     "text": [
      "100%|████████████████████████████████████████████████████████████████████████████████████| 1/1 [00:00<00:00, 24.33it/s]\n"
     ]
    }
   ],
   "source": [
    "import numpy as np\n",
    "import psycopg2\n",
    "\n",
    "# Define the embedding function\n",
    "def my_embedding_function(text):\n",
    "    # Generate text embeddings using fclip.encode_text\n",
    "    text_embeddings = fclip.encode_text([text], batch_size=1)\n",
    "    # Normalize the embeddings to unit norm\n",
    "    text_embeddings = text_embeddings / np.linalg.norm(text_embeddings, ord=2, axis=-1, keepdims=True)\n",
    "    return text_embeddings[0]  # Return the single text embedding\n",
    "\n",
    "data = my_embedding_function(\"Blue jacket\")\n",
    "data_list = data.tolist()  # Convert numpy.ndarray to list\n",
    "\n",
    "# Establish connection to the PostgreSQL Docker container\n",
    "conn = psycopg2.connect(\n",
    "    host=\"localhost\",\n",
    "    port=5432,\n",
    "    user=\"testuser\",\n",
    "    password=\"testpwd\",\n",
    "    database=\"vectordb\"\n",
    ")"
   ]
  },
  {
   "cell_type": "code",
   "execution_count": 20,
   "id": "80306ff2",
   "metadata": {},
   "outputs": [
    {
     "name": "stdout",
     "output_type": "stream",
     "text": [
      "Column Names: ['id', 'image_embedding', 'text_embedding']\n"
     ]
    }
   ],
   "source": [
    "# Create a cursor object to execute SQL queries\n",
    "cursor = conn.cursor()\n",
    "\n",
    "# Get the column names in the products table\n",
    "cursor.execute(\"SELECT column_name FROM information_schema.columns WHERE table_name = 'products';\")\n",
    "column_names = [row[0] for row in cursor.fetchall()]\n",
    "print(\"Column Names:\", column_names)"
   ]
  },
  {
   "cell_type": "code",
   "execution_count": 21,
   "id": "62144fbc",
   "metadata": {},
   "outputs": [],
   "source": [
    "# Perform similarity search query\n",
    "cursor.execute(\"\"\"\n",
    "    -- SELECT id, description, text_embedding\n",
    "    SELECT id, text_embedding\n",
    "    FROM products\n",
    "    ORDER BY text_embedding <-> %s::vector\n",
    "    LIMIT 2;\n",
    "\"\"\", (data_list,))\n",
    "\n",
    "# Fetch the results\n",
    "results = cursor.fetchall()"
   ]
  },
  {
   "cell_type": "code",
   "execution_count": 22,
   "id": "d6d118a8",
   "metadata": {},
   "outputs": [
    {
     "name": "stdout",
     "output_type": "stream",
     "text": [
      "Product Item Id: 48\n",
      "Description: [0.023410298,-0.013177148,-0.015617458,0.009955669,-0.01777295,0.030018194,-0.010092812,0.064039744,-0.0076911673,0.017779142,-0.04886508,0.020496665,-0.010309409,-0.02337357,-0.06787995,-0.014375856,-0.040318474,0.022590628,0.004351568,0.00746218,0.008021529,-0.0040085693,0.01916376,-0.00507574,0.013201847,0.023242235,-0.0047811167,-0.026150428,-0.013631476,-0.02263303,-0.0066080065,0.019676488,-0.05809817,0.031445757,0.02649331,-0.036014147,0.053888433,0.06373215,-0.014435454,0.05046232,-0.028136535,-0.021974277,0.038241096,0.013659625,-0.02442254,0.050292015,-0.02547141,0.008108971,0.007807562,-0.02977,-0.055766474,0.034117892,0.028400697,0.026897002,0.09132406,0.043552235,-0.017686795,0.018791791,-0.023812372,-0.0638997,-0.009898719,0.0078092995,0.0046702824,-0.013159851,0.044242352,0.016539695,-0.019756798,-0.0130028585,0.032416962,0.031888053,-0.4391654,-0.023254678,0.0066879787,-0.0005796678,-0.029091904,-0.056399718,-0.022650972,0.026844967,0.023504032,0.021101382,-0.028729869,0.00899044,-0.01642899,-0.05367119,-0.018460706,-0.023274755,-0.01191294,-0.026469747,-0.021601846,-0.049991664,0.027267283,-0.014756489,-0.049779132,0.027269555,-0.010055129,0.0022518914,-0.018912982,0.017614469,0.019524302,-0.00051129767,-0.03218506,0.0053187446,0.026421085,0.03557755,0.019542566,-0.021897417,0.00784692,-0.0012758299,0.04130602,-0.06445579,0.0070771486,-0.014532218,-0.0045915255,0.031915706,-0.01581796,-0.10388548,0.0072025727,-0.0045379098,0.06431486,0.023666527,0.005951248,0.021723662,0.015297607,0.02092905,0.011870629,0.017937772,0.0011170587,0.013451527,0.027183617,0.026293622,0.0047083963,-0.021701008,-0.03547629,-0.027069625,-0.015154019,0.003456889,0.03077898,0.01923034,-0.004469581,0.0042444887,-0.07660683,-0.024184147,-0.0028925284,-0.001892531,-0.0075259334,0.04622897,0.012706024,-0.023513999,-0.0027156572,-0.010697005,0.00725265,-0.02710527,0.06701057,-0.018364757,-0.04143883,0.04389945,-0.014815185,0.0025125837,-0.022919685,0.0022395917,-0.028031418,-0.015239338,0.026276404,-0.019281954,-0.024299778,-0.036830284,0.031805664,-0.049680393,0.008260291,-0.014279039,-0.0009528992,-0.006173992,-0.011800647,-0.023567256,-0.016386038,-0.061655838,-0.0063360706,-0.06237292,0.029107835,-0.029508961,-0.012228836,-0.029959077,-0.012272468,-0.010861733,-0.002035861,-0.015034606,-0.016377084,0.016896315,0.02809366,-0.019871686,0.015550989,0.013082101,-1.25507795e-05,-0.0038760093,-0.00018223349,-0.050740276,0.062306058,0.023463653,-0.046267375,-0.009576275,-0.0043632346,0.011359241,0.034969583,0.012223194,-0.010265384,0.009166393,0.017876213,-0.05580489,0.0003643908,0.076273955,0.0046955463,-0.00046852155,-0.030388718,-0.039222956,0.034735516,-0.01777276,0.013075527,-0.007061409,-0.055841688,-0.039850783,-0.010929852,0.00076392526,0.026817026,0.039832953,0.0512562,0.0042928895,0.020856451,0.025437223,-0.0023449215,-0.03097548,0.044993993,-0.044043656,0.096036896,0.046801094,0.1200513,-0.06543761,-0.038041975,0.016662115,0.003575198,-0.006430321,-0.055689022,-0.040204182,0.07194418,0.055550966,0.019365324,-0.038174495,0.00025916498,-0.0025724159,-0.0810732,0.06790282,-0.028021725,0.0059151193,0.0013840415,-0.4390135,-0.05818466,-0.015913118,0.016830642,0.0074167117,-0.0055444017,-0.047329675,0.030606687,-0.042309117,-0.008270537,0.051674075,0.04585126,0.07760077,0.011228955,0.04129085,-0.009243287,0.004121187,-0.013420102,-0.039167456,-0.035474684,0.026335614,-0.06744778,0.04117065,0.06455676,-0.0006188454,0.007331661,0.06188405,-0.045501467,-0.010185228,0.017920535,5.7160658e-05,-0.02160896,0.012154347,-0.010131881,0.021134045,-0.05487536,-0.032297894,0.02542402,-0.026895415,-0.022031544,0.034280222,-0.06523744,-0.035178266,-0.0019364358,-0.040613018,0.045835357,0.00869714,0.018935475,0.02747282,0.0016199435,0.013590705,0.04364505,0.03285983,0.07139774,-0.066998444,0.003626126,-0.03869831,-0.021613734,0.0084816795,0.030608926,-0.04168294,-0.009288842,0.016569398,0.021238182,-0.039046593,0.017101895,0.016283063,0.03495372,-0.011023169,0.0134091815,-0.027682466,-0.104621656,-0.026846195,0.037331723,-0.025950909,-0.01833043,-0.061604556,0.008909678,-0.029765027,0.0013357133,0.013152617,0.044773396,-0.07248968,-0.0022645756,-0.06700114,-0.018994227,0.0464175,-0.011918394,-0.031379513,-0.024962742,0.023788964,-0.0069731884,-0.00958874,0.033938162,-0.03429534,-0.00093705533,0.021812275,-0.0047372123,0.009776463,0.014960923,-0.013473195,0.07806174,0.0069662374,-0.0072570983,0.06449822,0.054124307,0.030045133,-0.053669862,-0.02333148,0.013203445,-0.015222903,-0.04145248,-0.02918693,0.05205228,0.013180744,-0.087112,-0.018610906,0.05017889,-0.0015769697,0.028251665,0.012461008,-0.003670716,-0.028181825,0.016015777,-0.027955059,0.0034323297,0.024064872,0.016160427,-0.014852211,-0.013884391,-0.0009392946,-0.016313242,-0.04901804,-0.013485707,-0.0039650383,0.044801958,0.037688985,-0.02016296,-0.00196566,-0.0018817738,-0.028073192,-0.081758104,-0.052816562,-0.09623016,0.024445822,0.017079324,-0.0145795345,-0.01833518,0.03443128,-0.024250453,-0.09224245,-0.026229516,-0.037100147,-0.018660763,-0.01898716,0.049570326,0.05532568,-0.03025686,0.011641005,0.043070327,0.02284972,-0.025219979,0.047963593,0.011315005,0.040411998,-0.024719847,0.019102527,0.0405937,-0.009679046,-0.048786297,-0.0120888725,0.009816975,0.018813403,-0.031602774,-0.03200331,0.07565044,0.041043583,0.015735839,-0.039454672,0.013805306,0.014217226,0.06287569,0.0023757007,-0.0011971518,-0.013862164,0.00412222,0.03097074,-0.090792835,0.017150288,0.038502816,-0.014795966,0.0058898204,-0.022967983,-0.071688764,-0.013910573,0.00039281833,0.038484357,-0.022176612,-0.05257398,-0.03301109,-0.02796337,0.014139638,-0.103042796,0.004712215,0.026456328,-0.027189944,0.02353055,-0.03895863,-0.0054984726,0.0029353898,0.05202086,-0.0111717805,-0.002984492,-0.008638009,0.010447079,-0.029240636,-0.018982457,-0.027241703,-0.0659268,0.016223045,0.03255939,-0.0048189745,0.094631314,0.026392419,-0.015859246,-0.043703716,-0.021936636,-0.00095932983,0.011992791,-0.040595707,0.04109575,-0.040452585,0.016512891,0.03424608,0.037880287,-0.015713777,-0.08359379,-0.017293679,0.0065352856,0.12866703,0.022276722,-0.024795312,-0.03961002,-0.038149286,0.028734464,-0.029662868,0.06931276,-0.002333554,0.004881494,0.005147477,0.0055658175,-0.019955657,0.005018752,0.020219505,0.027894376,-0.06539284,-0.035567537,-0.017336147,0.0152163245]\n",
      "----------------------\n"
     ]
    }
   ],
   "source": [
    "# Process and display the results\n",
    "for result in results:\n",
    "    product_id = result[0]\n",
    "    \n",
    "    print(\"Product Item Id:\", product_id)\n",
    "    print(\"Description:\", result[1])\n",
    "   # print(\"Embedding:\", result[2])\n",
    "    print(\"----------------------\")\n",
    "\n",
    "# Close the cursor and connection\n",
    "cursor.close()\n",
    "conn.close()"
   ]
  }
 ],
 "metadata": {
  "kernelspec": {
   "display_name": "Python (textgen)",
   "language": "python",
   "name": "texgen"
  },
  "language_info": {
   "codemirror_mode": {
    "name": "ipython",
    "version": 3
   },
   "file_extension": ".py",
   "mimetype": "text/x-python",
   "name": "python",
   "nbconvert_exporter": "python",
   "pygments_lexer": "ipython3",
   "version": "3.10.9"
  }
 },
 "nbformat": 4,
 "nbformat_minor": 5
}
