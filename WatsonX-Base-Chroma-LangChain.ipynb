{
 "cells": [
  {
   "cell_type": "markdown",
   "metadata": {
    "pycharm": {
     "name": "#%% md\n"
    }
   },
   "source": [
    "\n",
    "# Use watsonx Granite Model Series, Chroma, and LangChain to answer questions (RAG)"
   ]
  },
  {
   "cell_type": "markdown",
   "metadata": {
    "pycharm": {
     "name": "#%% md\n"
    }
   },
   "source": [
    "#### Disclaimers\n",
    "\n",
    "- Use only Projects and Spaces that are available in watsonx context.\n",
    "\n",
    "## Notebook content\n",
    "This notebook contains the steps and code to demonstrate support of Retrieval Augumented Generation in watsonx.ai. It introduces commands for data retrieval, knowledge base building & querying, and model testing.\n",
    "\n",
    "Some familiarity with Python is helpful. This notebook uses Python 3.10.\n",
    "\n",
    "### About Retrieval Augmented Generation\n",
    "Retrieval Augmented Generation (RAG) is a versatile pattern that can unlock a number of use cases requiring factual recall of information, such as querying a knowledge base in natural language.\n",
    "\n",
    "In its simplest form, RAG requires 3 steps:\n",
    "\n",
    "- Index knowledge base passages (once)\n",
    "- Retrieve relevant passage(s) from knowledge base (for every user query)\n",
    "- Generate a response by feeding retrieved passage into a large language model (for every user query)\n",
    "\n",
    "## Contents\n",
    "\n",
    "This notebook contains the following parts:\n",
    "\n",
    "- [Setup](#setup)\n",
    "- [Document data loading](#data)\n",
    "- [Build up knowledge base](#build_base)\n",
    "- [Foundation Models on watsonx](#models)\n",
    "- [Generate a retrieval-augmented response to a question](#predict)\n",
    "- [Summary and next steps](#summary)\n"
   ]
  },
  {
   "cell_type": "markdown",
   "metadata": {
    "pycharm": {
     "name": "#%% md\n"
    }
   },
   "source": [
    "<a id=\"setup\"></a>\n",
    "##  Set up the environment\n",
    "\n",
    "Before you use the sample code in this notebook, you must perform the following setup tasks:\n",
    "\n",
    "-  Create a <a href=\"https://console.ng.bluemix.net/catalog/services/ibm-watson-machine-learning/\" target=\"_blank\" rel=\"noopener no referrer\">Watson Machine Learning (WML) Service</a> instance (a free plan is offered and information about how to create the instance can be found <a href=\"https://dataplatform.cloud.ibm.com/docs/content/wsj/analyze-data/ml-service-instance.html?context=analytics\" target=\"_blank\" rel=\"noopener no referrer\">here</a>).\n"
   ]
  },
  {
   "cell_type": "markdown",
   "metadata": {
    "pycharm": {
     "name": "#%% md\n"
    }
   },
   "source": [
    "### Install and import the dependecies"
   ]
  },
  {
   "cell_type": "code",
   "execution_count": 1,
   "metadata": {
    "pycharm": {
     "name": "#%%\n"
    }
   },
   "outputs": [
    {
     "name": "stdout",
     "output_type": "stream",
     "text": [
      "Requirement already satisfied: langchain==0.0.345 in c:\\users\\rusla\\.conda\\envs\\textgen\\lib\\site-packages (0.0.345)\n",
      "Requirement already satisfied: PyYAML>=5.3 in c:\\users\\rusla\\.conda\\envs\\textgen\\lib\\site-packages (from langchain==0.0.345) (6.0.1)\n",
      "Requirement already satisfied: SQLAlchemy<3,>=1.4 in c:\\users\\rusla\\.conda\\envs\\textgen\\lib\\site-packages (from langchain==0.0.345) (2.0.20)\n",
      "Requirement already satisfied: aiohttp<4.0.0,>=3.8.3 in c:\\users\\rusla\\.conda\\envs\\textgen\\lib\\site-packages (from langchain==0.0.345) (3.8.5)\n",
      "Requirement already satisfied: anyio<4.0 in c:\\users\\rusla\\.conda\\envs\\textgen\\lib\\site-packages (from langchain==0.0.345) (3.5.0)\n",
      "Requirement already satisfied: async-timeout<5.0.0,>=4.0.0 in c:\\users\\rusla\\.conda\\envs\\textgen\\lib\\site-packages (from langchain==0.0.345) (4.0.3)\n",
      "Requirement already satisfied: dataclasses-json<0.7,>=0.5.7 in c:\\users\\rusla\\.conda\\envs\\textgen\\lib\\site-packages (from langchain==0.0.345) (0.6.3)\n",
      "Requirement already satisfied: jsonpatch<2.0,>=1.33 in c:\\users\\rusla\\.conda\\envs\\textgen\\lib\\site-packages (from langchain==0.0.345) (1.33)\n",
      "Requirement already satisfied: langchain-core<0.1,>=0.0.9 in c:\\users\\rusla\\.conda\\envs\\textgen\\lib\\site-packages (from langchain==0.0.345) (0.0.13)\n",
      "Requirement already satisfied: langsmith<0.1.0,>=0.0.63 in c:\\users\\rusla\\.conda\\envs\\textgen\\lib\\site-packages (from langchain==0.0.345) (0.0.83)\n",
      "Requirement already satisfied: numpy<2,>=1 in c:\\users\\rusla\\.conda\\envs\\textgen\\lib\\site-packages (from langchain==0.0.345) (1.24.0)\n",
      "Requirement already satisfied: pydantic<3,>=1 in c:\\users\\rusla\\.conda\\envs\\textgen\\lib\\site-packages (from langchain==0.0.345) (1.10.0)\n",
      "Requirement already satisfied: requests<3,>=2 in c:\\users\\rusla\\.conda\\envs\\textgen\\lib\\site-packages (from langchain==0.0.345) (2.31.0)\n",
      "Requirement already satisfied: tenacity<9.0.0,>=8.1.0 in c:\\users\\rusla\\.conda\\envs\\textgen\\lib\\site-packages (from langchain==0.0.345) (8.2.3)\n",
      "Requirement already satisfied: attrs>=17.3.0 in c:\\users\\rusla\\.conda\\envs\\textgen\\lib\\site-packages (from aiohttp<4.0.0,>=3.8.3->langchain==0.0.345) (23.1.0)\n",
      "Requirement already satisfied: charset-normalizer<4.0,>=2.0 in c:\\users\\rusla\\.conda\\envs\\textgen\\lib\\site-packages (from aiohttp<4.0.0,>=3.8.3->langchain==0.0.345) (2.1.1)\n",
      "Requirement already satisfied: multidict<7.0,>=4.5 in c:\\users\\rusla\\.conda\\envs\\textgen\\lib\\site-packages (from aiohttp<4.0.0,>=3.8.3->langchain==0.0.345) (6.0.4)\n",
      "Requirement already satisfied: yarl<2.0,>=1.0 in c:\\users\\rusla\\.conda\\envs\\textgen\\lib\\site-packages (from aiohttp<4.0.0,>=3.8.3->langchain==0.0.345) (1.9.2)\n",
      "Requirement already satisfied: frozenlist>=1.1.1 in c:\\users\\rusla\\.conda\\envs\\textgen\\lib\\site-packages (from aiohttp<4.0.0,>=3.8.3->langchain==0.0.345) (1.4.0)\n",
      "Requirement already satisfied: aiosignal>=1.1.2 in c:\\users\\rusla\\.conda\\envs\\textgen\\lib\\site-packages (from aiohttp<4.0.0,>=3.8.3->langchain==0.0.345) (1.3.1)\n",
      "Requirement already satisfied: idna>=2.8 in c:\\users\\rusla\\.conda\\envs\\textgen\\lib\\site-packages (from anyio<4.0->langchain==0.0.345) (3.4)\n",
      "Requirement already satisfied: sniffio>=1.1 in c:\\users\\rusla\\.conda\\envs\\textgen\\lib\\site-packages (from anyio<4.0->langchain==0.0.345) (1.2.0)\n",
      "Requirement already satisfied: marshmallow<4.0.0,>=3.18.0 in c:\\users\\rusla\\.conda\\envs\\textgen\\lib\\site-packages (from dataclasses-json<0.7,>=0.5.7->langchain==0.0.345) (3.20.2)\n",
      "Requirement already satisfied: typing-inspect<1,>=0.4.0 in c:\\users\\rusla\\.conda\\envs\\textgen\\lib\\site-packages (from dataclasses-json<0.7,>=0.5.7->langchain==0.0.345) (0.9.0)\n",
      "Requirement already satisfied: jsonpointer>=1.9 in c:\\users\\rusla\\.conda\\envs\\textgen\\lib\\site-packages (from jsonpatch<2.0,>=1.33->langchain==0.0.345) (2.4)\n",
      "Requirement already satisfied: packaging<24.0,>=23.2 in c:\\users\\rusla\\.conda\\envs\\textgen\\lib\\site-packages (from langchain-core<0.1,>=0.0.9->langchain==0.0.345) (23.2)\n",
      "Requirement already satisfied: typing-extensions>=4.1.0 in c:\\users\\rusla\\.conda\\envs\\textgen\\lib\\site-packages (from pydantic<3,>=1->langchain==0.0.345) (4.7.1)\n",
      "Requirement already satisfied: urllib3<3,>=1.21.1 in c:\\users\\rusla\\.conda\\envs\\textgen\\lib\\site-packages (from requests<3,>=2->langchain==0.0.345) (1.26.18)\n",
      "Requirement already satisfied: certifi>=2017.4.17 in c:\\users\\rusla\\.conda\\envs\\textgen\\lib\\site-packages (from requests<3,>=2->langchain==0.0.345) (2022.12.7)\n",
      "Requirement already satisfied: greenlet!=0.4.17 in c:\\users\\rusla\\.conda\\envs\\textgen\\lib\\site-packages (from SQLAlchemy<3,>=1.4->langchain==0.0.345) (2.0.2)\n",
      "Requirement already satisfied: mypy-extensions>=0.3.0 in c:\\users\\rusla\\.conda\\envs\\textgen\\lib\\site-packages (from typing-inspect<1,>=0.4.0->dataclasses-json<0.7,>=0.5.7->langchain==0.0.345) (1.0.0)\n"
     ]
    },
    {
     "name": "stderr",
     "output_type": "stream",
     "text": [
      "DEPRECATION: celery 5.0.5 has a non-standard dependency specifier pytz>dev. pip 23.3 will enforce this behaviour change. A possible replacement is to upgrade to a newer version of celery or contact the author to suggest that they release a version with a conforming dependency specifiers. Discussion can be found at https://github.com/pypa/pip/issues/12063\n"
     ]
    },
    {
     "name": "stdout",
     "output_type": "stream",
     "text": [
      "Requirement already satisfied: wget in c:\\users\\rusla\\.conda\\envs\\textgen\\lib\\site-packages (3.2)\n"
     ]
    },
    {
     "name": "stderr",
     "output_type": "stream",
     "text": [
      "DEPRECATION: celery 5.0.5 has a non-standard dependency specifier pytz>dev. pip 23.3 will enforce this behaviour change. A possible replacement is to upgrade to a newer version of celery or contact the author to suggest that they release a version with a conforming dependency specifiers. Discussion can be found at https://github.com/pypa/pip/issues/12063\n"
     ]
    },
    {
     "name": "stdout",
     "output_type": "stream",
     "text": [
      "Requirement already satisfied: sentence-transformers in c:\\users\\rusla\\.conda\\envs\\textgen\\lib\\site-packages (2.2.2)\n",
      "Requirement already satisfied: transformers<5.0.0,>=4.6.0 in c:\\users\\rusla\\.conda\\envs\\textgen\\lib\\site-packages (from sentence-transformers) (4.33.1)\n",
      "Requirement already satisfied: tqdm in c:\\users\\rusla\\.conda\\envs\\textgen\\lib\\site-packages (from sentence-transformers) (4.66.1)\n",
      "Requirement already satisfied: torch>=1.6.0 in c:\\users\\rusla\\.conda\\envs\\textgen\\lib\\site-packages (from sentence-transformers) (2.0.1+cu117)\n",
      "Requirement already satisfied: torchvision in c:\\users\\rusla\\.conda\\envs\\textgen\\lib\\site-packages (from sentence-transformers) (0.15.2+cu117)\n",
      "Requirement already satisfied: numpy in c:\\users\\rusla\\.conda\\envs\\textgen\\lib\\site-packages (from sentence-transformers) (1.24.0)\n",
      "Requirement already satisfied: scikit-learn in c:\\users\\rusla\\.conda\\envs\\textgen\\lib\\site-packages (from sentence-transformers) (1.3.0)\n",
      "Requirement already satisfied: scipy in c:\\users\\rusla\\.conda\\envs\\textgen\\lib\\site-packages (from sentence-transformers) (1.11.1)\n",
      "Requirement already satisfied: nltk in c:\\users\\rusla\\.conda\\envs\\textgen\\lib\\site-packages (from sentence-transformers) (3.8.1)\n",
      "Requirement already satisfied: sentencepiece in c:\\users\\rusla\\.conda\\envs\\textgen\\lib\\site-packages (from sentence-transformers) (0.1.99)\n",
      "Requirement already satisfied: huggingface-hub>=0.4.0 in c:\\users\\rusla\\.conda\\envs\\textgen\\lib\\site-packages (from sentence-transformers) (0.16.4)\n",
      "Requirement already satisfied: filelock in c:\\users\\rusla\\.conda\\envs\\textgen\\lib\\site-packages (from huggingface-hub>=0.4.0->sentence-transformers) (3.12.4)\n",
      "Requirement already satisfied: fsspec in c:\\users\\rusla\\.conda\\envs\\textgen\\lib\\site-packages (from huggingface-hub>=0.4.0->sentence-transformers) (2023.6.0)\n",
      "Requirement already satisfied: requests in c:\\users\\rusla\\.conda\\envs\\textgen\\lib\\site-packages (from huggingface-hub>=0.4.0->sentence-transformers) (2.31.0)\n",
      "Requirement already satisfied: pyyaml>=5.1 in c:\\users\\rusla\\.conda\\envs\\textgen\\lib\\site-packages (from huggingface-hub>=0.4.0->sentence-transformers) (6.0.1)\n",
      "Requirement already satisfied: typing-extensions>=3.7.4.3 in c:\\users\\rusla\\.conda\\envs\\textgen\\lib\\site-packages (from huggingface-hub>=0.4.0->sentence-transformers) (4.7.1)\n",
      "Requirement already satisfied: packaging>=20.9 in c:\\users\\rusla\\.conda\\envs\\textgen\\lib\\site-packages (from huggingface-hub>=0.4.0->sentence-transformers) (23.2)\n",
      "Requirement already satisfied: sympy in c:\\users\\rusla\\.conda\\envs\\textgen\\lib\\site-packages (from torch>=1.6.0->sentence-transformers) (1.11.1)\n",
      "Requirement already satisfied: networkx in c:\\users\\rusla\\.conda\\envs\\textgen\\lib\\site-packages (from torch>=1.6.0->sentence-transformers) (3.0)\n",
      "Requirement already satisfied: jinja2 in c:\\users\\rusla\\.conda\\envs\\textgen\\lib\\site-packages (from torch>=1.6.0->sentence-transformers) (3.1.2)\n",
      "Requirement already satisfied: colorama in c:\\users\\rusla\\.conda\\envs\\textgen\\lib\\site-packages (from tqdm->sentence-transformers) (0.4.6)\n",
      "Requirement already satisfied: regex!=2019.12.17 in c:\\users\\rusla\\.conda\\envs\\textgen\\lib\\site-packages (from transformers<5.0.0,>=4.6.0->sentence-transformers) (2023.8.8)\n",
      "Requirement already satisfied: tokenizers!=0.11.3,<0.14,>=0.11.1 in c:\\users\\rusla\\.conda\\envs\\textgen\\lib\\site-packages (from transformers<5.0.0,>=4.6.0->sentence-transformers) (0.13.3)\n",
      "Requirement already satisfied: safetensors>=0.3.1 in c:\\users\\rusla\\.conda\\envs\\textgen\\lib\\site-packages (from transformers<5.0.0,>=4.6.0->sentence-transformers) (0.3.2)\n",
      "Requirement already satisfied: click in c:\\users\\rusla\\.conda\\envs\\textgen\\lib\\site-packages (from nltk->sentence-transformers) (8.1.7)\n",
      "Requirement already satisfied: joblib in c:\\users\\rusla\\.conda\\envs\\textgen\\lib\\site-packages (from nltk->sentence-transformers) (1.3.2)\n",
      "Requirement already satisfied: threadpoolctl>=2.0.0 in c:\\users\\rusla\\.conda\\envs\\textgen\\lib\\site-packages (from scikit-learn->sentence-transformers) (3.2.0)\n",
      "Requirement already satisfied: pillow!=8.3.*,>=5.3.0 in c:\\users\\rusla\\.conda\\envs\\textgen\\lib\\site-packages (from torchvision->sentence-transformers) (10.0.0)\n",
      "Requirement already satisfied: MarkupSafe>=2.0 in c:\\users\\rusla\\.conda\\envs\\textgen\\lib\\site-packages (from jinja2->torch>=1.6.0->sentence-transformers) (2.1.1)\n",
      "Requirement already satisfied: charset-normalizer<4,>=2 in c:\\users\\rusla\\.conda\\envs\\textgen\\lib\\site-packages (from requests->huggingface-hub>=0.4.0->sentence-transformers) (2.1.1)\n",
      "Requirement already satisfied: idna<4,>=2.5 in c:\\users\\rusla\\.conda\\envs\\textgen\\lib\\site-packages (from requests->huggingface-hub>=0.4.0->sentence-transformers) (3.4)\n",
      "Requirement already satisfied: urllib3<3,>=1.21.1 in c:\\users\\rusla\\.conda\\envs\\textgen\\lib\\site-packages (from requests->huggingface-hub>=0.4.0->sentence-transformers) (1.26.18)\n",
      "Requirement already satisfied: certifi>=2017.4.17 in c:\\users\\rusla\\.conda\\envs\\textgen\\lib\\site-packages (from requests->huggingface-hub>=0.4.0->sentence-transformers) (2022.12.7)\n",
      "Requirement already satisfied: mpmath>=0.19 in c:\\users\\rusla\\.conda\\envs\\textgen\\lib\\site-packages (from sympy->torch>=1.6.0->sentence-transformers) (1.2.1)\n"
     ]
    },
    {
     "name": "stderr",
     "output_type": "stream",
     "text": [
      "DEPRECATION: celery 5.0.5 has a non-standard dependency specifier pytz>dev. pip 23.3 will enforce this behaviour change. A possible replacement is to upgrade to a newer version of celery or contact the author to suggest that they release a version with a conforming dependency specifiers. Discussion can be found at https://github.com/pypa/pip/issues/12063\n"
     ]
    },
    {
     "name": "stdout",
     "output_type": "stream",
     "text": [
      "Requirement already satisfied: chromadb==0.3.26 in c:\\users\\rusla\\.conda\\envs\\textgen\\lib\\site-packages (0.3.26)\n",
      "Requirement already satisfied: pandas>=1.3 in c:\\users\\rusla\\.conda\\envs\\textgen\\lib\\site-packages (from chromadb==0.3.26) (1.5.3)\n",
      "Requirement already satisfied: requests>=2.28 in c:\\users\\rusla\\.conda\\envs\\textgen\\lib\\site-packages (from chromadb==0.3.26) (2.31.0)\n",
      "Requirement already satisfied: pydantic>=1.9 in c:\\users\\rusla\\.conda\\envs\\textgen\\lib\\site-packages (from chromadb==0.3.26) (1.10.0)\n",
      "Requirement already satisfied: hnswlib>=0.7 in c:\\users\\rusla\\.conda\\envs\\textgen\\lib\\site-packages (from chromadb==0.3.26) (0.8.0)\n",
      "Requirement already satisfied: clickhouse-connect>=0.5.7 in c:\\users\\rusla\\.conda\\envs\\textgen\\lib\\site-packages (from chromadb==0.3.26) (0.7.0)\n",
      "Requirement already satisfied: duckdb>=0.7.1 in c:\\users\\rusla\\.conda\\envs\\textgen\\lib\\site-packages (from chromadb==0.3.26) (0.9.2)\n",
      "Requirement already satisfied: fastapi>=0.85.1 in c:\\users\\rusla\\.conda\\envs\\textgen\\lib\\site-packages (from chromadb==0.3.26) (0.95.2)\n",
      "Requirement already satisfied: uvicorn[standard]>=0.18.3 in c:\\users\\rusla\\.conda\\envs\\textgen\\lib\\site-packages (from chromadb==0.3.26) (0.23.2)\n",
      "Requirement already satisfied: numpy>=1.21.6 in c:\\users\\rusla\\.conda\\envs\\textgen\\lib\\site-packages (from chromadb==0.3.26) (1.24.0)\n",
      "Requirement already satisfied: posthog>=2.4.0 in c:\\users\\rusla\\.conda\\envs\\textgen\\lib\\site-packages (from chromadb==0.3.26) (3.3.3)\n",
      "Requirement already satisfied: typing-extensions>=4.5.0 in c:\\users\\rusla\\.conda\\envs\\textgen\\lib\\site-packages (from chromadb==0.3.26) (4.7.1)\n",
      "Requirement already satisfied: pulsar-client>=3.1.0 in c:\\users\\rusla\\.conda\\envs\\textgen\\lib\\site-packages (from chromadb==0.3.26) (3.4.0)\n",
      "Requirement already satisfied: onnxruntime>=1.14.1 in c:\\users\\rusla\\.conda\\envs\\textgen\\lib\\site-packages (from chromadb==0.3.26) (1.16.3)\n",
      "Requirement already satisfied: tokenizers>=0.13.2 in c:\\users\\rusla\\.conda\\envs\\textgen\\lib\\site-packages (from chromadb==0.3.26) (0.13.3)\n",
      "Requirement already satisfied: tqdm>=4.65.0 in c:\\users\\rusla\\.conda\\envs\\textgen\\lib\\site-packages (from chromadb==0.3.26) (4.66.1)\n",
      "Requirement already satisfied: overrides>=7.3.1 in c:\\users\\rusla\\.conda\\envs\\textgen\\lib\\site-packages (from chromadb==0.3.26) (7.4.0)\n",
      "Requirement already satisfied: certifi in c:\\users\\rusla\\.conda\\envs\\textgen\\lib\\site-packages (from clickhouse-connect>=0.5.7->chromadb==0.3.26) (2022.12.7)\n",
      "Requirement already satisfied: urllib3>=1.26 in c:\\users\\rusla\\.conda\\envs\\textgen\\lib\\site-packages (from clickhouse-connect>=0.5.7->chromadb==0.3.26) (1.26.18)\n",
      "Requirement already satisfied: pytz in c:\\users\\rusla\\.conda\\envs\\textgen\\lib\\site-packages (from clickhouse-connect>=0.5.7->chromadb==0.3.26) (2023.3.post1)\n",
      "Requirement already satisfied: zstandard in c:\\users\\rusla\\.conda\\envs\\textgen\\lib\\site-packages (from clickhouse-connect>=0.5.7->chromadb==0.3.26) (0.22.0)\n",
      "Requirement already satisfied: lz4 in c:\\users\\rusla\\.conda\\envs\\textgen\\lib\\site-packages (from clickhouse-connect>=0.5.7->chromadb==0.3.26) (4.3.3)\n",
      "Requirement already satisfied: starlette<0.28.0,>=0.27.0 in c:\\users\\rusla\\.conda\\envs\\textgen\\lib\\site-packages (from fastapi>=0.85.1->chromadb==0.3.26) (0.27.0)\n",
      "Requirement already satisfied: coloredlogs in c:\\users\\rusla\\.conda\\envs\\textgen\\lib\\site-packages (from onnxruntime>=1.14.1->chromadb==0.3.26) (15.0.1)\n",
      "Requirement already satisfied: flatbuffers in c:\\users\\rusla\\.conda\\envs\\textgen\\lib\\site-packages (from onnxruntime>=1.14.1->chromadb==0.3.26) (23.5.26)\n",
      "Requirement already satisfied: packaging in c:\\users\\rusla\\.conda\\envs\\textgen\\lib\\site-packages (from onnxruntime>=1.14.1->chromadb==0.3.26) (23.2)\n",
      "Requirement already satisfied: protobuf in c:\\users\\rusla\\.conda\\envs\\textgen\\lib\\site-packages (from onnxruntime>=1.14.1->chromadb==0.3.26) (4.24.3)\n",
      "Requirement already satisfied: sympy in c:\\users\\rusla\\.conda\\envs\\textgen\\lib\\site-packages (from onnxruntime>=1.14.1->chromadb==0.3.26) (1.11.1)\n",
      "Requirement already satisfied: python-dateutil>=2.8.1 in c:\\users\\rusla\\.conda\\envs\\textgen\\lib\\site-packages (from pandas>=1.3->chromadb==0.3.26) (2.8.2)\n",
      "Requirement already satisfied: six>=1.5 in c:\\users\\rusla\\.conda\\envs\\textgen\\lib\\site-packages (from posthog>=2.4.0->chromadb==0.3.26) (1.16.0)\n",
      "Requirement already satisfied: monotonic>=1.5 in c:\\users\\rusla\\.conda\\envs\\textgen\\lib\\site-packages (from posthog>=2.4.0->chromadb==0.3.26) (1.6)\n",
      "Requirement already satisfied: backoff>=1.10.0 in c:\\users\\rusla\\.conda\\envs\\textgen\\lib\\site-packages (from posthog>=2.4.0->chromadb==0.3.26) (2.2.1)\n",
      "Requirement already satisfied: charset-normalizer<4,>=2 in c:\\users\\rusla\\.conda\\envs\\textgen\\lib\\site-packages (from requests>=2.28->chromadb==0.3.26) (2.1.1)\n",
      "Requirement already satisfied: idna<4,>=2.5 in c:\\users\\rusla\\.conda\\envs\\textgen\\lib\\site-packages (from requests>=2.28->chromadb==0.3.26) (3.4)\n",
      "Requirement already satisfied: colorama in c:\\users\\rusla\\.conda\\envs\\textgen\\lib\\site-packages (from tqdm>=4.65.0->chromadb==0.3.26) (0.4.6)\n",
      "Requirement already satisfied: click>=7.0 in c:\\users\\rusla\\.conda\\envs\\textgen\\lib\\site-packages (from uvicorn[standard]>=0.18.3->chromadb==0.3.26) (8.1.7)\n",
      "Requirement already satisfied: h11>=0.8 in c:\\users\\rusla\\.conda\\envs\\textgen\\lib\\site-packages (from uvicorn[standard]>=0.18.3->chromadb==0.3.26) (0.14.0)\n",
      "Requirement already satisfied: httptools>=0.5.0 in c:\\users\\rusla\\.conda\\envs\\textgen\\lib\\site-packages (from uvicorn[standard]>=0.18.3->chromadb==0.3.26) (0.6.1)\n",
      "Requirement already satisfied: python-dotenv>=0.13 in c:\\users\\rusla\\.conda\\envs\\textgen\\lib\\site-packages (from uvicorn[standard]>=0.18.3->chromadb==0.3.26) (1.0.1)\n",
      "Requirement already satisfied: pyyaml>=5.1 in c:\\users\\rusla\\.conda\\envs\\textgen\\lib\\site-packages (from uvicorn[standard]>=0.18.3->chromadb==0.3.26) (6.0.1)\n",
      "Requirement already satisfied: watchfiles>=0.13 in c:\\users\\rusla\\.conda\\envs\\textgen\\lib\\site-packages (from uvicorn[standard]>=0.18.3->chromadb==0.3.26) (0.21.0)\n",
      "Requirement already satisfied: websockets>=10.4 in c:\\users\\rusla\\.conda\\envs\\textgen\\lib\\site-packages (from uvicorn[standard]>=0.18.3->chromadb==0.3.26) (11.0.3)\n",
      "Requirement already satisfied: anyio<5,>=3.4.0 in c:\\users\\rusla\\.conda\\envs\\textgen\\lib\\site-packages (from starlette<0.28.0,>=0.27.0->fastapi>=0.85.1->chromadb==0.3.26) (3.5.0)\n",
      "Requirement already satisfied: humanfriendly>=9.1 in c:\\users\\rusla\\.conda\\envs\\textgen\\lib\\site-packages (from coloredlogs->onnxruntime>=1.14.1->chromadb==0.3.26) (10.0)\n",
      "Requirement already satisfied: mpmath>=0.19 in c:\\users\\rusla\\.conda\\envs\\textgen\\lib\\site-packages (from sympy->onnxruntime>=1.14.1->chromadb==0.3.26) (1.2.1)\n",
      "Requirement already satisfied: sniffio>=1.1 in c:\\users\\rusla\\.conda\\envs\\textgen\\lib\\site-packages (from anyio<5,>=3.4.0->starlette<0.28.0,>=0.27.0->fastapi>=0.85.1->chromadb==0.3.26) (1.2.0)\n",
      "Requirement already satisfied: pyreadline3 in c:\\users\\rusla\\.conda\\envs\\textgen\\lib\\site-packages (from humanfriendly>=9.1->coloredlogs->onnxruntime>=1.14.1->chromadb==0.3.26) (3.4.1)\n"
     ]
    },
    {
     "name": "stderr",
     "output_type": "stream",
     "text": [
      "DEPRECATION: celery 5.0.5 has a non-standard dependency specifier pytz>dev. pip 23.3 will enforce this behaviour change. A possible replacement is to upgrade to a newer version of celery or contact the author to suggest that they release a version with a conforming dependency specifiers. Discussion can be found at https://github.com/pypa/pip/issues/12063\n"
     ]
    },
    {
     "name": "stdout",
     "output_type": "stream",
     "text": [
      "Requirement already satisfied: ibm-watson-machine-learning>=1.0.335 in c:\\users\\rusla\\.conda\\envs\\textgen\\lib\\site-packages (1.0.344)\n",
      "Requirement already satisfied: requests in c:\\users\\rusla\\.conda\\envs\\textgen\\lib\\site-packages (from ibm-watson-machine-learning>=1.0.335) (2.31.0)\n",
      "Requirement already satisfied: urllib3 in c:\\users\\rusla\\.conda\\envs\\textgen\\lib\\site-packages (from ibm-watson-machine-learning>=1.0.335) (1.26.18)\n",
      "Requirement already satisfied: pandas<1.6.0,>=0.24.2 in c:\\users\\rusla\\.conda\\envs\\textgen\\lib\\site-packages (from ibm-watson-machine-learning>=1.0.335) (1.5.3)\n",
      "Requirement already satisfied: certifi in c:\\users\\rusla\\.conda\\envs\\textgen\\lib\\site-packages (from ibm-watson-machine-learning>=1.0.335) (2022.12.7)\n",
      "Requirement already satisfied: lomond in c:\\users\\rusla\\.conda\\envs\\textgen\\lib\\site-packages (from ibm-watson-machine-learning>=1.0.335) (0.3.3)\n",
      "Requirement already satisfied: tabulate in c:\\users\\rusla\\.conda\\envs\\textgen\\lib\\site-packages (from ibm-watson-machine-learning>=1.0.335) (0.9.0)\n",
      "Requirement already satisfied: packaging in c:\\users\\rusla\\.conda\\envs\\textgen\\lib\\site-packages (from ibm-watson-machine-learning>=1.0.335) (23.2)\n",
      "Requirement already satisfied: importlib-metadata in c:\\users\\rusla\\.conda\\envs\\textgen\\lib\\site-packages (from ibm-watson-machine-learning>=1.0.335) (6.8.0)\n",
      "Requirement already satisfied: ibm-cos-sdk<2.14.0,>=2.12.0 in c:\\users\\rusla\\.conda\\envs\\textgen\\lib\\site-packages (from ibm-watson-machine-learning>=1.0.335) (2.13.3)\n",
      "Requirement already satisfied: ibm-cos-sdk-core==2.13.3 in c:\\users\\rusla\\.conda\\envs\\textgen\\lib\\site-packages (from ibm-cos-sdk<2.14.0,>=2.12.0->ibm-watson-machine-learning>=1.0.335) (2.13.3)\n",
      "Requirement already satisfied: ibm-cos-sdk-s3transfer==2.13.3 in c:\\users\\rusla\\.conda\\envs\\textgen\\lib\\site-packages (from ibm-cos-sdk<2.14.0,>=2.12.0->ibm-watson-machine-learning>=1.0.335) (2.13.3)\n",
      "Requirement already satisfied: jmespath<=1.0.1,>=0.10.0 in c:\\users\\rusla\\.conda\\envs\\textgen\\lib\\site-packages (from ibm-cos-sdk<2.14.0,>=2.12.0->ibm-watson-machine-learning>=1.0.335) (1.0.1)\n",
      "Requirement already satisfied: python-dateutil<3.0.0,>=2.8.2 in c:\\users\\rusla\\.conda\\envs\\textgen\\lib\\site-packages (from ibm-cos-sdk-core==2.13.3->ibm-cos-sdk<2.14.0,>=2.12.0->ibm-watson-machine-learning>=1.0.335) (2.8.2)\n",
      "Requirement already satisfied: pytz>=2020.1 in c:\\users\\rusla\\.conda\\envs\\textgen\\lib\\site-packages (from pandas<1.6.0,>=0.24.2->ibm-watson-machine-learning>=1.0.335) (2023.3.post1)\n",
      "Requirement already satisfied: numpy>=1.21.0 in c:\\users\\rusla\\.conda\\envs\\textgen\\lib\\site-packages (from pandas<1.6.0,>=0.24.2->ibm-watson-machine-learning>=1.0.335) (1.24.0)\n",
      "Requirement already satisfied: charset-normalizer<4,>=2 in c:\\users\\rusla\\.conda\\envs\\textgen\\lib\\site-packages (from requests->ibm-watson-machine-learning>=1.0.335) (2.1.1)\n",
      "Requirement already satisfied: idna<4,>=2.5 in c:\\users\\rusla\\.conda\\envs\\textgen\\lib\\site-packages (from requests->ibm-watson-machine-learning>=1.0.335) (3.4)\n",
      "Requirement already satisfied: zipp>=0.5 in c:\\users\\rusla\\.conda\\envs\\textgen\\lib\\site-packages (from importlib-metadata->ibm-watson-machine-learning>=1.0.335) (3.17.0)\n",
      "Requirement already satisfied: six>=1.10.0 in c:\\users\\rusla\\.conda\\envs\\textgen\\lib\\site-packages (from lomond->ibm-watson-machine-learning>=1.0.335) (1.16.0)\n"
     ]
    },
    {
     "name": "stderr",
     "output_type": "stream",
     "text": [
      "DEPRECATION: celery 5.0.5 has a non-standard dependency specifier pytz>dev. pip 23.3 will enforce this behaviour change. A possible replacement is to upgrade to a newer version of celery or contact the author to suggest that they release a version with a conforming dependency specifiers. Discussion can be found at https://github.com/pypa/pip/issues/12063\n"
     ]
    },
    {
     "name": "stdout",
     "output_type": "stream",
     "text": [
      "Requirement already satisfied: pydantic==1.10.0 in c:\\users\\rusla\\.conda\\envs\\textgen\\lib\\site-packages (1.10.0)\n",
      "Requirement already satisfied: typing-extensions>=4.1.0 in c:\\users\\rusla\\.conda\\envs\\textgen\\lib\\site-packages (from pydantic==1.10.0) (4.7.1)\n"
     ]
    },
    {
     "name": "stderr",
     "output_type": "stream",
     "text": [
      "DEPRECATION: celery 5.0.5 has a non-standard dependency specifier pytz>dev. pip 23.3 will enforce this behaviour change. A possible replacement is to upgrade to a newer version of celery or contact the author to suggest that they release a version with a conforming dependency specifiers. Discussion can be found at https://github.com/pypa/pip/issues/12063\n"
     ]
    }
   ],
   "source": [
    "!pip install \"langchain==0.0.345\" \n",
    "!pip install wget \n",
    "!pip install sentence-transformers \n",
    "!pip install \"chromadb==0.3.26\" \n",
    "!pip install \"ibm-watson-machine-learning>=1.0.335\" \n",
    "!pip install \"pydantic==1.10.0\""
   ]
  },
  {
   "cell_type": "code",
   "execution_count": 2,
   "metadata": {},
   "outputs": [
    {
     "name": "stdout",
     "output_type": "stream",
     "text": [
      "Requirement already satisfied: python-dotenv in c:\\users\\rusla\\.conda\\envs\\textgen\\lib\\site-packages (1.0.1)\n"
     ]
    },
    {
     "name": "stderr",
     "output_type": "stream",
     "text": [
      "DEPRECATION: celery 5.0.5 has a non-standard dependency specifier pytz>dev. pip 23.3 will enforce this behaviour change. A possible replacement is to upgrade to a newer version of celery or contact the author to suggest that they release a version with a conforming dependency specifiers. Discussion can be found at https://github.com/pypa/pip/issues/12063\n"
     ]
    }
   ],
   "source": [
    "!pip install python-dotenv"
   ]
  },
  {
   "cell_type": "code",
   "execution_count": 4,
   "metadata": {
    "pycharm": {
     "name": "#%%\n"
    }
   },
   "outputs": [],
   "source": [
    "import os, getpass\n"
   ]
  },
  {
   "cell_type": "code",
   "execution_count": 27,
   "metadata": {},
   "outputs": [],
   "source": [
    "from dotenv import load_dotenv"
   ]
  },
  {
   "cell_type": "code",
   "execution_count": 28,
   "metadata": {},
   "outputs": [
    {
     "data": {
      "text/plain": [
       "True"
      ]
     },
     "execution_count": 28,
     "metadata": {},
     "output_type": "execute_result"
    }
   ],
   "source": [
    "\n",
    "load_dotenv()"
   ]
  },
  {
   "cell_type": "markdown",
   "metadata": {
    "pycharm": {
     "name": "#%% md\n"
    }
   },
   "source": [
    "### watsonx API connection\n",
    "This cell defines the credentials required to work with watsonx API for Foundation\n",
    "Model inferencing.\n",
    "\n",
    "**Action:** Provide the IBM Cloud user API key. For details, see <a href=\"https://cloud.ibm.com/docs/account?topic=account-userapikey&interface=ui\" target=\"_blank\" rel=\"noopener no referrer\">documentation</a>."
   ]
  },
  {
   "cell_type": "code",
   "execution_count": 29,
   "metadata": {},
   "outputs": [],
   "source": [
    "project_id = os.getenv(\"PROJECT_ID\", None)\n",
    "credentials = {\n",
    "    #\"url\":  \"https://eu-de.ml.cloud.ibm.com\",\n",
    "    \"url\": \"https://us-south.ml.cloud.ibm.com\",\n",
    "    \"apikey\": os.getenv(\"API_KEY\", None)\n",
    "}"
   ]
  },
  {
   "cell_type": "markdown",
   "metadata": {
    "pycharm": {
     "name": "#%% md\n"
    }
   },
   "source": [
    "### Defining the project id\n",
    "The API requires project id that provides the context for the call. We will obtain the id from the project in which this notebook runs. Otherwise, please provide the project id.\n",
    "\n",
    "**Hint**: You can find the `project_id` as follows. Open the prompt lab in watsonx.ai. At the very top of the UI, there will be `Projects / <project name> /`. Click on the `<project name>` link. Then get the `project_id` from Project's Manage tab (Project -> Manage -> General -> Details).\n"
   ]
  },
  {
   "cell_type": "code",
   "execution_count": 31,
   "metadata": {
    "pycharm": {
     "name": "#%%\n"
    }
   },
   "outputs": [],
   "source": [
    "try:\n",
    "    project_id = os.environ[\"PROJECT_ID\"]\n",
    "except KeyError:\n",
    "    project_id = input(\"Please enter your project_id (hit enter): \")"
   ]
  },
  {
   "cell_type": "markdown",
   "metadata": {
    "pycharm": {
     "name": "#%% md\n"
    }
   },
   "source": [
    "<a id=\"data\"></a>\n",
    "## Document data loading\n",
    "\n",
    "Download the file with State of the Union."
   ]
  },
  {
   "cell_type": "code",
   "execution_count": 33,
   "metadata": {
    "pycharm": {
     "name": "#%%\n"
    }
   },
   "outputs": [],
   "source": [
    "import wget\n",
    "\n",
    "filename = 'state_of_the_union.txt'\n",
    "url = 'https://raw.github.com/IBM/watson-machine-learning-samples/master/cloud/data/foundation_models/state_of_the_union.txt'\n",
    "if not os.path.isfile(filename):\n",
    "    wget.download(url, out=filename)"
   ]
  },
  {
   "cell_type": "markdown",
   "metadata": {
    "pycharm": {
     "name": "#%% md\n"
    }
   },
   "source": [
    "<a id=\"build_base\"></a>\n",
    "## Build up knowledge base\n",
    "\n",
    "The most common approach in RAG is to create dense vector representations of the knowledge base in order to calculate the semantic similarity to a given user query.\n",
    "\n",
    "In this basic example, we take the State of the Union speech content (filename), split it into chunks, embed it using an open-source embedding model, load it into <a href=\"https://www.trychroma.com/\" target=\"_blank\" rel=\"noopener no referrer\">Chroma</a>, and then query it."
   ]
  },
  {
   "cell_type": "code",
   "execution_count": 34,
   "metadata": {},
   "outputs": [
    {
     "data": {
      "text/plain": [
       "'state_of_the_union.txt'"
      ]
     },
     "execution_count": 34,
     "metadata": {},
     "output_type": "execute_result"
    }
   ],
   "source": [
    "filename"
   ]
  },
  {
   "cell_type": "code",
   "execution_count": 35,
   "metadata": {},
   "outputs": [],
   "source": [
    "from langchain.document_loaders import TextLoader\n",
    "from langchain.text_splitter import CharacterTextSplitter\n",
    "from langchain.vectorstores import Chroma\n",
    "loader = TextLoader(filename ,encoding='utf-8')\n",
    "documents = loader.load()"
   ]
  },
  {
   "cell_type": "code",
   "execution_count": 36,
   "metadata": {},
   "outputs": [],
   "source": [
    "text_splitter = CharacterTextSplitter(chunk_size=1000, chunk_overlap=0)\n",
    "texts = text_splitter.split_documents(documents)"
   ]
  },
  {
   "cell_type": "markdown",
   "metadata": {
    "pycharm": {
     "name": "#%% md\n"
    }
   },
   "source": [
    "The dataset we are using is already split into self-contained passages that can be ingested by Chroma."
   ]
  },
  {
   "cell_type": "markdown",
   "metadata": {
    "pycharm": {
     "name": "#%% md\n"
    }
   },
   "source": [
    "### Create an embedding function\n",
    "\n",
    "Note that you can feed a custom embedding function to be used by chromadb. The performance of Chroma db may differ depending on the embedding model used."
   ]
  },
  {
   "cell_type": "code",
   "execution_count": 37,
   "metadata": {
    "pycharm": {
     "name": "#%%\n"
    }
   },
   "outputs": [],
   "source": [
    "from langchain.embeddings import HuggingFaceEmbeddings\n",
    "embeddings = HuggingFaceEmbeddings()\n",
    "docsearch = Chroma.from_documents(texts, embeddings)"
   ]
  },
  {
   "cell_type": "markdown",
   "metadata": {
    "pycharm": {
     "name": "#%% md\n"
    }
   },
   "source": [
    "<a id=\"models\"></a>\n",
    "## Foundation Models on `watsonx.ai`"
   ]
  },
  {
   "cell_type": "markdown",
   "metadata": {},
   "source": [
    "IBM watsonx foundation models are among the <a href=\"https://python.langchain.com/docs/integrations/llms/watsonxllm\" target=\"_blank\" rel=\"noopener no referrer\">list of LLM models supported by Langchain</a>. This example shows how to communicate with <a href=\"https://newsroom.ibm.com/2023-09-28-IBM-Announces-Availability-of-watsonx-Granite-Model-Series,-Client-Protections-for-IBM-watsonx-Models\" target=\"_blank\" rel=\"noopener no referrer\">Granite Model Series</a> using <a href=\"https://python.langchain.com/docs/get_started/introduction\" target=\"_blank\" rel=\"noopener no referrer\">Langchain</a>."
   ]
  },
  {
   "cell_type": "markdown",
   "metadata": {
    "pycharm": {
     "name": "#%% md\n"
    }
   },
   "source": [
    "### Defining model\n",
    "You need to specify `model_id` that will be used for inferencing:"
   ]
  },
  {
   "cell_type": "code",
   "execution_count": 38,
   "metadata": {
    "pycharm": {
     "name": "#%%\n"
    }
   },
   "outputs": [],
   "source": [
    "from ibm_watson_machine_learning.foundation_models.utils.enums import ModelTypes\n",
    "\n",
    "model_id = ModelTypes.GRANITE_13B_CHAT_V2"
   ]
  },
  {
   "cell_type": "markdown",
   "metadata": {
    "pycharm": {
     "name": "#%% md\n"
    }
   },
   "source": [
    "### Defining the model parameters\n",
    "We need to provide a set of model parameters that will influence the result:"
   ]
  },
  {
   "cell_type": "code",
   "execution_count": 39,
   "metadata": {
    "pycharm": {
     "name": "#%%\n"
    }
   },
   "outputs": [],
   "source": [
    "from ibm_watson_machine_learning.metanames import GenTextParamsMetaNames as GenParams\n",
    "from ibm_watson_machine_learning.foundation_models.utils.enums import DecodingMethods\n",
    "\n",
    "parameters = {\n",
    "    GenParams.DECODING_METHOD: DecodingMethods.GREEDY,\n",
    "    GenParams.MIN_NEW_TOKENS: 1,\n",
    "    GenParams.MAX_NEW_TOKENS: 100,\n",
    "    GenParams.STOP_SEQUENCES: [\"<|endoftext|>\"]\n",
    "}"
   ]
  },
  {
   "cell_type": "markdown",
   "metadata": {},
   "source": [
    "### LangChain CustomLLM wrapper for watsonx model\n",
    "Initialize the `WatsonxLLM` class from Langchain with defined parameters and `ibm/granite-13b-chat-v2`. "
   ]
  },
  {
   "cell_type": "code",
   "execution_count": 40,
   "metadata": {
    "pycharm": {
     "name": "#%%\n"
    }
   },
   "outputs": [],
   "source": [
    "from langchain.llms import WatsonxLLM\n",
    "\n",
    "watsonx_granite = WatsonxLLM(\n",
    "    model_id=model_id.value,\n",
    "    url=credentials.get(\"url\"),\n",
    "    apikey=credentials.get(\"apikey\"),\n",
    "    project_id=project_id,\n",
    "    params=parameters\n",
    ")"
   ]
  },
  {
   "cell_type": "markdown",
   "metadata": {
    "pycharm": {
     "name": "#%% md\n"
    }
   },
   "source": [
    "<a id=\"predict\"></a>\n",
    "## Generate a retrieval-augmented response to a question"
   ]
  },
  {
   "cell_type": "markdown",
   "metadata": {},
   "source": [
    "Build the `RetrievalQA` (question answering chain) to automate the RAG task."
   ]
  },
  {
   "cell_type": "code",
   "execution_count": 41,
   "metadata": {},
   "outputs": [],
   "source": [
    "from langchain.chains import RetrievalQA\n",
    "\n",
    "qa = RetrievalQA.from_chain_type(llm=watsonx_granite, chain_type=\"stuff\", retriever=docsearch.as_retriever())"
   ]
  },
  {
   "cell_type": "markdown",
   "metadata": {
    "pycharm": {
     "name": "#%% md\n"
    }
   },
   "source": [
    "### Select questions\n",
    "\n",
    "Get questions from the previously loaded test dataset."
   ]
  },
  {
   "cell_type": "code",
   "execution_count": 42,
   "metadata": {
    "pycharm": {
     "name": "#%%\n"
    }
   },
   "outputs": [
    {
     "data": {
      "text/plain": [
       "\" The president said that Ketanji Brown Jackson is one of our nation's top legal minds and will continue Justice Breyer's legacy of excellence.\""
      ]
     },
     "execution_count": 42,
     "metadata": {},
     "output_type": "execute_result"
    }
   ],
   "source": [
    "query = \"What did the president say about Ketanji Brown Jackson\"\n",
    "qa.run(query)"
   ]
  },
  {
   "cell_type": "markdown",
   "metadata": {
    "pycharm": {
     "name": "#%% md\n"
    }
   },
   "source": [
    "---"
   ]
  },
  {
   "cell_type": "markdown",
   "metadata": {
    "pycharm": {
     "name": "#%% md\n"
    }
   },
   "source": [
    "<a id=\"summary\"></a>\n",
    " \n",
    "Check out our _<a href=\"https://ibm.github.io/watson-machine-learning-sdk/samples.html\" target=\"_blank\" rel=\"noopener no referrer\">Online Documentation</a>_ for more samples, tutorials, documentation, how-tos, and blog posts. "
   ]
  }
 ],
 "metadata": {
  "kernelspec": {
   "display_name": "Python (textgen)",
   "language": "python",
   "name": "texgen"
  },
  "language_info": {
   "codemirror_mode": {
    "name": "ipython",
    "version": 3
   },
   "file_extension": ".py",
   "mimetype": "text/x-python",
   "name": "python",
   "nbconvert_exporter": "python",
   "pygments_lexer": "ipython3",
   "version": "3.10.9"
  }
 },
 "nbformat": 4,
 "nbformat_minor": 4
}
