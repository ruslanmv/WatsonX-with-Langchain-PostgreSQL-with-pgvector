{
 "cells": [
  {
   "cell_type": "markdown",
   "id": "f7437602",
   "metadata": {},
   "source": [
    "# Test"
   ]
  },
  {
   "cell_type": "code",
   "execution_count": 1,
   "id": "911272f2",
   "metadata": {},
   "outputs": [
    {
     "ename": "NameError",
     "evalue": "name 'get_embeddings' is not defined",
     "output_type": "error",
     "traceback": [
      "\u001b[1;31m---------------------------------------------------------------------------\u001b[0m",
      "\u001b[1;31mNameError\u001b[0m                                 Traceback (most recent call last)",
      "Cell \u001b[1;32mIn[1], line 11\u001b[0m\n\u001b[0;32m      1\u001b[0m \u001b[38;5;66;03m# add_test_data.py\u001b[39;00m\n\u001b[0;32m      2\u001b[0m \u001b[38;5;66;03m# Write five example sentences that will be converted to embeddings\u001b[39;00m\n\u001b[0;32m      3\u001b[0m texts \u001b[38;5;241m=\u001b[39m [\n\u001b[0;32m      4\u001b[0m     \u001b[38;5;124m\"\u001b[39m\u001b[38;5;124mI like to eat broccoli and bananas.\u001b[39m\u001b[38;5;124m\"\u001b[39m,\n\u001b[0;32m      5\u001b[0m     \u001b[38;5;124m\"\u001b[39m\u001b[38;5;124mI ate a banana and spinach smoothie for breakfast.\u001b[39m\u001b[38;5;124m\"\u001b[39m,\n\u001b[1;32m   (...)\u001b[0m\n\u001b[0;32m      8\u001b[0m     \u001b[38;5;124m\"\u001b[39m\u001b[38;5;124mLook at this cute hamster munching on a piece of broccoli.\u001b[39m\u001b[38;5;124m\"\u001b[39m,\n\u001b[0;32m      9\u001b[0m ]\n\u001b[1;32m---> 11\u001b[0m embeddings \u001b[38;5;241m=\u001b[39m \u001b[43mget_embeddings\u001b[49m(texts, os\u001b[38;5;241m.\u001b[39mgetenv(\u001b[38;5;124m'\u001b[39m\u001b[38;5;124mEMBEDDING_MODEL\u001b[39m\u001b[38;5;124m'\u001b[39m))\n\u001b[0;32m     13\u001b[0m \u001b[38;5;66;03m# Write text and embeddings to database\u001b[39;00m\n\u001b[0;32m     14\u001b[0m connection \u001b[38;5;241m=\u001b[39m create_db_connection()\n",
      "\u001b[1;31mNameError\u001b[0m: name 'get_embeddings' is not defined"
     ]
    }
   ],
   "source": [
    "# add_test_data.py\n",
    "# Write five example sentences that will be converted to embeddings\n",
    "texts = [\n",
    "    \"I like to eat broccoli and bananas.\",\n",
    "    \"I ate a banana and spinach smoothie for breakfast.\",\n",
    "    \"Chinchillas and kittens are cute.\",\n",
    "    \"My sister adopted a kitten yesterday.\",\n",
    "    \"Look at this cute hamster munching on a piece of broccoli.\",\n",
    "]\n",
    "\n",
    "embeddings = get_embeddings(texts, os.getenv('EMBEDDING_MODEL'))\n",
    "\n",
    "# Write text and embeddings to database\n",
    "connection = create_db_connection()\n",
    "cursor = connection.cursor()\n",
    "try:\n",
    "    for text, embedding in zip(texts, embeddings):\n",
    "        cursor.execute(\n",
    "            \"INSERT INTO embeddings (embedding, text) VALUES (%s, %s)\",\n",
    "            (embedding, text)\n",
    "        )\n",
    "    connection.commit()\n",
    "except (Exception, psycopg2.Error) as error:\n",
    "    print(\"Error while writing to DB\", error)\n",
    "finally:\n",
    "    if cursor:\n",
    "        cursor.close()\n",
    "    if connection:\n",
    "        connection.close()"
   ]
  },
  {
   "cell_type": "code",
   "execution_count": 2,
   "id": "1a21195a",
   "metadata": {},
   "outputs": [
    {
     "ename": "NameError",
     "evalue": "name 'get_embedding' is not defined",
     "output_type": "error",
     "traceback": [
      "\u001b[1;31m---------------------------------------------------------------------------\u001b[0m",
      "\u001b[1;31mNameError\u001b[0m                                 Traceback (most recent call last)",
      "Cell \u001b[1;32mIn[2], line 3\u001b[0m\n\u001b[0;32m      1\u001b[0m \u001b[38;5;66;03m# test_search.py\u001b[39;00m\n\u001b[0;32m      2\u001b[0m text \u001b[38;5;241m=\u001b[39m \u001b[38;5;124m\"\u001b[39m\u001b[38;5;124mDid anyone adopt a cat this weekend?\u001b[39m\u001b[38;5;124m\"\u001b[39m\n\u001b[1;32m----> 3\u001b[0m embedding \u001b[38;5;241m=\u001b[39m \u001b[43mget_embedding\u001b[49m(text, os\u001b[38;5;241m.\u001b[39mgetenv(\u001b[38;5;124m'\u001b[39m\u001b[38;5;124mEMBEDDING_MODEL\u001b[39m\u001b[38;5;124m'\u001b[39m))\n\u001b[0;32m      5\u001b[0m connection \u001b[38;5;241m=\u001b[39m create_db_connection()\n\u001b[0;32m      6\u001b[0m cursor \u001b[38;5;241m=\u001b[39m connection\u001b[38;5;241m.\u001b[39mcursor()\n",
      "\u001b[1;31mNameError\u001b[0m: name 'get_embedding' is not defined"
     ]
    }
   ],
   "source": [
    "# test_search.py\n",
    "text = \"Did anyone adopt a cat this weekend?\"\n",
    "embedding = get_embedding(text, os.getenv('EMBEDDING_MODEL'))\n",
    "\n",
    "connection = create_db_connection()\n",
    "cursor = connection.cursor()\n",
    "try:\n",
    "    cursor.execute(f\"\"\"\n",
    "        SELECT text,  1 - (embedding <=> '{embedding}') AS cosine_similarity\n",
    "        FROM embeddings\n",
    "        ORDER BY cosine_similarity desc\n",
    "        LIMIT 3\n",
    "    \"\"\")\n",
    "    for r in cursor.fetchall():\n",
    "        print(f\"Text: {r[0]}; Similarity: {r[1]}\")\n",
    "\n",
    "except Exception as error:\n",
    "    print(\"Error..\", error)\n",
    "finally:\n",
    "    cursor.close()"
   ]
  },
  {
   "cell_type": "code",
   "execution_count": null,
   "id": "8198e206",
   "metadata": {},
   "outputs": [],
   "source": []
  }
 ],
 "metadata": {
  "kernelspec": {
   "display_name": "Python (textgen)",
   "language": "python",
   "name": "texgen"
  },
  "language_info": {
   "codemirror_mode": {
    "name": "ipython",
    "version": 3
   },
   "file_extension": ".py",
   "mimetype": "text/x-python",
   "name": "python",
   "nbconvert_exporter": "python",
   "pygments_lexer": "ipython3",
   "version": "3.10.9"
  }
 },
 "nbformat": 4,
 "nbformat_minor": 5
}
